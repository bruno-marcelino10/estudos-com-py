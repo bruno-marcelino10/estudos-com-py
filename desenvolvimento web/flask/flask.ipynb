{
 "cells": [
  {
   "cell_type": "markdown",
   "metadata": {},
   "source": [
    "# Flask"
   ]
  },
  {
   "cell_type": "markdown",
   "metadata": {},
   "source": [
    "É um framework que contém sua própria coleção de módulos para desenvolvimento de aplicações a partir de regras e formatos pré-definidos. No caso do Flask, fica a cargo do desenvolvedor importar novos pacotes e funcionalidades criadas por outros usuários para compor o site. \n",
    "\n",
    "O Flask pode ser caracterizado como \"micro-framework full-stack\" por possuir todos os requisitos para desenvolvimento de aplicações web, desde a definição do template do site até a ligação com os bancos de dados que interagem com as aplicações e fornecem informações."
   ]
  },
  {
   "cell_type": "markdown",
   "metadata": {},
   "source": [
    "#### Sintaxe Básica"
   ]
  },
  {
   "cell_type": "code",
   "execution_count": 7,
   "metadata": {},
   "outputs": [
    {
     "name": "stdout",
     "output_type": "stream",
     "text": [
      " * Serving Flask app \"__main__\" (lazy loading)\n",
      " * Environment: production\n",
      "   WARNING: This is a development server. Do not use it in a production deployment.\n",
      "   Use a production WSGI server instead.\n",
      " * Debug mode: off\n"
     ]
    },
    {
     "name": "stderr",
     "output_type": "stream",
     "text": [
      " * Running on http://127.0.0.1:5000/ (Press CTRL+C to quit)\n"
     ]
    }
   ],
   "source": [
    "from flask import Flask\n",
    "\n",
    "app = Flask(__name__)\n",
    "\n",
    "@app.route(\"/\") # cria uma página para o site\n",
    "def home():\n",
    "    return \"Página Inicial\" # HTML da página\n",
    "\n",
    "if __name__ == \"__main__\":\n",
    "    app.run() # Roda o código. Setar \"debug = True\" permite atualizar a página enquanto adicionamos novas funcionalidades."
   ]
  },
  {
   "cell_type": "markdown",
   "metadata": {},
   "source": [
    "#### Templates\n",
    "\n",
    "São os códigos-fonte que estilizam cada página da aplicação web. O Flask recomenda que eles sejam inseridos dentro do projeto em uma pasta chamada \"templates\". "
   ]
  },
  {
   "cell_type": "code",
   "execution_count": null,
   "metadata": {},
   "outputs": [],
   "source": []
  }
 ],
 "metadata": {
  "kernelspec": {
   "display_name": "Python 3 (ipykernel)",
   "language": "python",
   "name": "python3"
  },
  "language_info": {
   "codemirror_mode": {
    "name": "ipython",
    "version": 3
   },
   "file_extension": ".py",
   "mimetype": "text/x-python",
   "name": "python",
   "nbconvert_exporter": "python",
   "pygments_lexer": "ipython3",
   "version": "3.8.5"
  }
 },
 "nbformat": 4,
 "nbformat_minor": 4
}
