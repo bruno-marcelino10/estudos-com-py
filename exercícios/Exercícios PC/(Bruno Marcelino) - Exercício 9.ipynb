{
 "cells": [
  {
   "cell_type": "markdown",
   "metadata": {},
   "source": [
    "# Exercício 1"
   ]
  },
  {
   "cell_type": "code",
   "execution_count": 1,
   "metadata": {},
   "outputs": [],
   "source": [
    "def exercicio_1(n):\n",
    "    lista = []\n",
    "    for i in range(1, n+1):\n",
    "        num_0 = i\n",
    "        num_1 = i**2\n",
    "        tupla = num_0, num_1\n",
    "        lista.append(tupla)\n",
    "    return lista"
   ]
  },
  {
   "cell_type": "markdown",
   "metadata": {},
   "source": [
    "# Exercício 2"
   ]
  },
  {
   "cell_type": "code",
   "execution_count": 5,
   "metadata": {},
   "outputs": [],
   "source": [
    "def exercicio_2(n):\n",
    "    lista = []\n",
    "    for i in range(1, n+1):\n",
    "        num_0 = i\n",
    "        num_1 = i**2\n",
    "        num_2 = i**3\n",
    "        tupla = num_0, num_1, num_2\n",
    "        lista.append(tupla)\n",
    "    return lista"
   ]
  },
  {
   "cell_type": "markdown",
   "metadata": {},
   "source": [
    "# Exercício 3"
   ]
  },
  {
   "cell_type": "code",
   "execution_count": 8,
   "metadata": {},
   "outputs": [],
   "source": [
    "def exercicio_3(tupla):\n",
    "    if len(tupla) == 0: \n",
    "        return []\n",
    "    else: \n",
    "        tupla_1 = tupla[:int(len(tupla)/2)]\n",
    "        tupla_2 = tupla[int(len(tupla)/2):]\n",
    "        return [tupla_1, tupla_2]"
   ]
  },
  {
   "cell_type": "markdown",
   "metadata": {},
   "source": [
    "# Exercício 4"
   ]
  },
  {
   "cell_type": "code",
   "execution_count": 10,
   "metadata": {},
   "outputs": [],
   "source": [
    "def exercicio_4(tupla):\n",
    "    pares = ()\n",
    "    impares = ()\n",
    "    for i in tupla:\n",
    "        if i % 2 == 0:\n",
    "            pares += (i,)\n",
    "        else:\n",
    "            impares += (i,)\n",
    "    return [pares, impares]"
   ]
  },
  {
   "cell_type": "markdown",
   "metadata": {},
   "source": [
    "# Exercício 5"
   ]
  },
  {
   "cell_type": "code",
   "execution_count": 13,
   "metadata": {},
   "outputs": [],
   "source": [
    "def exercicio_5(lista):\n",
    "    tupla = ()\n",
    "    for i in lista:\n",
    "        tupla += (i,)\n",
    "    return tupla "
   ]
  },
  {
   "cell_type": "markdown",
   "metadata": {},
   "source": [
    "# Exercício 6"
   ]
  },
  {
   "cell_type": "code",
   "execution_count": 17,
   "metadata": {},
   "outputs": [],
   "source": [
    "def exercicio_6(lista, n):\n",
    "    resultado = []\n",
    "    for i in lista:\n",
    "        resultado.append(i[:len(i)-1] + (n,))\n",
    "    return resultado"
   ]
  },
  {
   "cell_type": "markdown",
   "metadata": {},
   "source": [
    "# Exercício 7"
   ]
  },
  {
   "cell_type": "code",
   "execution_count": 20,
   "metadata": {},
   "outputs": [],
   "source": [
    "def exercicio_7(n):\n",
    "    lista = []\n",
    "    for i in range(1,101):\n",
    "        base = i\n",
    "        real = i/n\n",
    "        dolar = i*n\n",
    "        \n",
    "        lista.append((base, dolar))\n",
    "        lista.append((base, real))\n",
    "    return lista"
   ]
  },
  {
   "cell_type": "markdown",
   "metadata": {},
   "source": [
    "# Exercício 8"
   ]
  },
  {
   "cell_type": "code",
   "execution_count": 38,
   "metadata": {},
   "outputs": [],
   "source": [
    "def exercicio_8(lista):\n",
    "    string = \"\"\n",
    "    for i in range(len(lista)):\n",
    "        i_0 = format(lista[i][0], \"6.2f\")\n",
    "        i_1 = format(lista[i][1], \"6.2f\")\n",
    "\n",
    "        if i % 2 == 0:\n",
    "            string_1 = \"US$\" + i_0 + \" = R$\" + i_1 + \"\\t\"\n",
    "            string += string_1\n",
    "        else:\n",
    "            string_2 = \"R$\" + i_0 + \" = US$\" + i_1 + \"\\n\" + (\"-\" * 20) + \"\\t\" + (\"-\" * 20) + \"\\n\"\n",
    "            string += string_2\n",
    "        \n",
    "    return string[:-1]"
   ]
  }
 ],
 "metadata": {
  "kernelspec": {
   "display_name": "Python 3 (ipykernel)",
   "language": "python",
   "name": "python3"
  },
  "language_info": {
   "codemirror_mode": {
    "name": "ipython",
    "version": 3
   },
   "file_extension": ".py",
   "mimetype": "text/x-python",
   "name": "python",
   "nbconvert_exporter": "python",
   "pygments_lexer": "ipython3",
   "version": "3.8.5"
  }
 },
 "nbformat": 4,
 "nbformat_minor": 4
}
