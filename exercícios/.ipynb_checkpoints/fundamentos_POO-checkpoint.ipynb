{
 "cells": [
  {
   "cell_type": "code",
   "execution_count": 4,
   "metadata": {},
   "outputs": [
    {
     "name": "stdout",
     "output_type": "stream",
     "text": [
      "2006\n",
      "Focus 9021// Ford 2006\n",
      "2001\n"
     ]
    }
   ],
   "source": [
    "class Carro:\n",
    "    #modelo empresa ano\n",
    "    def __str__(self): # O que será mostrado quando printarmos o objeto\n",
    "        return(self.modelo + \" 9021// \" + self.empresa + \" \" + str(self.ano))\n",
    "\n",
    "    def __init__(self, modelo, empresa, ano): # Requisitos para criar uma classe\n",
    "        self.modelo = modelo # Atributos da classe que podem ser chamados com objeto.atributo\n",
    "        self.empresa = empresa\n",
    "        self.ano = ano\n",
    "\n",
    "    def mudar_ano(self, ano_novo): # Função (método) que só se aplica aos elementos da classe\n",
    "        self.ano = ano_novo # alterando novamente um atributo da classe\n",
    "\n",
    "#\n",
    "carro = Carro(\"Focus\", \"Ford\", 2006) # Criando um objeto do tipo Carro\n",
    "print(carro) # retorna algo\n",
    "\n",
    "print(carro.ano) # retorna um atributo do carro\n",
    "\n",
    "carro.mudar_ano(2001) # retorna um método aplicável ao carro \n",
    "print(carro.ano) # a função alterou o atributo do carro "
   ]
  }
 ],
 "metadata": {
  "kernelspec": {
   "display_name": "Python 3 (ipykernel)",
   "language": "python",
   "name": "python3"
  },
  "language_info": {
   "codemirror_mode": {
    "name": "ipython",
    "version": 3
   },
   "file_extension": ".py",
   "mimetype": "text/x-python",
   "name": "python",
   "nbconvert_exporter": "python",
   "pygments_lexer": "ipython3",
   "version": "3.8.5"
  }
 },
 "nbformat": 4,
 "nbformat_minor": 4
}
