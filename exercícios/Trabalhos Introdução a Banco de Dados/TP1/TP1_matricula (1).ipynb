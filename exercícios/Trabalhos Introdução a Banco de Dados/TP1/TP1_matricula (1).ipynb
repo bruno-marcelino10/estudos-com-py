{
  "cells": [
    {
      "cell_type": "markdown",
      "source": [
        "# TRABALHO PRÁTICO 1 \n"
      ],
      "metadata": {
        "id": "eBY8RGfz2E1j"
      }
    },
    {
      "cell_type": "markdown",
      "source": [
        "  O objetivo desse trabalho é avaliar a capacidade do aluno de gerar consultas em SQL a partir das questões propostas. Um Banco de Dados foi adaptado exclusivamente para esta tarefa, a partir dos dados de Documento de Empenho, Liquidação e Pagamento, disponibilizados em: \n",
        "*   [Portal da Transparência - Despesas](https://portaldatransparencia.gov.br/download-de-dados/despesas)"
      ],
      "metadata": {
        "id": "TEgetfHo13ri"
      }
    },
    {
      "cell_type": "markdown",
      "source": [
        "**IMPORTANTE**: \n",
        "\n",
        "1.   Altere apenas dentro das aspas duplas onde estiver escrito *Altere Aqui*. \n",
        "2.   Não serão necessárias alterações em funções ou outras partes do código.\n",
        "3.   Após finalizar todas as consultas, clique em *Kernel -> Restart and Run All* no ambiente Jupyter.\n",
        "4.   Altere o nome do arquivo *TP1_matricula.ipynb* adicionando o seu número de matrícula substituindo onde está escrito matrícula.\n",
        "5.   Um arquivo *.csv* com a sua matrícula será gerado automaticamente no diretório do ambiente. \n",
        "6.   Compactar os arquivos *TP1_matricula.ipynb* e *matricula.csv* em *matricula.zip* e submeter na tarefa criada para o TP1 via Moodle.\n",
        "\n",
        "\n",
        "\n"
      ],
      "metadata": {
        "id": "gQabrrBfOLLh"
      }
    },
    {
      "cell_type": "code",
      "source": [
        "#NÃO ALTERE AS LINHAS ABAIXO\n",
        "import sys\n",
        "!{sys.executable} -m pip install sqlite3\n",
        "!{sys.executable} -m pip install pandas\n",
        "!{sys.executable} -m pip install csv\n",
        "!{sys.executable} -m pip install gdown"
      ],
      "metadata": {
        "colab": {
          "base_uri": "https://localhost:8080/"
        },
        "id": "6FnNsp038eNA",
        "outputId": "6e989214-fc84-4eeb-db7a-90e833b2c736"
      },
      "execution_count": null,
      "outputs": [
        {
          "output_type": "stream",
          "name": "stdout",
          "text": [
            "Looking in indexes: https://pypi.org/simple, https://us-python.pkg.dev/colab-wheels/public/simple/\n",
            "\u001b[31mERROR: Could not find a version that satisfies the requirement sqlite3 (from versions: none)\u001b[0m\u001b[31m\n",
            "\u001b[0m\u001b[31mERROR: No matching distribution found for sqlite3\u001b[0m\u001b[31m\n",
            "\u001b[0mLooking in indexes: https://pypi.org/simple, https://us-python.pkg.dev/colab-wheels/public/simple/\n",
            "Requirement already satisfied: pandas in /usr/local/lib/python3.10/dist-packages (1.5.3)\n",
            "Requirement already satisfied: python-dateutil>=2.8.1 in /usr/local/lib/python3.10/dist-packages (from pandas) (2.8.2)\n",
            "Requirement already satisfied: pytz>=2020.1 in /usr/local/lib/python3.10/dist-packages (from pandas) (2022.7.1)\n",
            "Requirement already satisfied: numpy>=1.21.0 in /usr/local/lib/python3.10/dist-packages (from pandas) (1.22.4)\n",
            "Requirement already satisfied: six>=1.5 in /usr/local/lib/python3.10/dist-packages (from python-dateutil>=2.8.1->pandas) (1.16.0)\n",
            "Looking in indexes: https://pypi.org/simple, https://us-python.pkg.dev/colab-wheels/public/simple/\n",
            "\u001b[31mERROR: Could not find a version that satisfies the requirement csv (from versions: none)\u001b[0m\u001b[31m\n",
            "\u001b[0m\u001b[31mERROR: No matching distribution found for csv\u001b[0m\u001b[31m\n",
            "\u001b[0mLooking in indexes: https://pypi.org/simple, https://us-python.pkg.dev/colab-wheels/public/simple/\n",
            "Requirement already satisfied: gdown in /usr/local/lib/python3.10/dist-packages (4.6.6)\n",
            "Requirement already satisfied: filelock in /usr/local/lib/python3.10/dist-packages (from gdown) (3.12.0)\n",
            "Requirement already satisfied: requests[socks] in /usr/local/lib/python3.10/dist-packages (from gdown) (2.27.1)\n",
            "Requirement already satisfied: six in /usr/local/lib/python3.10/dist-packages (from gdown) (1.16.0)\n",
            "Requirement already satisfied: tqdm in /usr/local/lib/python3.10/dist-packages (from gdown) (4.65.0)\n",
            "Requirement already satisfied: beautifulsoup4 in /usr/local/lib/python3.10/dist-packages (from gdown) (4.11.2)\n",
            "Requirement already satisfied: soupsieve>1.2 in /usr/local/lib/python3.10/dist-packages (from beautifulsoup4->gdown) (2.4.1)\n",
            "Requirement already satisfied: urllib3<1.27,>=1.21.1 in /usr/local/lib/python3.10/dist-packages (from requests[socks]->gdown) (1.26.15)\n",
            "Requirement already satisfied: certifi>=2017.4.17 in /usr/local/lib/python3.10/dist-packages (from requests[socks]->gdown) (2022.12.7)\n",
            "Requirement already satisfied: charset-normalizer~=2.0.0 in /usr/local/lib/python3.10/dist-packages (from requests[socks]->gdown) (2.0.12)\n",
            "Requirement already satisfied: idna<4,>=2.5 in /usr/local/lib/python3.10/dist-packages (from requests[socks]->gdown) (3.4)\n",
            "Requirement already satisfied: PySocks!=1.5.7,>=1.5.6 in /usr/local/lib/python3.10/dist-packages (from requests[socks]->gdown) (1.7.1)\n"
          ]
        }
      ]
    },
    {
      "cell_type": "code",
      "execution_count": null,
      "metadata": {
        "id": "UTEN6eIxoIW2"
      },
      "outputs": [],
      "source": [
        "#NÃO ALTERE AS LINHAS ABAIXO\n",
        "import sqlite3 as sql3\n",
        "import pandas as pd\n",
        "import csv\n",
        "import gdown"
      ]
    },
    {
      "cell_type": "markdown",
      "source": [
        "## Banco de Dados\n",
        "Caso queira, você poderá fazer o download do banco de dados para explorá-lo:\n",
        "*   [Banco de Dados - Despesas de Empenho](https://drive.google.com/file/d/1-dcxPb7DhPfBC1EQg2VzTXvTH28KxXH8/view?usp=share_link) \n",
        "\n",
        "**OBS**: Esse processo não é necessário para execução do trabalho, pois tudo o que você irá precisar, o próprio notebook já irá buscar, gerar e conectar ao banco fornecido, nas células 2 e 3."
      ],
      "metadata": {
        "id": "MZfJfrgrOdUz"
      }
    },
    {
      "cell_type": "code",
      "execution_count": null,
      "metadata": {
        "colab": {
          "base_uri": "https://localhost:8080/"
        },
        "id": "UrY52E3oowC-",
        "outputId": "cb401781-2bc0-49c9-eb9a-ffa624d8f5a9"
      },
      "outputs": [
        {
          "output_type": "stream",
          "name": "stdout",
          "text": [
            "Downloading...\n",
            "From: https://drive.google.com/uc?id=1-dcxPb7DhPfBC1EQg2VzTXvTH28KxXH8\n",
            "To: /content/bancoDadosDespesas.sql\n",
            "\r  0% 0.00/41.4k [00:00<?, ?B/s]\r100% 41.4k/41.4k [00:00<00:00, 68.6MB/s]\n"
          ]
        }
      ],
      "source": [
        "#NÃO ALTERE AS LINHAS ABAIXO\n",
        "!gdown \"1-dcxPb7DhPfBC1EQg2VzTXvTH28KxXH8\""
      ]
    },
    {
      "cell_type": "code",
      "source": [
        "#NÃO ALTERE AS LINHAS ABAIXO\n",
        "con = sql3.connect(\":memory:\")\n",
        "sql_file = open('bancoDadosDespesas.sql', encoding=\"utf8\")\n",
        "cur = con.cursor()\n",
        "db = sql_file.read()\n",
        "cur.executescript(db)\n",
        "con.commit()"
      ],
      "metadata": {
        "id": "DfPu88XYnWvM"
      },
      "execution_count": null,
      "outputs": []
    },
    {
      "cell_type": "markdown",
      "source": [
        "## Estrutura das Tabelas do Banco de Dados Despesas\n",
        "\n",
        "Nas células de 5 a 9 abaixo, estão listadas as informações referentes aos campos e tipos de dados relacionados a todas as tabelas do Banco de Dados Despesas:"
      ],
      "metadata": {
        "id": "-3YwrO_-l2WZ"
      }
    },
    {
      "cell_type": "markdown",
      "source": [
        "### TABELA EMPENHO"
      ],
      "metadata": {
        "id": "YNbhzCECo-cG"
      }
    },
    {
      "cell_type": "code",
      "source": [
        "#NÃO ALTERE AS LINHAS ABAIXO\n",
        "query = \"PRAGMA table_info('empenho')\"\n",
        "df = pd.read_sql(query, con)\n",
        "display(df)"
      ],
      "metadata": {
        "colab": {
          "base_uri": "https://localhost:8080/",
          "height": 300
        },
        "id": "8jkvRmLal28e",
        "outputId": "2976e175-12ff-423a-cbc1-b9386d9da76d"
      },
      "execution_count": null,
      "outputs": [
        {
          "output_type": "display_data",
          "data": {
            "text/plain": [
              "   cid            name                    type  notnull dflt_value  pk\n",
              "0    0      id_empenho                 integer        0       None   1\n",
              "1    1      id_unidade                 integer        1       None   0\n",
              "2    2   id_favorecido                 integer        1       None   0\n",
              "3    3  codigo_empenho   character varying(50)        1       None   0\n",
              "4    4    data_emissao                    date        1       None   0\n",
              "5    5      observacao  character varying(500)        0       None   0\n",
              "6    6        processo  character varying(100)        1       None   0\n",
              "7    7   valor_empenho                 numeric        1       None   0"
            ],
            "text/html": [
              "\n",
              "  <div id=\"df-936aadc2-7251-44a7-adc4-4d581db224a9\">\n",
              "    <div class=\"colab-df-container\">\n",
              "      <div>\n",
              "<style scoped>\n",
              "    .dataframe tbody tr th:only-of-type {\n",
              "        vertical-align: middle;\n",
              "    }\n",
              "\n",
              "    .dataframe tbody tr th {\n",
              "        vertical-align: top;\n",
              "    }\n",
              "\n",
              "    .dataframe thead th {\n",
              "        text-align: right;\n",
              "    }\n",
              "</style>\n",
              "<table border=\"1\" class=\"dataframe\">\n",
              "  <thead>\n",
              "    <tr style=\"text-align: right;\">\n",
              "      <th></th>\n",
              "      <th>cid</th>\n",
              "      <th>name</th>\n",
              "      <th>type</th>\n",
              "      <th>notnull</th>\n",
              "      <th>dflt_value</th>\n",
              "      <th>pk</th>\n",
              "    </tr>\n",
              "  </thead>\n",
              "  <tbody>\n",
              "    <tr>\n",
              "      <th>0</th>\n",
              "      <td>0</td>\n",
              "      <td>id_empenho</td>\n",
              "      <td>integer</td>\n",
              "      <td>0</td>\n",
              "      <td>None</td>\n",
              "      <td>1</td>\n",
              "    </tr>\n",
              "    <tr>\n",
              "      <th>1</th>\n",
              "      <td>1</td>\n",
              "      <td>id_unidade</td>\n",
              "      <td>integer</td>\n",
              "      <td>1</td>\n",
              "      <td>None</td>\n",
              "      <td>0</td>\n",
              "    </tr>\n",
              "    <tr>\n",
              "      <th>2</th>\n",
              "      <td>2</td>\n",
              "      <td>id_favorecido</td>\n",
              "      <td>integer</td>\n",
              "      <td>1</td>\n",
              "      <td>None</td>\n",
              "      <td>0</td>\n",
              "    </tr>\n",
              "    <tr>\n",
              "      <th>3</th>\n",
              "      <td>3</td>\n",
              "      <td>codigo_empenho</td>\n",
              "      <td>character varying(50)</td>\n",
              "      <td>1</td>\n",
              "      <td>None</td>\n",
              "      <td>0</td>\n",
              "    </tr>\n",
              "    <tr>\n",
              "      <th>4</th>\n",
              "      <td>4</td>\n",
              "      <td>data_emissao</td>\n",
              "      <td>date</td>\n",
              "      <td>1</td>\n",
              "      <td>None</td>\n",
              "      <td>0</td>\n",
              "    </tr>\n",
              "    <tr>\n",
              "      <th>5</th>\n",
              "      <td>5</td>\n",
              "      <td>observacao</td>\n",
              "      <td>character varying(500)</td>\n",
              "      <td>0</td>\n",
              "      <td>None</td>\n",
              "      <td>0</td>\n",
              "    </tr>\n",
              "    <tr>\n",
              "      <th>6</th>\n",
              "      <td>6</td>\n",
              "      <td>processo</td>\n",
              "      <td>character varying(100)</td>\n",
              "      <td>1</td>\n",
              "      <td>None</td>\n",
              "      <td>0</td>\n",
              "    </tr>\n",
              "    <tr>\n",
              "      <th>7</th>\n",
              "      <td>7</td>\n",
              "      <td>valor_empenho</td>\n",
              "      <td>numeric</td>\n",
              "      <td>1</td>\n",
              "      <td>None</td>\n",
              "      <td>0</td>\n",
              "    </tr>\n",
              "  </tbody>\n",
              "</table>\n",
              "</div>\n",
              "      <button class=\"colab-df-convert\" onclick=\"convertToInteractive('df-936aadc2-7251-44a7-adc4-4d581db224a9')\"\n",
              "              title=\"Convert this dataframe to an interactive table.\"\n",
              "              style=\"display:none;\">\n",
              "        \n",
              "  <svg xmlns=\"http://www.w3.org/2000/svg\" height=\"24px\"viewBox=\"0 0 24 24\"\n",
              "       width=\"24px\">\n",
              "    <path d=\"M0 0h24v24H0V0z\" fill=\"none\"/>\n",
              "    <path d=\"M18.56 5.44l.94 2.06.94-2.06 2.06-.94-2.06-.94-.94-2.06-.94 2.06-2.06.94zm-11 1L8.5 8.5l.94-2.06 2.06-.94-2.06-.94L8.5 2.5l-.94 2.06-2.06.94zm10 10l.94 2.06.94-2.06 2.06-.94-2.06-.94-.94-2.06-.94 2.06-2.06.94z\"/><path d=\"M17.41 7.96l-1.37-1.37c-.4-.4-.92-.59-1.43-.59-.52 0-1.04.2-1.43.59L10.3 9.45l-7.72 7.72c-.78.78-.78 2.05 0 2.83L4 21.41c.39.39.9.59 1.41.59.51 0 1.02-.2 1.41-.59l7.78-7.78 2.81-2.81c.8-.78.8-2.07 0-2.86zM5.41 20L4 18.59l7.72-7.72 1.47 1.35L5.41 20z\"/>\n",
              "  </svg>\n",
              "      </button>\n",
              "      \n",
              "  <style>\n",
              "    .colab-df-container {\n",
              "      display:flex;\n",
              "      flex-wrap:wrap;\n",
              "      gap: 12px;\n",
              "    }\n",
              "\n",
              "    .colab-df-convert {\n",
              "      background-color: #E8F0FE;\n",
              "      border: none;\n",
              "      border-radius: 50%;\n",
              "      cursor: pointer;\n",
              "      display: none;\n",
              "      fill: #1967D2;\n",
              "      height: 32px;\n",
              "      padding: 0 0 0 0;\n",
              "      width: 32px;\n",
              "    }\n",
              "\n",
              "    .colab-df-convert:hover {\n",
              "      background-color: #E2EBFA;\n",
              "      box-shadow: 0px 1px 2px rgba(60, 64, 67, 0.3), 0px 1px 3px 1px rgba(60, 64, 67, 0.15);\n",
              "      fill: #174EA6;\n",
              "    }\n",
              "\n",
              "    [theme=dark] .colab-df-convert {\n",
              "      background-color: #3B4455;\n",
              "      fill: #D2E3FC;\n",
              "    }\n",
              "\n",
              "    [theme=dark] .colab-df-convert:hover {\n",
              "      background-color: #434B5C;\n",
              "      box-shadow: 0px 1px 3px 1px rgba(0, 0, 0, 0.15);\n",
              "      filter: drop-shadow(0px 1px 2px rgba(0, 0, 0, 0.3));\n",
              "      fill: #FFFFFF;\n",
              "    }\n",
              "  </style>\n",
              "\n",
              "      <script>\n",
              "        const buttonEl =\n",
              "          document.querySelector('#df-936aadc2-7251-44a7-adc4-4d581db224a9 button.colab-df-convert');\n",
              "        buttonEl.style.display =\n",
              "          google.colab.kernel.accessAllowed ? 'block' : 'none';\n",
              "\n",
              "        async function convertToInteractive(key) {\n",
              "          const element = document.querySelector('#df-936aadc2-7251-44a7-adc4-4d581db224a9');\n",
              "          const dataTable =\n",
              "            await google.colab.kernel.invokeFunction('convertToInteractive',\n",
              "                                                     [key], {});\n",
              "          if (!dataTable) return;\n",
              "\n",
              "          const docLinkHtml = 'Like what you see? Visit the ' +\n",
              "            '<a target=\"_blank\" href=https://colab.research.google.com/notebooks/data_table.ipynb>data table notebook</a>'\n",
              "            + ' to learn more about interactive tables.';\n",
              "          element.innerHTML = '';\n",
              "          dataTable['output_type'] = 'display_data';\n",
              "          await google.colab.output.renderOutput(dataTable, element);\n",
              "          const docLink = document.createElement('div');\n",
              "          docLink.innerHTML = docLinkHtml;\n",
              "          element.appendChild(docLink);\n",
              "        }\n",
              "      </script>\n",
              "    </div>\n",
              "  </div>\n",
              "  "
            ]
          },
          "metadata": {}
        }
      ]
    },
    {
      "cell_type": "markdown",
      "source": [
        "### TABELA FAVORECIDO"
      ],
      "metadata": {
        "id": "8hfCV641pC9H"
      }
    },
    {
      "cell_type": "code",
      "source": [
        "#NÃO ALTERE AS LINHAS ABAIXO\n",
        "query = \"PRAGMA table_info('favorecido')\"\n",
        "df = pd.read_sql(query, con)\n",
        "display(df)"
      ],
      "metadata": {
        "colab": {
          "base_uri": "https://localhost:8080/",
          "height": 143
        },
        "id": "KixV7M2lpIue",
        "outputId": "2c35e73c-3b14-4c88-e0af-f8358cabd80c"
      },
      "execution_count": null,
      "outputs": [
        {
          "output_type": "display_data",
          "data": {
            "text/plain": [
              "   cid             name                    type  notnull dflt_value  pk\n",
              "0    0    id_favorecido                 integer        0       None   1\n",
              "1    1  nome_fornecedor  character varying(100)        1       None   0\n",
              "2    2               uf    character varying(2)        1       None   0"
            ],
            "text/html": [
              "\n",
              "  <div id=\"df-30cee6d5-54ad-44bf-a9ab-2ee092974073\">\n",
              "    <div class=\"colab-df-container\">\n",
              "      <div>\n",
              "<style scoped>\n",
              "    .dataframe tbody tr th:only-of-type {\n",
              "        vertical-align: middle;\n",
              "    }\n",
              "\n",
              "    .dataframe tbody tr th {\n",
              "        vertical-align: top;\n",
              "    }\n",
              "\n",
              "    .dataframe thead th {\n",
              "        text-align: right;\n",
              "    }\n",
              "</style>\n",
              "<table border=\"1\" class=\"dataframe\">\n",
              "  <thead>\n",
              "    <tr style=\"text-align: right;\">\n",
              "      <th></th>\n",
              "      <th>cid</th>\n",
              "      <th>name</th>\n",
              "      <th>type</th>\n",
              "      <th>notnull</th>\n",
              "      <th>dflt_value</th>\n",
              "      <th>pk</th>\n",
              "    </tr>\n",
              "  </thead>\n",
              "  <tbody>\n",
              "    <tr>\n",
              "      <th>0</th>\n",
              "      <td>0</td>\n",
              "      <td>id_favorecido</td>\n",
              "      <td>integer</td>\n",
              "      <td>0</td>\n",
              "      <td>None</td>\n",
              "      <td>1</td>\n",
              "    </tr>\n",
              "    <tr>\n",
              "      <th>1</th>\n",
              "      <td>1</td>\n",
              "      <td>nome_fornecedor</td>\n",
              "      <td>character varying(100)</td>\n",
              "      <td>1</td>\n",
              "      <td>None</td>\n",
              "      <td>0</td>\n",
              "    </tr>\n",
              "    <tr>\n",
              "      <th>2</th>\n",
              "      <td>2</td>\n",
              "      <td>uf</td>\n",
              "      <td>character varying(2)</td>\n",
              "      <td>1</td>\n",
              "      <td>None</td>\n",
              "      <td>0</td>\n",
              "    </tr>\n",
              "  </tbody>\n",
              "</table>\n",
              "</div>\n",
              "      <button class=\"colab-df-convert\" onclick=\"convertToInteractive('df-30cee6d5-54ad-44bf-a9ab-2ee092974073')\"\n",
              "              title=\"Convert this dataframe to an interactive table.\"\n",
              "              style=\"display:none;\">\n",
              "        \n",
              "  <svg xmlns=\"http://www.w3.org/2000/svg\" height=\"24px\"viewBox=\"0 0 24 24\"\n",
              "       width=\"24px\">\n",
              "    <path d=\"M0 0h24v24H0V0z\" fill=\"none\"/>\n",
              "    <path d=\"M18.56 5.44l.94 2.06.94-2.06 2.06-.94-2.06-.94-.94-2.06-.94 2.06-2.06.94zm-11 1L8.5 8.5l.94-2.06 2.06-.94-2.06-.94L8.5 2.5l-.94 2.06-2.06.94zm10 10l.94 2.06.94-2.06 2.06-.94-2.06-.94-.94-2.06-.94 2.06-2.06.94z\"/><path d=\"M17.41 7.96l-1.37-1.37c-.4-.4-.92-.59-1.43-.59-.52 0-1.04.2-1.43.59L10.3 9.45l-7.72 7.72c-.78.78-.78 2.05 0 2.83L4 21.41c.39.39.9.59 1.41.59.51 0 1.02-.2 1.41-.59l7.78-7.78 2.81-2.81c.8-.78.8-2.07 0-2.86zM5.41 20L4 18.59l7.72-7.72 1.47 1.35L5.41 20z\"/>\n",
              "  </svg>\n",
              "      </button>\n",
              "      \n",
              "  <style>\n",
              "    .colab-df-container {\n",
              "      display:flex;\n",
              "      flex-wrap:wrap;\n",
              "      gap: 12px;\n",
              "    }\n",
              "\n",
              "    .colab-df-convert {\n",
              "      background-color: #E8F0FE;\n",
              "      border: none;\n",
              "      border-radius: 50%;\n",
              "      cursor: pointer;\n",
              "      display: none;\n",
              "      fill: #1967D2;\n",
              "      height: 32px;\n",
              "      padding: 0 0 0 0;\n",
              "      width: 32px;\n",
              "    }\n",
              "\n",
              "    .colab-df-convert:hover {\n",
              "      background-color: #E2EBFA;\n",
              "      box-shadow: 0px 1px 2px rgba(60, 64, 67, 0.3), 0px 1px 3px 1px rgba(60, 64, 67, 0.15);\n",
              "      fill: #174EA6;\n",
              "    }\n",
              "\n",
              "    [theme=dark] .colab-df-convert {\n",
              "      background-color: #3B4455;\n",
              "      fill: #D2E3FC;\n",
              "    }\n",
              "\n",
              "    [theme=dark] .colab-df-convert:hover {\n",
              "      background-color: #434B5C;\n",
              "      box-shadow: 0px 1px 3px 1px rgba(0, 0, 0, 0.15);\n",
              "      filter: drop-shadow(0px 1px 2px rgba(0, 0, 0, 0.3));\n",
              "      fill: #FFFFFF;\n",
              "    }\n",
              "  </style>\n",
              "\n",
              "      <script>\n",
              "        const buttonEl =\n",
              "          document.querySelector('#df-30cee6d5-54ad-44bf-a9ab-2ee092974073 button.colab-df-convert');\n",
              "        buttonEl.style.display =\n",
              "          google.colab.kernel.accessAllowed ? 'block' : 'none';\n",
              "\n",
              "        async function convertToInteractive(key) {\n",
              "          const element = document.querySelector('#df-30cee6d5-54ad-44bf-a9ab-2ee092974073');\n",
              "          const dataTable =\n",
              "            await google.colab.kernel.invokeFunction('convertToInteractive',\n",
              "                                                     [key], {});\n",
              "          if (!dataTable) return;\n",
              "\n",
              "          const docLinkHtml = 'Like what you see? Visit the ' +\n",
              "            '<a target=\"_blank\" href=https://colab.research.google.com/notebooks/data_table.ipynb>data table notebook</a>'\n",
              "            + ' to learn more about interactive tables.';\n",
              "          element.innerHTML = '';\n",
              "          dataTable['output_type'] = 'display_data';\n",
              "          await google.colab.output.renderOutput(dataTable, element);\n",
              "          const docLink = document.createElement('div');\n",
              "          docLink.innerHTML = docLinkHtml;\n",
              "          element.appendChild(docLink);\n",
              "        }\n",
              "      </script>\n",
              "    </div>\n",
              "  </div>\n",
              "  "
            ]
          },
          "metadata": {}
        }
      ]
    },
    {
      "cell_type": "markdown",
      "source": [
        "### TABELA ITEM_EMPENHO"
      ],
      "metadata": {
        "id": "D3Rt9RGApJIc"
      }
    },
    {
      "cell_type": "code",
      "source": [
        "#NÃO ALTERE AS LINHAS ABAIXO\n",
        "query = \"PRAGMA table_info('item_empenho')\"\n",
        "df = pd.read_sql(query, con)\n",
        "display(df)"
      ],
      "metadata": {
        "colab": {
          "base_uri": "https://localhost:8080/",
          "height": 206
        },
        "id": "ipQyCv7EpLif",
        "outputId": "c8fa00db-ec1d-49dd-e228-0d30e932668d"
      },
      "execution_count": null,
      "outputs": [
        {
          "output_type": "display_data",
          "data": {
            "text/plain": [
              "   cid              name                     type  notnull dflt_value  pk\n",
              "0    0   id_item_empenho                  integer        0       None   1\n",
              "1    1        id_empenho                  integer        1       None   0\n",
              "2    2         descricao  character varying(1000)        1       None   0\n",
              "3    3        quantidade                  integer        1       None   0\n",
              "4    4  valor_total_item                  numeric        1       None   0"
            ],
            "text/html": [
              "\n",
              "  <div id=\"df-35aba820-6251-4a02-ba9a-3093252c2401\">\n",
              "    <div class=\"colab-df-container\">\n",
              "      <div>\n",
              "<style scoped>\n",
              "    .dataframe tbody tr th:only-of-type {\n",
              "        vertical-align: middle;\n",
              "    }\n",
              "\n",
              "    .dataframe tbody tr th {\n",
              "        vertical-align: top;\n",
              "    }\n",
              "\n",
              "    .dataframe thead th {\n",
              "        text-align: right;\n",
              "    }\n",
              "</style>\n",
              "<table border=\"1\" class=\"dataframe\">\n",
              "  <thead>\n",
              "    <tr style=\"text-align: right;\">\n",
              "      <th></th>\n",
              "      <th>cid</th>\n",
              "      <th>name</th>\n",
              "      <th>type</th>\n",
              "      <th>notnull</th>\n",
              "      <th>dflt_value</th>\n",
              "      <th>pk</th>\n",
              "    </tr>\n",
              "  </thead>\n",
              "  <tbody>\n",
              "    <tr>\n",
              "      <th>0</th>\n",
              "      <td>0</td>\n",
              "      <td>id_item_empenho</td>\n",
              "      <td>integer</td>\n",
              "      <td>0</td>\n",
              "      <td>None</td>\n",
              "      <td>1</td>\n",
              "    </tr>\n",
              "    <tr>\n",
              "      <th>1</th>\n",
              "      <td>1</td>\n",
              "      <td>id_empenho</td>\n",
              "      <td>integer</td>\n",
              "      <td>1</td>\n",
              "      <td>None</td>\n",
              "      <td>0</td>\n",
              "    </tr>\n",
              "    <tr>\n",
              "      <th>2</th>\n",
              "      <td>2</td>\n",
              "      <td>descricao</td>\n",
              "      <td>character varying(1000)</td>\n",
              "      <td>1</td>\n",
              "      <td>None</td>\n",
              "      <td>0</td>\n",
              "    </tr>\n",
              "    <tr>\n",
              "      <th>3</th>\n",
              "      <td>3</td>\n",
              "      <td>quantidade</td>\n",
              "      <td>integer</td>\n",
              "      <td>1</td>\n",
              "      <td>None</td>\n",
              "      <td>0</td>\n",
              "    </tr>\n",
              "    <tr>\n",
              "      <th>4</th>\n",
              "      <td>4</td>\n",
              "      <td>valor_total_item</td>\n",
              "      <td>numeric</td>\n",
              "      <td>1</td>\n",
              "      <td>None</td>\n",
              "      <td>0</td>\n",
              "    </tr>\n",
              "  </tbody>\n",
              "</table>\n",
              "</div>\n",
              "      <button class=\"colab-df-convert\" onclick=\"convertToInteractive('df-35aba820-6251-4a02-ba9a-3093252c2401')\"\n",
              "              title=\"Convert this dataframe to an interactive table.\"\n",
              "              style=\"display:none;\">\n",
              "        \n",
              "  <svg xmlns=\"http://www.w3.org/2000/svg\" height=\"24px\"viewBox=\"0 0 24 24\"\n",
              "       width=\"24px\">\n",
              "    <path d=\"M0 0h24v24H0V0z\" fill=\"none\"/>\n",
              "    <path d=\"M18.56 5.44l.94 2.06.94-2.06 2.06-.94-2.06-.94-.94-2.06-.94 2.06-2.06.94zm-11 1L8.5 8.5l.94-2.06 2.06-.94-2.06-.94L8.5 2.5l-.94 2.06-2.06.94zm10 10l.94 2.06.94-2.06 2.06-.94-2.06-.94-.94-2.06-.94 2.06-2.06.94z\"/><path d=\"M17.41 7.96l-1.37-1.37c-.4-.4-.92-.59-1.43-.59-.52 0-1.04.2-1.43.59L10.3 9.45l-7.72 7.72c-.78.78-.78 2.05 0 2.83L4 21.41c.39.39.9.59 1.41.59.51 0 1.02-.2 1.41-.59l7.78-7.78 2.81-2.81c.8-.78.8-2.07 0-2.86zM5.41 20L4 18.59l7.72-7.72 1.47 1.35L5.41 20z\"/>\n",
              "  </svg>\n",
              "      </button>\n",
              "      \n",
              "  <style>\n",
              "    .colab-df-container {\n",
              "      display:flex;\n",
              "      flex-wrap:wrap;\n",
              "      gap: 12px;\n",
              "    }\n",
              "\n",
              "    .colab-df-convert {\n",
              "      background-color: #E8F0FE;\n",
              "      border: none;\n",
              "      border-radius: 50%;\n",
              "      cursor: pointer;\n",
              "      display: none;\n",
              "      fill: #1967D2;\n",
              "      height: 32px;\n",
              "      padding: 0 0 0 0;\n",
              "      width: 32px;\n",
              "    }\n",
              "\n",
              "    .colab-df-convert:hover {\n",
              "      background-color: #E2EBFA;\n",
              "      box-shadow: 0px 1px 2px rgba(60, 64, 67, 0.3), 0px 1px 3px 1px rgba(60, 64, 67, 0.15);\n",
              "      fill: #174EA6;\n",
              "    }\n",
              "\n",
              "    [theme=dark] .colab-df-convert {\n",
              "      background-color: #3B4455;\n",
              "      fill: #D2E3FC;\n",
              "    }\n",
              "\n",
              "    [theme=dark] .colab-df-convert:hover {\n",
              "      background-color: #434B5C;\n",
              "      box-shadow: 0px 1px 3px 1px rgba(0, 0, 0, 0.15);\n",
              "      filter: drop-shadow(0px 1px 2px rgba(0, 0, 0, 0.3));\n",
              "      fill: #FFFFFF;\n",
              "    }\n",
              "  </style>\n",
              "\n",
              "      <script>\n",
              "        const buttonEl =\n",
              "          document.querySelector('#df-35aba820-6251-4a02-ba9a-3093252c2401 button.colab-df-convert');\n",
              "        buttonEl.style.display =\n",
              "          google.colab.kernel.accessAllowed ? 'block' : 'none';\n",
              "\n",
              "        async function convertToInteractive(key) {\n",
              "          const element = document.querySelector('#df-35aba820-6251-4a02-ba9a-3093252c2401');\n",
              "          const dataTable =\n",
              "            await google.colab.kernel.invokeFunction('convertToInteractive',\n",
              "                                                     [key], {});\n",
              "          if (!dataTable) return;\n",
              "\n",
              "          const docLinkHtml = 'Like what you see? Visit the ' +\n",
              "            '<a target=\"_blank\" href=https://colab.research.google.com/notebooks/data_table.ipynb>data table notebook</a>'\n",
              "            + ' to learn more about interactive tables.';\n",
              "          element.innerHTML = '';\n",
              "          dataTable['output_type'] = 'display_data';\n",
              "          await google.colab.output.renderOutput(dataTable, element);\n",
              "          const docLink = document.createElement('div');\n",
              "          docLink.innerHTML = docLinkHtml;\n",
              "          element.appendChild(docLink);\n",
              "        }\n",
              "      </script>\n",
              "    </div>\n",
              "  </div>\n",
              "  "
            ]
          },
          "metadata": {}
        }
      ]
    },
    {
      "cell_type": "markdown",
      "source": [
        "### TABELA ORGAO"
      ],
      "metadata": {
        "id": "OkYuOWLopLvH"
      }
    },
    {
      "cell_type": "code",
      "source": [
        "#NÃO ALTERE AS LINHAS ABAIXO\n",
        "query = \"PRAGMA table_info('orgao')\"\n",
        "df = pd.read_sql(query, con)\n",
        "display(df)"
      ],
      "metadata": {
        "colab": {
          "base_uri": "https://localhost:8080/",
          "height": 143
        },
        "id": "6OzRcTiOpN3j",
        "outputId": "7790b620-edf7-4106-e324-4851eb1f9c1a"
      },
      "execution_count": null,
      "outputs": [
        {
          "output_type": "display_data",
          "data": {
            "text/plain": [
              "   cid          name                    type  notnull dflt_value  pk\n",
              "0    0      id_orgao                 integer        0       None   1\n",
              "1    1  codigo_orgao                 integer        1       None   0\n",
              "2    2    nome_orgao  character varying(100)        1       None   0"
            ],
            "text/html": [
              "\n",
              "  <div id=\"df-7be9b837-65dd-4c24-9761-23cec3a6ac32\">\n",
              "    <div class=\"colab-df-container\">\n",
              "      <div>\n",
              "<style scoped>\n",
              "    .dataframe tbody tr th:only-of-type {\n",
              "        vertical-align: middle;\n",
              "    }\n",
              "\n",
              "    .dataframe tbody tr th {\n",
              "        vertical-align: top;\n",
              "    }\n",
              "\n",
              "    .dataframe thead th {\n",
              "        text-align: right;\n",
              "    }\n",
              "</style>\n",
              "<table border=\"1\" class=\"dataframe\">\n",
              "  <thead>\n",
              "    <tr style=\"text-align: right;\">\n",
              "      <th></th>\n",
              "      <th>cid</th>\n",
              "      <th>name</th>\n",
              "      <th>type</th>\n",
              "      <th>notnull</th>\n",
              "      <th>dflt_value</th>\n",
              "      <th>pk</th>\n",
              "    </tr>\n",
              "  </thead>\n",
              "  <tbody>\n",
              "    <tr>\n",
              "      <th>0</th>\n",
              "      <td>0</td>\n",
              "      <td>id_orgao</td>\n",
              "      <td>integer</td>\n",
              "      <td>0</td>\n",
              "      <td>None</td>\n",
              "      <td>1</td>\n",
              "    </tr>\n",
              "    <tr>\n",
              "      <th>1</th>\n",
              "      <td>1</td>\n",
              "      <td>codigo_orgao</td>\n",
              "      <td>integer</td>\n",
              "      <td>1</td>\n",
              "      <td>None</td>\n",
              "      <td>0</td>\n",
              "    </tr>\n",
              "    <tr>\n",
              "      <th>2</th>\n",
              "      <td>2</td>\n",
              "      <td>nome_orgao</td>\n",
              "      <td>character varying(100)</td>\n",
              "      <td>1</td>\n",
              "      <td>None</td>\n",
              "      <td>0</td>\n",
              "    </tr>\n",
              "  </tbody>\n",
              "</table>\n",
              "</div>\n",
              "      <button class=\"colab-df-convert\" onclick=\"convertToInteractive('df-7be9b837-65dd-4c24-9761-23cec3a6ac32')\"\n",
              "              title=\"Convert this dataframe to an interactive table.\"\n",
              "              style=\"display:none;\">\n",
              "        \n",
              "  <svg xmlns=\"http://www.w3.org/2000/svg\" height=\"24px\"viewBox=\"0 0 24 24\"\n",
              "       width=\"24px\">\n",
              "    <path d=\"M0 0h24v24H0V0z\" fill=\"none\"/>\n",
              "    <path d=\"M18.56 5.44l.94 2.06.94-2.06 2.06-.94-2.06-.94-.94-2.06-.94 2.06-2.06.94zm-11 1L8.5 8.5l.94-2.06 2.06-.94-2.06-.94L8.5 2.5l-.94 2.06-2.06.94zm10 10l.94 2.06.94-2.06 2.06-.94-2.06-.94-.94-2.06-.94 2.06-2.06.94z\"/><path d=\"M17.41 7.96l-1.37-1.37c-.4-.4-.92-.59-1.43-.59-.52 0-1.04.2-1.43.59L10.3 9.45l-7.72 7.72c-.78.78-.78 2.05 0 2.83L4 21.41c.39.39.9.59 1.41.59.51 0 1.02-.2 1.41-.59l7.78-7.78 2.81-2.81c.8-.78.8-2.07 0-2.86zM5.41 20L4 18.59l7.72-7.72 1.47 1.35L5.41 20z\"/>\n",
              "  </svg>\n",
              "      </button>\n",
              "      \n",
              "  <style>\n",
              "    .colab-df-container {\n",
              "      display:flex;\n",
              "      flex-wrap:wrap;\n",
              "      gap: 12px;\n",
              "    }\n",
              "\n",
              "    .colab-df-convert {\n",
              "      background-color: #E8F0FE;\n",
              "      border: none;\n",
              "      border-radius: 50%;\n",
              "      cursor: pointer;\n",
              "      display: none;\n",
              "      fill: #1967D2;\n",
              "      height: 32px;\n",
              "      padding: 0 0 0 0;\n",
              "      width: 32px;\n",
              "    }\n",
              "\n",
              "    .colab-df-convert:hover {\n",
              "      background-color: #E2EBFA;\n",
              "      box-shadow: 0px 1px 2px rgba(60, 64, 67, 0.3), 0px 1px 3px 1px rgba(60, 64, 67, 0.15);\n",
              "      fill: #174EA6;\n",
              "    }\n",
              "\n",
              "    [theme=dark] .colab-df-convert {\n",
              "      background-color: #3B4455;\n",
              "      fill: #D2E3FC;\n",
              "    }\n",
              "\n",
              "    [theme=dark] .colab-df-convert:hover {\n",
              "      background-color: #434B5C;\n",
              "      box-shadow: 0px 1px 3px 1px rgba(0, 0, 0, 0.15);\n",
              "      filter: drop-shadow(0px 1px 2px rgba(0, 0, 0, 0.3));\n",
              "      fill: #FFFFFF;\n",
              "    }\n",
              "  </style>\n",
              "\n",
              "      <script>\n",
              "        const buttonEl =\n",
              "          document.querySelector('#df-7be9b837-65dd-4c24-9761-23cec3a6ac32 button.colab-df-convert');\n",
              "        buttonEl.style.display =\n",
              "          google.colab.kernel.accessAllowed ? 'block' : 'none';\n",
              "\n",
              "        async function convertToInteractive(key) {\n",
              "          const element = document.querySelector('#df-7be9b837-65dd-4c24-9761-23cec3a6ac32');\n",
              "          const dataTable =\n",
              "            await google.colab.kernel.invokeFunction('convertToInteractive',\n",
              "                                                     [key], {});\n",
              "          if (!dataTable) return;\n",
              "\n",
              "          const docLinkHtml = 'Like what you see? Visit the ' +\n",
              "            '<a target=\"_blank\" href=https://colab.research.google.com/notebooks/data_table.ipynb>data table notebook</a>'\n",
              "            + ' to learn more about interactive tables.';\n",
              "          element.innerHTML = '';\n",
              "          dataTable['output_type'] = 'display_data';\n",
              "          await google.colab.output.renderOutput(dataTable, element);\n",
              "          const docLink = document.createElement('div');\n",
              "          docLink.innerHTML = docLinkHtml;\n",
              "          element.appendChild(docLink);\n",
              "        }\n",
              "      </script>\n",
              "    </div>\n",
              "  </div>\n",
              "  "
            ]
          },
          "metadata": {}
        }
      ]
    },
    {
      "cell_type": "markdown",
      "source": [
        "### TABELA UNIDADE"
      ],
      "metadata": {
        "id": "mME1mUVIpODT"
      }
    },
    {
      "cell_type": "code",
      "source": [
        "#NÃO ALTERE AS LINHAS ABAIXO\n",
        "query = \"PRAGMA table_info('unidade')\"\n",
        "df = pd.read_sql(query, con)\n",
        "display(df)"
      ],
      "metadata": {
        "colab": {
          "base_uri": "https://localhost:8080/",
          "height": 175
        },
        "id": "B6B4VS0QpRcO",
        "outputId": "fe478db8-e4aa-4961-bbff-b3bba62a7aff"
      },
      "execution_count": null,
      "outputs": [
        {
          "output_type": "display_data",
          "data": {
            "text/plain": [
              "   cid            name                    type  notnull dflt_value  pk\n",
              "0    0      id_unidade                 integer        0       None   1\n",
              "1    1        id_orgao                 integer        1       None   0\n",
              "2    2  codigo_unidade                 integer        1       None   0\n",
              "3    3    nome_unidade  character varying(100)        1       None   0"
            ],
            "text/html": [
              "\n",
              "  <div id=\"df-cd9c2de3-bc82-435f-a800-e6ff49868bae\">\n",
              "    <div class=\"colab-df-container\">\n",
              "      <div>\n",
              "<style scoped>\n",
              "    .dataframe tbody tr th:only-of-type {\n",
              "        vertical-align: middle;\n",
              "    }\n",
              "\n",
              "    .dataframe tbody tr th {\n",
              "        vertical-align: top;\n",
              "    }\n",
              "\n",
              "    .dataframe thead th {\n",
              "        text-align: right;\n",
              "    }\n",
              "</style>\n",
              "<table border=\"1\" class=\"dataframe\">\n",
              "  <thead>\n",
              "    <tr style=\"text-align: right;\">\n",
              "      <th></th>\n",
              "      <th>cid</th>\n",
              "      <th>name</th>\n",
              "      <th>type</th>\n",
              "      <th>notnull</th>\n",
              "      <th>dflt_value</th>\n",
              "      <th>pk</th>\n",
              "    </tr>\n",
              "  </thead>\n",
              "  <tbody>\n",
              "    <tr>\n",
              "      <th>0</th>\n",
              "      <td>0</td>\n",
              "      <td>id_unidade</td>\n",
              "      <td>integer</td>\n",
              "      <td>0</td>\n",
              "      <td>None</td>\n",
              "      <td>1</td>\n",
              "    </tr>\n",
              "    <tr>\n",
              "      <th>1</th>\n",
              "      <td>1</td>\n",
              "      <td>id_orgao</td>\n",
              "      <td>integer</td>\n",
              "      <td>1</td>\n",
              "      <td>None</td>\n",
              "      <td>0</td>\n",
              "    </tr>\n",
              "    <tr>\n",
              "      <th>2</th>\n",
              "      <td>2</td>\n",
              "      <td>codigo_unidade</td>\n",
              "      <td>integer</td>\n",
              "      <td>1</td>\n",
              "      <td>None</td>\n",
              "      <td>0</td>\n",
              "    </tr>\n",
              "    <tr>\n",
              "      <th>3</th>\n",
              "      <td>3</td>\n",
              "      <td>nome_unidade</td>\n",
              "      <td>character varying(100)</td>\n",
              "      <td>1</td>\n",
              "      <td>None</td>\n",
              "      <td>0</td>\n",
              "    </tr>\n",
              "  </tbody>\n",
              "</table>\n",
              "</div>\n",
              "      <button class=\"colab-df-convert\" onclick=\"convertToInteractive('df-cd9c2de3-bc82-435f-a800-e6ff49868bae')\"\n",
              "              title=\"Convert this dataframe to an interactive table.\"\n",
              "              style=\"display:none;\">\n",
              "        \n",
              "  <svg xmlns=\"http://www.w3.org/2000/svg\" height=\"24px\"viewBox=\"0 0 24 24\"\n",
              "       width=\"24px\">\n",
              "    <path d=\"M0 0h24v24H0V0z\" fill=\"none\"/>\n",
              "    <path d=\"M18.56 5.44l.94 2.06.94-2.06 2.06-.94-2.06-.94-.94-2.06-.94 2.06-2.06.94zm-11 1L8.5 8.5l.94-2.06 2.06-.94-2.06-.94L8.5 2.5l-.94 2.06-2.06.94zm10 10l.94 2.06.94-2.06 2.06-.94-2.06-.94-.94-2.06-.94 2.06-2.06.94z\"/><path d=\"M17.41 7.96l-1.37-1.37c-.4-.4-.92-.59-1.43-.59-.52 0-1.04.2-1.43.59L10.3 9.45l-7.72 7.72c-.78.78-.78 2.05 0 2.83L4 21.41c.39.39.9.59 1.41.59.51 0 1.02-.2 1.41-.59l7.78-7.78 2.81-2.81c.8-.78.8-2.07 0-2.86zM5.41 20L4 18.59l7.72-7.72 1.47 1.35L5.41 20z\"/>\n",
              "  </svg>\n",
              "      </button>\n",
              "      \n",
              "  <style>\n",
              "    .colab-df-container {\n",
              "      display:flex;\n",
              "      flex-wrap:wrap;\n",
              "      gap: 12px;\n",
              "    }\n",
              "\n",
              "    .colab-df-convert {\n",
              "      background-color: #E8F0FE;\n",
              "      border: none;\n",
              "      border-radius: 50%;\n",
              "      cursor: pointer;\n",
              "      display: none;\n",
              "      fill: #1967D2;\n",
              "      height: 32px;\n",
              "      padding: 0 0 0 0;\n",
              "      width: 32px;\n",
              "    }\n",
              "\n",
              "    .colab-df-convert:hover {\n",
              "      background-color: #E2EBFA;\n",
              "      box-shadow: 0px 1px 2px rgba(60, 64, 67, 0.3), 0px 1px 3px 1px rgba(60, 64, 67, 0.15);\n",
              "      fill: #174EA6;\n",
              "    }\n",
              "\n",
              "    [theme=dark] .colab-df-convert {\n",
              "      background-color: #3B4455;\n",
              "      fill: #D2E3FC;\n",
              "    }\n",
              "\n",
              "    [theme=dark] .colab-df-convert:hover {\n",
              "      background-color: #434B5C;\n",
              "      box-shadow: 0px 1px 3px 1px rgba(0, 0, 0, 0.15);\n",
              "      filter: drop-shadow(0px 1px 2px rgba(0, 0, 0, 0.3));\n",
              "      fill: #FFFFFF;\n",
              "    }\n",
              "  </style>\n",
              "\n",
              "      <script>\n",
              "        const buttonEl =\n",
              "          document.querySelector('#df-cd9c2de3-bc82-435f-a800-e6ff49868bae button.colab-df-convert');\n",
              "        buttonEl.style.display =\n",
              "          google.colab.kernel.accessAllowed ? 'block' : 'none';\n",
              "\n",
              "        async function convertToInteractive(key) {\n",
              "          const element = document.querySelector('#df-cd9c2de3-bc82-435f-a800-e6ff49868bae');\n",
              "          const dataTable =\n",
              "            await google.colab.kernel.invokeFunction('convertToInteractive',\n",
              "                                                     [key], {});\n",
              "          if (!dataTable) return;\n",
              "\n",
              "          const docLinkHtml = 'Like what you see? Visit the ' +\n",
              "            '<a target=\"_blank\" href=https://colab.research.google.com/notebooks/data_table.ipynb>data table notebook</a>'\n",
              "            + ' to learn more about interactive tables.';\n",
              "          element.innerHTML = '';\n",
              "          dataTable['output_type'] = 'display_data';\n",
              "          await google.colab.output.renderOutput(dataTable, element);\n",
              "          const docLink = document.createElement('div');\n",
              "          docLink.innerHTML = docLinkHtml;\n",
              "          element.appendChild(docLink);\n",
              "        }\n",
              "      </script>\n",
              "    </div>\n",
              "  </div>\n",
              "  "
            ]
          },
          "metadata": {}
        }
      ]
    },
    {
      "cell_type": "markdown",
      "source": [
        "## Arquivo de Resultados\n",
        "Na célula 10 abaixo, você irá colocar o numero da sua matrícula. Essa é a primeira alteração necessária para executar o TP. A partir das células 10 e 11, o arquivo de resultado será gerado. \n"
      ],
      "metadata": {
        "id": "yrtZ8sTRP3TB"
      }
    },
    {
      "cell_type": "code",
      "source": [
        "matricula = \"ALTERE AQUI - Digite a sua matrícula\""
      ],
      "metadata": {
        "id": "KSY2f9O34Lhk"
      },
      "execution_count": null,
      "outputs": []
    },
    {
      "cell_type": "code",
      "source": [
        "#NÃO ALTERE AS LINHAS ABAIXO\n",
        "tp1_csv = matricula+\".csv\"\n",
        "queries = open(tp1_csv, 'w')\n",
        "writer = csv.writer(queries)\n",
        "writer.writerow([\"Query Number\", \"Query Size\"])"
      ],
      "metadata": {
        "colab": {
          "base_uri": "https://localhost:8080/"
        },
        "id": "6hcHAMc_5EV_",
        "outputId": "202b1fe3-d2a5-4fe0-90e8-4dc9d5715713"
      },
      "execution_count": null,
      "outputs": [
        {
          "output_type": "execute_result",
          "data": {
            "text/plain": [
              "25"
            ]
          },
          "metadata": {},
          "execution_count": 11
        }
      ]
    },
    {
      "cell_type": "markdown",
      "source": [
        "## Função de Consulta\n",
        "A função abaixo executa a consulta, exibe o retorno da consulta no banco e grava os dados necessários no arquivo resultado."
      ],
      "metadata": {
        "id": "uhNxD8rdQNCh"
      }
    },
    {
      "cell_type": "code",
      "source": [
        "#NÃO ALTERE AS LINHAS ABAIXO\n",
        "def runQuery(query, query_name):\n",
        "  df = pd.read_sql(query, con)\n",
        "  query_size = df.shape\n",
        "  writer.writerow([query_name, query_size])\n",
        "  #writer.writerow([query, df])\n",
        "  display(df)"
      ],
      "metadata": {
        "id": "_gPzai2DnYTB"
      },
      "execution_count": null,
      "outputs": []
    },
    {
      "cell_type": "markdown",
      "source": [
        "## PARTE 1 - Transformar Algebra Relacional para SQL\n",
        "Abaixo, seguem as consultas que voce terá de transformar de Algebra Relacional para SQL. Altere **APENAS** o espaço entre as aspas. Dentro desse espaço é que você deverá digitar o comando de execução da consulta."
      ],
      "metadata": {
        "id": "lRYyoTpcXfIV"
      }
    },
    {
      "cell_type": "markdown",
      "source": [
        "### 1 - $\\pi_{nome\\_fornecedor} \\: \\sigma_{uf  =  'SP'}$ (favorecido)\n",
        "\n",
        "\n"
      ],
      "metadata": {
        "id": "dRwnzh8kYK_G"
      }
    },
    {
      "cell_type": "code",
      "source": [
        "a1 = \"SELECT * FROM empenho\"\n",
        "#NÃO ALTERE AS LINHAS ABAIXO\n",
        "runQuery(a1, \"a1\")"
      ],
      "metadata": {
        "colab": {
          "base_uri": "https://localhost:8080/",
          "height": 424
        },
        "id": "K0ISjW0gXxVC",
        "outputId": "4cbba0ef-4ab4-436e-87a3-4fda1e8fadff"
      },
      "execution_count": null,
      "outputs": [
        {
          "output_type": "display_data",
          "data": {
            "text/plain": [
              "    id_empenho  id_unidade  id_favorecido codigo_empenho data_emissao  \\\n",
              "0    504401556           2              7   2023NE000018   2017-10-01   \n",
              "1    504601777           3              3   2023NE000087   2018-05-01   \n",
              "2    504701525           2             12   2023NE000006   2023-01-01   \n",
              "3    505301583           2              7   2023NE000012   2019-06-01   \n",
              "4    505901545           2              7   2023NE000016   2022-01-22   \n",
              "..         ...         ...            ...            ...          ...   \n",
              "65   531901586           2              7   2023NE000009   2018-01-01   \n",
              "66   532101552           2              7   2023NE000011   2019-01-01   \n",
              "67   532201577           2              7   2023NE000015   2019-11-06   \n",
              "68   532201593           2              8   2023NE000036   2023-01-01   \n",
              "69   532501553           2              7   2023NE000017   2023-01-01   \n",
              "\n",
              "                                           observacao              processo  \\\n",
              "0   ATENDER DESPESA A TITULO DE RESSARCIMENTO DE A...  23121.001183/2022-23   \n",
              "1   ATENDER DESPESAS COM PRESTACAO DE SERVICOS DE ...  11060.727446/2020-49   \n",
              "2   ATENDER DESPESAS COM OBRIGACOES PATRONAIS DE C...  23121.001179/2022-65   \n",
              "3   ATENDER DESPESA COM CONCESSAO DE ASSISTENCIA P...  23121.001182/2022-89   \n",
              "4   ATENDER DESPESA COM AUXILIO-TRANSPORTE AOS SER...  23121.001182/2022-89   \n",
              "..                                                ...                   ...   \n",
              "65  ATENDER DESPESA COM SENTENCAS JUDICIAIS NAO TR...  23121.001176/2022-21   \n",
              "66  ATENDER DESPESA COM O  PAGAMENTO DO AUXILIO-CR...  23121.001182/2022-89   \n",
              "67  ATENDER DESPESA COM AUXILIO-TRANSPORTE AOS EMP...  23121.001182/2022-89   \n",
              "68  CONTRATO Nº 01/2019 - PREGAO ELETRONICO Nº 39/...  23121.000924/2018-72   \n",
              "69  ATENDER DESPESA A TITULO DE RESSARCIMENTO DE A...  23121.001183/2022-23   \n",
              "\n",
              "    valor_empenho  \n",
              "0        60000.00  \n",
              "1            2.00  \n",
              "2       300000.00  \n",
              "3       223000.00  \n",
              "4       830000.00  \n",
              "..            ...  \n",
              "65       12209.28  \n",
              "66        4000.00  \n",
              "67       67000.00  \n",
              "68         100.00  \n",
              "69      850000.00  \n",
              "\n",
              "[70 rows x 8 columns]"
            ],
            "text/html": [
              "\n",
              "  <div id=\"df-26962bf0-9fff-4dba-beaf-f7be0ab1ef25\">\n",
              "    <div class=\"colab-df-container\">\n",
              "      <div>\n",
              "<style scoped>\n",
              "    .dataframe tbody tr th:only-of-type {\n",
              "        vertical-align: middle;\n",
              "    }\n",
              "\n",
              "    .dataframe tbody tr th {\n",
              "        vertical-align: top;\n",
              "    }\n",
              "\n",
              "    .dataframe thead th {\n",
              "        text-align: right;\n",
              "    }\n",
              "</style>\n",
              "<table border=\"1\" class=\"dataframe\">\n",
              "  <thead>\n",
              "    <tr style=\"text-align: right;\">\n",
              "      <th></th>\n",
              "      <th>id_empenho</th>\n",
              "      <th>id_unidade</th>\n",
              "      <th>id_favorecido</th>\n",
              "      <th>codigo_empenho</th>\n",
              "      <th>data_emissao</th>\n",
              "      <th>observacao</th>\n",
              "      <th>processo</th>\n",
              "      <th>valor_empenho</th>\n",
              "    </tr>\n",
              "  </thead>\n",
              "  <tbody>\n",
              "    <tr>\n",
              "      <th>0</th>\n",
              "      <td>504401556</td>\n",
              "      <td>2</td>\n",
              "      <td>7</td>\n",
              "      <td>2023NE000018</td>\n",
              "      <td>2017-10-01</td>\n",
              "      <td>ATENDER DESPESA A TITULO DE RESSARCIMENTO DE A...</td>\n",
              "      <td>23121.001183/2022-23</td>\n",
              "      <td>60000.00</td>\n",
              "    </tr>\n",
              "    <tr>\n",
              "      <th>1</th>\n",
              "      <td>504601777</td>\n",
              "      <td>3</td>\n",
              "      <td>3</td>\n",
              "      <td>2023NE000087</td>\n",
              "      <td>2018-05-01</td>\n",
              "      <td>ATENDER DESPESAS COM PRESTACAO DE SERVICOS DE ...</td>\n",
              "      <td>11060.727446/2020-49</td>\n",
              "      <td>2.00</td>\n",
              "    </tr>\n",
              "    <tr>\n",
              "      <th>2</th>\n",
              "      <td>504701525</td>\n",
              "      <td>2</td>\n",
              "      <td>12</td>\n",
              "      <td>2023NE000006</td>\n",
              "      <td>2023-01-01</td>\n",
              "      <td>ATENDER DESPESAS COM OBRIGACOES PATRONAIS DE C...</td>\n",
              "      <td>23121.001179/2022-65</td>\n",
              "      <td>300000.00</td>\n",
              "    </tr>\n",
              "    <tr>\n",
              "      <th>3</th>\n",
              "      <td>505301583</td>\n",
              "      <td>2</td>\n",
              "      <td>7</td>\n",
              "      <td>2023NE000012</td>\n",
              "      <td>2019-06-01</td>\n",
              "      <td>ATENDER DESPESA COM CONCESSAO DE ASSISTENCIA P...</td>\n",
              "      <td>23121.001182/2022-89</td>\n",
              "      <td>223000.00</td>\n",
              "    </tr>\n",
              "    <tr>\n",
              "      <th>4</th>\n",
              "      <td>505901545</td>\n",
              "      <td>2</td>\n",
              "      <td>7</td>\n",
              "      <td>2023NE000016</td>\n",
              "      <td>2022-01-22</td>\n",
              "      <td>ATENDER DESPESA COM AUXILIO-TRANSPORTE AOS SER...</td>\n",
              "      <td>23121.001182/2022-89</td>\n",
              "      <td>830000.00</td>\n",
              "    </tr>\n",
              "    <tr>\n",
              "      <th>...</th>\n",
              "      <td>...</td>\n",
              "      <td>...</td>\n",
              "      <td>...</td>\n",
              "      <td>...</td>\n",
              "      <td>...</td>\n",
              "      <td>...</td>\n",
              "      <td>...</td>\n",
              "      <td>...</td>\n",
              "    </tr>\n",
              "    <tr>\n",
              "      <th>65</th>\n",
              "      <td>531901586</td>\n",
              "      <td>2</td>\n",
              "      <td>7</td>\n",
              "      <td>2023NE000009</td>\n",
              "      <td>2018-01-01</td>\n",
              "      <td>ATENDER DESPESA COM SENTENCAS JUDICIAIS NAO TR...</td>\n",
              "      <td>23121.001176/2022-21</td>\n",
              "      <td>12209.28</td>\n",
              "    </tr>\n",
              "    <tr>\n",
              "      <th>66</th>\n",
              "      <td>532101552</td>\n",
              "      <td>2</td>\n",
              "      <td>7</td>\n",
              "      <td>2023NE000011</td>\n",
              "      <td>2019-01-01</td>\n",
              "      <td>ATENDER DESPESA COM O  PAGAMENTO DO AUXILIO-CR...</td>\n",
              "      <td>23121.001182/2022-89</td>\n",
              "      <td>4000.00</td>\n",
              "    </tr>\n",
              "    <tr>\n",
              "      <th>67</th>\n",
              "      <td>532201577</td>\n",
              "      <td>2</td>\n",
              "      <td>7</td>\n",
              "      <td>2023NE000015</td>\n",
              "      <td>2019-11-06</td>\n",
              "      <td>ATENDER DESPESA COM AUXILIO-TRANSPORTE AOS EMP...</td>\n",
              "      <td>23121.001182/2022-89</td>\n",
              "      <td>67000.00</td>\n",
              "    </tr>\n",
              "    <tr>\n",
              "      <th>68</th>\n",
              "      <td>532201593</td>\n",
              "      <td>2</td>\n",
              "      <td>8</td>\n",
              "      <td>2023NE000036</td>\n",
              "      <td>2023-01-01</td>\n",
              "      <td>CONTRATO Nº 01/2019 - PREGAO ELETRONICO Nº 39/...</td>\n",
              "      <td>23121.000924/2018-72</td>\n",
              "      <td>100.00</td>\n",
              "    </tr>\n",
              "    <tr>\n",
              "      <th>69</th>\n",
              "      <td>532501553</td>\n",
              "      <td>2</td>\n",
              "      <td>7</td>\n",
              "      <td>2023NE000017</td>\n",
              "      <td>2023-01-01</td>\n",
              "      <td>ATENDER DESPESA A TITULO DE RESSARCIMENTO DE A...</td>\n",
              "      <td>23121.001183/2022-23</td>\n",
              "      <td>850000.00</td>\n",
              "    </tr>\n",
              "  </tbody>\n",
              "</table>\n",
              "<p>70 rows × 8 columns</p>\n",
              "</div>\n",
              "      <button class=\"colab-df-convert\" onclick=\"convertToInteractive('df-26962bf0-9fff-4dba-beaf-f7be0ab1ef25')\"\n",
              "              title=\"Convert this dataframe to an interactive table.\"\n",
              "              style=\"display:none;\">\n",
              "        \n",
              "  <svg xmlns=\"http://www.w3.org/2000/svg\" height=\"24px\"viewBox=\"0 0 24 24\"\n",
              "       width=\"24px\">\n",
              "    <path d=\"M0 0h24v24H0V0z\" fill=\"none\"/>\n",
              "    <path d=\"M18.56 5.44l.94 2.06.94-2.06 2.06-.94-2.06-.94-.94-2.06-.94 2.06-2.06.94zm-11 1L8.5 8.5l.94-2.06 2.06-.94-2.06-.94L8.5 2.5l-.94 2.06-2.06.94zm10 10l.94 2.06.94-2.06 2.06-.94-2.06-.94-.94-2.06-.94 2.06-2.06.94z\"/><path d=\"M17.41 7.96l-1.37-1.37c-.4-.4-.92-.59-1.43-.59-.52 0-1.04.2-1.43.59L10.3 9.45l-7.72 7.72c-.78.78-.78 2.05 0 2.83L4 21.41c.39.39.9.59 1.41.59.51 0 1.02-.2 1.41-.59l7.78-7.78 2.81-2.81c.8-.78.8-2.07 0-2.86zM5.41 20L4 18.59l7.72-7.72 1.47 1.35L5.41 20z\"/>\n",
              "  </svg>\n",
              "      </button>\n",
              "      \n",
              "  <style>\n",
              "    .colab-df-container {\n",
              "      display:flex;\n",
              "      flex-wrap:wrap;\n",
              "      gap: 12px;\n",
              "    }\n",
              "\n",
              "    .colab-df-convert {\n",
              "      background-color: #E8F0FE;\n",
              "      border: none;\n",
              "      border-radius: 50%;\n",
              "      cursor: pointer;\n",
              "      display: none;\n",
              "      fill: #1967D2;\n",
              "      height: 32px;\n",
              "      padding: 0 0 0 0;\n",
              "      width: 32px;\n",
              "    }\n",
              "\n",
              "    .colab-df-convert:hover {\n",
              "      background-color: #E2EBFA;\n",
              "      box-shadow: 0px 1px 2px rgba(60, 64, 67, 0.3), 0px 1px 3px 1px rgba(60, 64, 67, 0.15);\n",
              "      fill: #174EA6;\n",
              "    }\n",
              "\n",
              "    [theme=dark] .colab-df-convert {\n",
              "      background-color: #3B4455;\n",
              "      fill: #D2E3FC;\n",
              "    }\n",
              "\n",
              "    [theme=dark] .colab-df-convert:hover {\n",
              "      background-color: #434B5C;\n",
              "      box-shadow: 0px 1px 3px 1px rgba(0, 0, 0, 0.15);\n",
              "      filter: drop-shadow(0px 1px 2px rgba(0, 0, 0, 0.3));\n",
              "      fill: #FFFFFF;\n",
              "    }\n",
              "  </style>\n",
              "\n",
              "      <script>\n",
              "        const buttonEl =\n",
              "          document.querySelector('#df-26962bf0-9fff-4dba-beaf-f7be0ab1ef25 button.colab-df-convert');\n",
              "        buttonEl.style.display =\n",
              "          google.colab.kernel.accessAllowed ? 'block' : 'none';\n",
              "\n",
              "        async function convertToInteractive(key) {\n",
              "          const element = document.querySelector('#df-26962bf0-9fff-4dba-beaf-f7be0ab1ef25');\n",
              "          const dataTable =\n",
              "            await google.colab.kernel.invokeFunction('convertToInteractive',\n",
              "                                                     [key], {});\n",
              "          if (!dataTable) return;\n",
              "\n",
              "          const docLinkHtml = 'Like what you see? Visit the ' +\n",
              "            '<a target=\"_blank\" href=https://colab.research.google.com/notebooks/data_table.ipynb>data table notebook</a>'\n",
              "            + ' to learn more about interactive tables.';\n",
              "          element.innerHTML = '';\n",
              "          dataTable['output_type'] = 'display_data';\n",
              "          await google.colab.output.renderOutput(dataTable, element);\n",
              "          const docLink = document.createElement('div');\n",
              "          docLink.innerHTML = docLinkHtml;\n",
              "          element.appendChild(docLink);\n",
              "        }\n",
              "      </script>\n",
              "    </div>\n",
              "  </div>\n",
              "  "
            ]
          },
          "metadata": {}
        }
      ]
    },
    {
      "cell_type": "markdown",
      "source": [
        "### 2 - $\\pi_{codigo\\_empenho, valor\\_empenho} \\: \\sigma_{valor\\_empenho  >  1000000}$ (empenho)"
      ],
      "metadata": {
        "id": "1REuYZGrY92T"
      }
    },
    {
      "cell_type": "code",
      "source": [
        "a2 = \"ALTERE AQUI - Digite a consulta SQL correspondente\"\n",
        "#NÃO ALTERE AS LINHAS ABAIXO\n",
        "runQuery(a2, \"a2\")"
      ],
      "metadata": {
        "id": "JIUuV2_RXxhS",
        "outputId": "75e14a53-4000-47ff-944a-f058acc51b35",
        "colab": {
          "base_uri": "https://localhost:8080/",
          "height": 434
        }
      },
      "execution_count": null,
      "outputs": [
        {
          "output_type": "error",
          "ename": "DatabaseError",
          "evalue": "ignored",
          "traceback": [
            "\u001b[0;31m---------------------------------------------------------------------------\u001b[0m",
            "\u001b[0;31mOperationalError\u001b[0m                          Traceback (most recent call last)",
            "\u001b[0;32m/usr/local/lib/python3.10/dist-packages/pandas/io/sql.py\u001b[0m in \u001b[0;36mexecute\u001b[0;34m(self, *args, **kwargs)\u001b[0m\n\u001b[1;32m   2017\u001b[0m         \u001b[0;32mtry\u001b[0m\u001b[0;34m:\u001b[0m\u001b[0;34m\u001b[0m\u001b[0;34m\u001b[0m\u001b[0m\n\u001b[0;32m-> 2018\u001b[0;31m             \u001b[0mcur\u001b[0m\u001b[0;34m.\u001b[0m\u001b[0mexecute\u001b[0m\u001b[0;34m(\u001b[0m\u001b[0;34m*\u001b[0m\u001b[0margs\u001b[0m\u001b[0;34m,\u001b[0m \u001b[0;34m**\u001b[0m\u001b[0mkwargs\u001b[0m\u001b[0;34m)\u001b[0m\u001b[0;34m\u001b[0m\u001b[0;34m\u001b[0m\u001b[0m\n\u001b[0m\u001b[1;32m   2019\u001b[0m             \u001b[0;32mreturn\u001b[0m \u001b[0mcur\u001b[0m\u001b[0;34m\u001b[0m\u001b[0;34m\u001b[0m\u001b[0m\n",
            "\u001b[0;31mOperationalError\u001b[0m: near \"ALTERE\": syntax error",
            "\nThe above exception was the direct cause of the following exception:\n",
            "\u001b[0;31mDatabaseError\u001b[0m                             Traceback (most recent call last)",
            "\u001b[0;32m<ipython-input-14-37e7dc7ff477>\u001b[0m in \u001b[0;36m<cell line: 3>\u001b[0;34m()\u001b[0m\n\u001b[1;32m      1\u001b[0m \u001b[0ma2\u001b[0m \u001b[0;34m=\u001b[0m \u001b[0;34m\"ALTERE AQUI - Digite a consulta SQL correspondente\"\u001b[0m\u001b[0;34m\u001b[0m\u001b[0;34m\u001b[0m\u001b[0m\n\u001b[1;32m      2\u001b[0m \u001b[0;31m#NÃO ALTERE AS LINHAS ABAIXO\u001b[0m\u001b[0;34m\u001b[0m\u001b[0;34m\u001b[0m\u001b[0m\n\u001b[0;32m----> 3\u001b[0;31m \u001b[0mrunQuery\u001b[0m\u001b[0;34m(\u001b[0m\u001b[0ma2\u001b[0m\u001b[0;34m,\u001b[0m \u001b[0;34m\"a2\"\u001b[0m\u001b[0;34m)\u001b[0m\u001b[0;34m\u001b[0m\u001b[0;34m\u001b[0m\u001b[0m\n\u001b[0m",
            "\u001b[0;32m<ipython-input-12-cb099acd0454>\u001b[0m in \u001b[0;36mrunQuery\u001b[0;34m(query, query_name)\u001b[0m\n\u001b[1;32m      1\u001b[0m \u001b[0;31m#NÃO ALTERE AS LINHAS ABAIXO\u001b[0m\u001b[0;34m\u001b[0m\u001b[0;34m\u001b[0m\u001b[0m\n\u001b[1;32m      2\u001b[0m \u001b[0;32mdef\u001b[0m \u001b[0mrunQuery\u001b[0m\u001b[0;34m(\u001b[0m\u001b[0mquery\u001b[0m\u001b[0;34m,\u001b[0m \u001b[0mquery_name\u001b[0m\u001b[0;34m)\u001b[0m\u001b[0;34m:\u001b[0m\u001b[0;34m\u001b[0m\u001b[0;34m\u001b[0m\u001b[0m\n\u001b[0;32m----> 3\u001b[0;31m   \u001b[0mdf\u001b[0m \u001b[0;34m=\u001b[0m \u001b[0mpd\u001b[0m\u001b[0;34m.\u001b[0m\u001b[0mread_sql\u001b[0m\u001b[0;34m(\u001b[0m\u001b[0mquery\u001b[0m\u001b[0;34m,\u001b[0m \u001b[0mcon\u001b[0m\u001b[0;34m)\u001b[0m\u001b[0;34m\u001b[0m\u001b[0;34m\u001b[0m\u001b[0m\n\u001b[0m\u001b[1;32m      4\u001b[0m   \u001b[0mquery_size\u001b[0m \u001b[0;34m=\u001b[0m \u001b[0mdf\u001b[0m\u001b[0;34m.\u001b[0m\u001b[0mshape\u001b[0m\u001b[0;34m\u001b[0m\u001b[0;34m\u001b[0m\u001b[0m\n\u001b[1;32m      5\u001b[0m   \u001b[0mwriter\u001b[0m\u001b[0;34m.\u001b[0m\u001b[0mwriterow\u001b[0m\u001b[0;34m(\u001b[0m\u001b[0;34m[\u001b[0m\u001b[0mquery_name\u001b[0m\u001b[0;34m,\u001b[0m \u001b[0mquery_size\u001b[0m\u001b[0;34m]\u001b[0m\u001b[0;34m)\u001b[0m\u001b[0;34m\u001b[0m\u001b[0;34m\u001b[0m\u001b[0m\n",
            "\u001b[0;32m/usr/local/lib/python3.10/dist-packages/pandas/io/sql.py\u001b[0m in \u001b[0;36mread_sql\u001b[0;34m(sql, con, index_col, coerce_float, params, parse_dates, columns, chunksize)\u001b[0m\n\u001b[1;32m    562\u001b[0m \u001b[0;34m\u001b[0m\u001b[0m\n\u001b[1;32m    563\u001b[0m     \u001b[0;32mif\u001b[0m \u001b[0misinstance\u001b[0m\u001b[0;34m(\u001b[0m\u001b[0mpandas_sql\u001b[0m\u001b[0;34m,\u001b[0m \u001b[0mSQLiteDatabase\u001b[0m\u001b[0;34m)\u001b[0m\u001b[0;34m:\u001b[0m\u001b[0;34m\u001b[0m\u001b[0;34m\u001b[0m\u001b[0m\n\u001b[0;32m--> 564\u001b[0;31m         return pandas_sql.read_query(\n\u001b[0m\u001b[1;32m    565\u001b[0m             \u001b[0msql\u001b[0m\u001b[0;34m,\u001b[0m\u001b[0;34m\u001b[0m\u001b[0;34m\u001b[0m\u001b[0m\n\u001b[1;32m    566\u001b[0m             \u001b[0mindex_col\u001b[0m\u001b[0;34m=\u001b[0m\u001b[0mindex_col\u001b[0m\u001b[0;34m,\u001b[0m\u001b[0;34m\u001b[0m\u001b[0;34m\u001b[0m\u001b[0m\n",
            "\u001b[0;32m/usr/local/lib/python3.10/dist-packages/pandas/io/sql.py\u001b[0m in \u001b[0;36mread_query\u001b[0;34m(self, sql, index_col, coerce_float, params, parse_dates, chunksize, dtype)\u001b[0m\n\u001b[1;32m   2076\u001b[0m \u001b[0;34m\u001b[0m\u001b[0m\n\u001b[1;32m   2077\u001b[0m         \u001b[0margs\u001b[0m \u001b[0;34m=\u001b[0m \u001b[0m_convert_params\u001b[0m\u001b[0;34m(\u001b[0m\u001b[0msql\u001b[0m\u001b[0;34m,\u001b[0m \u001b[0mparams\u001b[0m\u001b[0;34m)\u001b[0m\u001b[0;34m\u001b[0m\u001b[0;34m\u001b[0m\u001b[0m\n\u001b[0;32m-> 2078\u001b[0;31m         \u001b[0mcursor\u001b[0m \u001b[0;34m=\u001b[0m \u001b[0mself\u001b[0m\u001b[0;34m.\u001b[0m\u001b[0mexecute\u001b[0m\u001b[0;34m(\u001b[0m\u001b[0;34m*\u001b[0m\u001b[0margs\u001b[0m\u001b[0;34m)\u001b[0m\u001b[0;34m\u001b[0m\u001b[0;34m\u001b[0m\u001b[0m\n\u001b[0m\u001b[1;32m   2079\u001b[0m         \u001b[0mcolumns\u001b[0m \u001b[0;34m=\u001b[0m \u001b[0;34m[\u001b[0m\u001b[0mcol_desc\u001b[0m\u001b[0;34m[\u001b[0m\u001b[0;36m0\u001b[0m\u001b[0;34m]\u001b[0m \u001b[0;32mfor\u001b[0m \u001b[0mcol_desc\u001b[0m \u001b[0;32min\u001b[0m \u001b[0mcursor\u001b[0m\u001b[0;34m.\u001b[0m\u001b[0mdescription\u001b[0m\u001b[0;34m]\u001b[0m\u001b[0;34m\u001b[0m\u001b[0;34m\u001b[0m\u001b[0m\n\u001b[1;32m   2080\u001b[0m \u001b[0;34m\u001b[0m\u001b[0m\n",
            "\u001b[0;32m/usr/local/lib/python3.10/dist-packages/pandas/io/sql.py\u001b[0m in \u001b[0;36mexecute\u001b[0;34m(self, *args, **kwargs)\u001b[0m\n\u001b[1;32m   2028\u001b[0m \u001b[0;34m\u001b[0m\u001b[0m\n\u001b[1;32m   2029\u001b[0m             \u001b[0mex\u001b[0m \u001b[0;34m=\u001b[0m \u001b[0mDatabaseError\u001b[0m\u001b[0;34m(\u001b[0m\u001b[0;34mf\"Execution failed on sql '{args[0]}': {exc}\"\u001b[0m\u001b[0;34m)\u001b[0m\u001b[0;34m\u001b[0m\u001b[0;34m\u001b[0m\u001b[0m\n\u001b[0;32m-> 2030\u001b[0;31m             \u001b[0;32mraise\u001b[0m \u001b[0mex\u001b[0m \u001b[0;32mfrom\u001b[0m \u001b[0mexc\u001b[0m\u001b[0;34m\u001b[0m\u001b[0;34m\u001b[0m\u001b[0m\n\u001b[0m\u001b[1;32m   2031\u001b[0m \u001b[0;34m\u001b[0m\u001b[0m\n\u001b[1;32m   2032\u001b[0m     \u001b[0;34m@\u001b[0m\u001b[0mstaticmethod\u001b[0m\u001b[0;34m\u001b[0m\u001b[0;34m\u001b[0m\u001b[0m\n",
            "\u001b[0;31mDatabaseError\u001b[0m: Execution failed on sql 'ALTERE AQUI - Digite a consulta SQL correspondente': near \"ALTERE\": syntax error"
          ]
        }
      ]
    },
    {
      "cell_type": "markdown",
      "source": [
        "### 3 - $\\pi_{nome\\_fornecedor, valor\\_empenho} \\: \\sigma_{valor\\_empenho  <  1000}$ (favorecido $\\bowtie$ empenho )"
      ],
      "metadata": {
        "id": "NzOHoiA6ZBul"
      }
    },
    {
      "cell_type": "code",
      "source": [
        "a3 = \"ALTERE AQUI - Digite a consulta SQL correspondente\"\n",
        "#NÃO ALTERE AS LINHAS ABAIXO\n",
        "runQuery(a3, \"a3\")"
      ],
      "metadata": {
        "id": "xd-dr96uXxu9"
      },
      "execution_count": null,
      "outputs": []
    },
    {
      "cell_type": "markdown",
      "source": [
        "### 4 - $\\pi_{nome\\_unidade, valor\\_empenho} \\: \\sigma_{codigo\\_unidade = 152005}$ (empenho $\\bowtie$ unidade)\n"
      ],
      "metadata": {
        "id": "1yvlpqVjZFho"
      }
    },
    {
      "cell_type": "code",
      "source": [
        "a4 = \"ALTERE AQUI - Digite a consulta SQL correspondente\"\n",
        "#NÃO ALTERE AS LINHAS ABAIXO\n",
        "runQuery(a4, \"a4\")"
      ],
      "metadata": {
        "id": "gHfP3j2DXx6P"
      },
      "execution_count": null,
      "outputs": []
    },
    {
      "cell_type": "markdown",
      "source": [
        "### 5 - $\\pi_{id\\_unidade, nome\\_unidade} \\: \\sigma_{nome\\_orgao = Ministério\\  da\\ Economia}$ (orgao $\\bowtie$ unidade)\n"
      ],
      "metadata": {
        "id": "oPCZUoeNZNGA"
      }
    },
    {
      "cell_type": "code",
      "source": [
        "a5 = \"ALTERE AQUI - Digite a consulta SQL correspondente\"\n",
        "#NÃO ALTERE AS LINHAS ABAIXO\n",
        "runQuery(a5, \"a5\")"
      ],
      "metadata": {
        "id": "9_gkv1k1XydB"
      },
      "execution_count": null,
      "outputs": []
    },
    {
      "cell_type": "markdown",
      "source": [
        "## PARTE 2 - Consultas SQL\n",
        "Abaixo, seguem as consultas que voce terá de executar. Altere **APENAS** o espaço entre as aspas. Dentro desse espaço é que você deverá digitar o comando de execução da consulta."
      ],
      "metadata": {
        "id": "2l0qzHBRSoro"
      }
    },
    {
      "cell_type": "markdown",
      "source": [
        "### 1 - Liste os campos id_empenho, observacao e data_emissao para todos os empenhos com data de emissão entre 2020-01-01 e 2020-12-31:"
      ],
      "metadata": {
        "id": "CvnC0xN2TB0x"
      }
    },
    {
      "cell_type": "code",
      "source": [
        "q1 = \"ALTERE AQUI - Digite a consulta SQL correspondente\"\n",
        "#NÃO ALTERE AS LINHAS ABAIXO\n",
        "runQuery(q1, \"q1\")"
      ],
      "metadata": {
        "id": "D6IAlQow3DM8"
      },
      "execution_count": null,
      "outputs": []
    },
    {
      "cell_type": "markdown",
      "source": [
        "### 2 - Liste as 3 unidades federativas (uf) com menos favorecidos cadastrados e a quantidade de favorecidos destes Estados:"
      ],
      "metadata": {
        "id": "cHnE0cZyTq-K"
      }
    },
    {
      "cell_type": "code",
      "source": [
        "q2 = \"ALTERE AQUI - Digite a consulta SQL correspondente\"\n",
        "#NÃO ALTERE AS LINHAS ABAIXO\n",
        "runQuery(q2, \"q2\")"
      ],
      "metadata": {
        "id": "qJj2evYi9uPp"
      },
      "execution_count": null,
      "outputs": []
    },
    {
      "cell_type": "markdown",
      "source": [
        "### 3 - Liste o nome das unidades que começam com a palavra SUPERINTENDENCIA e o nome do orgão ao qual pertencem:"
      ],
      "metadata": {
        "id": "7d9DopVBT2LF"
      }
    },
    {
      "cell_type": "code",
      "source": [
        "q3 = \"ALTERE AQUI - Digite a consulta SQL correspondente\"\n",
        "#NÃO ALTERE AS LINHAS ABAIXO\n",
        "runQuery(q3, \"q3\")"
      ],
      "metadata": {
        "id": "6USqrESAJJl9"
      },
      "execution_count": null,
      "outputs": []
    },
    {
      "cell_type": "markdown",
      "source": [],
      "metadata": {
        "id": "D5CG1uPiUUpf"
      }
    },
    {
      "cell_type": "markdown",
      "source": [
        "### 4 - Liste os códigos de empenho que tenham a palavra COBRIR no campo observacao:\n",
        "**OBS** (pesquisar a palavra em caixa alta)."
      ],
      "metadata": {
        "id": "IqsiU4KFUD2W"
      }
    },
    {
      "cell_type": "code",
      "source": [
        "q4 = \"ALTERE AQUI - Digite a consulta SQL correspondente\"\n",
        "#NÃO ALTERE AS LINHAS ABAIXO\n",
        "runQuery(q4, \"q4\")"
      ],
      "metadata": {
        "id": "d9XKVY69JJKu"
      },
      "execution_count": null,
      "outputs": []
    },
    {
      "cell_type": "markdown",
      "source": [
        "### 5 - Liste, em ordem crescente, os nomes de todos os fornecedores que tenham mais de 1 empenho, exibindo também a quantidade de empenhos relacionados à cada um deles:"
      ],
      "metadata": {
        "id": "oZHwfdUjUh-0"
      }
    },
    {
      "cell_type": "code",
      "source": [
        "q5 = \"ALTERE AQUI - Digite a consulta SQL correspondente\"\n",
        "#NÃO ALTERE AS LINHAS ABAIXO\n",
        "runQuery(q5, \"q5\")"
      ],
      "metadata": {
        "id": "FgGtoeqfJOC8"
      },
      "execution_count": null,
      "outputs": []
    },
    {
      "cell_type": "markdown",
      "source": [
        "### 6 - Liste, em ordem crescente, o nome das unidades e a soma do valor de todos os itens pertencentes a cada uma delas:"
      ],
      "metadata": {
        "id": "hI8FPQXEUxmJ"
      }
    },
    {
      "cell_type": "markdown",
      "source": [
        "**Desafio**: Para tratar o erro de soma dos flutuantes na consulta, você pode reduzir o numero de casas decimais que serão exibidos."
      ],
      "metadata": {
        "id": "scuyrNi7fvZs"
      }
    },
    {
      "cell_type": "code",
      "source": [
        "q6 = \"ALTERE AQUI - Digite a consulta SQL correspondente\"\n",
        "#NÃO ALTERE AS LINHAS ABAIXO\n",
        "runQuery(q6, \"q6\")"
      ],
      "metadata": {
        "id": "86wdM8M3JOSy"
      },
      "execution_count": null,
      "outputs": []
    },
    {
      "cell_type": "markdown",
      "source": [
        "### 7 - Liste o nome dos orgãos que tenham mais de 10 favorecidos e a quantidade de favorecidos relacionados à cada orgão:"
      ],
      "metadata": {
        "id": "MVeODvQLVnC2"
      }
    },
    {
      "cell_type": "code",
      "source": [
        "q7 = \"ALTERE AQUI - Digite a consulta SQL correspondente\"\n",
        "#NÃO ALTERE AS LINHAS ABAIXO\n",
        "runQuery(q7, \"q7\")"
      ],
      "metadata": {
        "id": "edYyqGoCJOXy"
      },
      "execution_count": null,
      "outputs": []
    },
    {
      "cell_type": "markdown",
      "source": [
        "### 8 - Liste o id de todos os empenhos que tenham alguma relação com o orgão Ministério da Saúde:"
      ],
      "metadata": {
        "id": "Zol-cAqOV5Om"
      }
    },
    {
      "cell_type": "code",
      "source": [
        "q8 = \"ALTERE AQUI - Digite a consulta SQL correspondente\"\n",
        "#NÃO ALTERE AS LINHAS ABAIXO\n",
        "runQuery(q8, \"q8\")"
      ],
      "metadata": {
        "id": "7S3rNj7fJOaU"
      },
      "execution_count": null,
      "outputs": []
    },
    {
      "cell_type": "markdown",
      "source": [
        "### 9 - Liste o nome das unidades que possuem favorecidos em MG:"
      ],
      "metadata": {
        "id": "EJlHLd2EWHmM"
      }
    },
    {
      "cell_type": "code",
      "source": [
        "q9 = \"ALTERE AQUI - Digite a consulta SQL correspondente\"\n",
        "#NÃO ALTERE AS LINHAS ABAIXO\n",
        "runQuery(q9, \"q9\")"
      ],
      "metadata": {
        "id": "0I2xuul5JOce"
      },
      "execution_count": null,
      "outputs": []
    },
    {
      "cell_type": "markdown",
      "source": [
        "### 10 - Liste, em ordem crescente, a descriçãoo dos itens de empenho relacionados ao orgão do Ministério da Saúde:"
      ],
      "metadata": {
        "id": "yRqjnag9WTcY"
      }
    },
    {
      "cell_type": "code",
      "source": [
        "q10 = \"ALTERE AQUI - Digite a consulta SQL correspondente\"\n",
        "#NÃO ALTERE AS LINHAS ABAIXO\n",
        "runQuery(q10, \"q10\")"
      ],
      "metadata": {
        "id": "L475F4fUJOei"
      },
      "execution_count": null,
      "outputs": []
    },
    {
      "cell_type": "markdown",
      "source": [
        "# Finalizando o Banco de Dados e o Arquivo de Consultas gerado:"
      ],
      "metadata": {
        "id": "xqbHWlAJAF_M"
      }
    },
    {
      "cell_type": "code",
      "source": [
        "#NÃO ALTERE AS LINHAS ABAIXO\n",
        "queries.close()\n",
        "con.close()"
      ],
      "metadata": {
        "id": "liMikAbtIauA"
      },
      "execution_count": null,
      "outputs": []
    },
    {
      "cell_type": "markdown",
      "source": [
        "## Compactando Arquivos\n",
        "Na célula abaixo, substitua onde está escrito MATRÍCULA pelo seu número de matrícula."
      ],
      "metadata": {
        "id": "ZpgeqGXs7TUp"
      }
    },
    {
      "cell_type": "code",
      "source": [
        "#ALTERE ONDE ESTÁ ESCRITO MATRICULA para o numero de sua Matrícula\n",
        "!zip -r \"MATRICULA.zip\" \"TP1_matricula.ipynb\" \"MATRICULA.csv\""
      ],
      "metadata": {
        "id": "a_nL7tLM7k7q"
      },
      "execution_count": null,
      "outputs": []
    },
    {
      "cell_type": "markdown",
      "source": [
        "**LEMBRE-SE:** Após finalizar todas as consultas, clique em *Kernel -> Restart and Run All* no ambiente Jupyter!"
      ],
      "metadata": {
        "id": "2ftAbAxDWqG2"
      }
    }
  ],
  "metadata": {
    "colab": {
      "provenance": []
    },
    "kernelspec": {
      "display_name": "Python 3",
      "name": "python3"
    },
    "language_info": {
      "name": "python"
    }
  },
  "nbformat": 4,
  "nbformat_minor": 0
}