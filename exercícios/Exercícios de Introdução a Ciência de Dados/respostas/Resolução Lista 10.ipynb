{
  "cells": [
    {
      "cell_type": "markdown",
      "metadata": {
        "id": "TL5V2HQ8PqKh"
      },
      "source": [
        "# Lista 10 - Regressão Múltipla"
      ]
    },
    {
      "cell_type": "markdown",
      "metadata": {
        "id": "SrVUUzqkPvKA"
      },
      "source": [
        "## Introdução"
      ]
    },
    {
      "cell_type": "code",
      "execution_count": 1,
      "metadata": {
        "id": "zRrnh21EIr1N"
      },
      "outputs": [],
      "source": [
        "# -*- coding: utf8\n",
        "\n",
        "from scipy import stats as ss\n",
        "\n",
        "import matplotlib.pyplot as plt\n",
        "from numpy.testing import assert_equal, assert_array_equal, assert_array_almost_equal\n",
        "import numpy as np\n",
        "import pandas as pd\n",
        "import seaborn as sns\n",
        "\n",
        "plt.rcParams['figure.figsize']  = (18, 10)\n",
        "plt.rcParams['axes.labelsize']  = 20\n",
        "plt.rcParams['axes.titlesize']  = 20\n",
        "plt.rcParams['legend.fontsize'] = 20\n",
        "plt.rcParams['xtick.labelsize'] = 20\n",
        "plt.rcParams['ytick.labelsize'] = 20\n",
        "plt.rcParams['lines.linewidth'] = 4"
      ]
    },
    {
      "cell_type": "code",
      "execution_count": 2,
      "metadata": {
        "id": "k3iXb3YrIr1T"
      },
      "outputs": [
        {
          "name": "stderr",
          "output_type": "stream",
          "text": [
            "C:\\Users\\Lenovo\\AppData\\Local\\Temp\\ipykernel_7868\\156476233.py:2: MatplotlibDeprecationWarning: The seaborn styles shipped by Matplotlib are deprecated since 3.6, as they no longer correspond to the styles shipped by seaborn. However, they will remain available as 'seaborn-v0_8-<style>'. Alternatively, directly use the seaborn API instead.\n",
            "  plt.style.use('seaborn-colorblind')\n"
          ]
        }
      ],
      "source": [
        "plt.ion()\n",
        "plt.style.use('seaborn-colorblind')\n",
        "plt.rcParams['figure.figsize']  = (12, 8)"
      ]
    },
    {
      "cell_type": "code",
      "execution_count": 3,
      "metadata": {
        "id": "5-_wCNIeIr1U"
      },
      "outputs": [],
      "source": [
        "def despine(ax=None):\n",
        "    if ax is None:\n",
        "        ax = plt.gca()\n",
        "    # Hide the right and top spines\n",
        "    ax.spines['right'].set_visible(False)\n",
        "    ax.spines['top'].set_visible(False)\n",
        "\n",
        "    # Only show ticks on the left and bottom spines\n",
        "    ax.yaxis.set_ticks_position('left')\n",
        "    ax.xaxis.set_ticks_position('bottom')"
      ]
    },
    {
      "cell_type": "markdown",
      "metadata": {
        "id": "ss20_wBmP_sF"
      },
      "source": [
        "Continuando da aula passada, vamos agora focar em casos mais específicos de regressão. Nesta aula, vamos estender a ideia de mínimos quadrados e de regressão linear para modelos mais complexos. Para tal, vamos continuar nosso foco nos dados de preços de apartamentos em BH."
      ]
    },
    {
      "cell_type": "markdown",
      "metadata": {
        "id": "-q4qd-uOQB1q"
      },
      "source": [
        "## Dados"
      ]
    },
    {
      "cell_type": "markdown",
      "metadata": {
        "id": "CnqNWsJeIr1V"
      },
      "source": [
        "Observe como temos 4 possíveis preditores de preço:\n",
        "1. Área\n",
        "1. Quartos\n",
        "1. Suítes\n",
        "1. Vagas"
      ]
    },
    {
      "cell_type": "code",
      "execution_count": 5,
      "metadata": {
        "colab": {
          "base_uri": "https://localhost:8080/",
          "height": 235
        },
        "id": "rqbmgF5cIr1V",
        "outputId": "1c03d526-9423-483d-ee92-fed589bfd9f4"
      },
      "outputs": [
        {
          "data": {
            "text/html": [
              "<div>\n",
              "<style scoped>\n",
              "    .dataframe tbody tr th:only-of-type {\n",
              "        vertical-align: middle;\n",
              "    }\n",
              "\n",
              "    .dataframe tbody tr th {\n",
              "        vertical-align: top;\n",
              "    }\n",
              "\n",
              "    .dataframe thead th {\n",
              "        text-align: right;\n",
              "    }\n",
              "</style>\n",
              "<table border=\"1\" class=\"dataframe\">\n",
              "  <thead>\n",
              "    <tr style=\"text-align: right;\">\n",
              "      <th></th>\n",
              "      <th>area</th>\n",
              "      <th>quartos</th>\n",
              "      <th>suites</th>\n",
              "      <th>vagas</th>\n",
              "      <th>preco</th>\n",
              "    </tr>\n",
              "    <tr>\n",
              "      <th>ID</th>\n",
              "      <th></th>\n",
              "      <th></th>\n",
              "      <th></th>\n",
              "      <th></th>\n",
              "      <th></th>\n",
              "    </tr>\n",
              "  </thead>\n",
              "  <tbody>\n",
              "    <tr>\n",
              "      <th>353534.0</th>\n",
              "      <td>110.00</td>\n",
              "      <td>3.0</td>\n",
              "      <td>1.0</td>\n",
              "      <td>2.0</td>\n",
              "      <td>880000.0</td>\n",
              "    </tr>\n",
              "    <tr>\n",
              "      <th>366113.0</th>\n",
              "      <td>101.89</td>\n",
              "      <td>3.0</td>\n",
              "      <td>1.0</td>\n",
              "      <td>4.0</td>\n",
              "      <td>900000.0</td>\n",
              "    </tr>\n",
              "    <tr>\n",
              "      <th>186728.0</th>\n",
              "      <td>191.00</td>\n",
              "      <td>3.0</td>\n",
              "      <td>1.0</td>\n",
              "      <td>3.0</td>\n",
              "      <td>920000.0</td>\n",
              "    </tr>\n",
              "    <tr>\n",
              "      <th>366115.0</th>\n",
              "      <td>101.89</td>\n",
              "      <td>3.0</td>\n",
              "      <td>1.0</td>\n",
              "      <td>4.0</td>\n",
              "      <td>950000.0</td>\n",
              "    </tr>\n",
              "    <tr>\n",
              "      <th>353022.0</th>\n",
              "      <td>280.61</td>\n",
              "      <td>3.0</td>\n",
              "      <td>1.0</td>\n",
              "      <td>4.0</td>\n",
              "      <td>1000000.0</td>\n",
              "    </tr>\n",
              "  </tbody>\n",
              "</table>\n",
              "</div>"
            ],
            "text/plain": [
              "            area  quartos  suites  vagas      preco\n",
              "ID                                                 \n",
              "353534.0  110.00      3.0     1.0    2.0   880000.0\n",
              "366113.0  101.89      3.0     1.0    4.0   900000.0\n",
              "186728.0  191.00      3.0     1.0    3.0   920000.0\n",
              "366115.0  101.89      3.0     1.0    4.0   950000.0\n",
              "353022.0  280.61      3.0     1.0    4.0  1000000.0"
            ]
          },
          "execution_count": 5,
          "metadata": {},
          "output_type": "execute_result"
        }
      ],
      "source": [
        "df = pd.read_csv('https://raw.githubusercontent.com/pedroharaujo/ICD_Docencia/master/aptosBH.txt', index_col=0)\n",
        "df.head()"
      ]
    },
    {
      "cell_type": "markdown",
      "metadata": {
        "id": "GqK-B2rFIr1X"
      },
      "source": [
        "Cada preditor é correlacionado com o preço de alguma forma. No pairplot abaixo, observe a última coluna, onde cada linha corresponde a um preditor."
      ]
    },
    {
      "cell_type": "code",
      "execution_count": 6,
      "metadata": {
        "colab": {
          "base_uri": "https://localhost:8080/",
          "height": 762
        },
        "id": "9WBHbMaRIr1Y",
        "outputId": "59eeab10-e025-4749-a8ce-96e17c8dbaea"
      },
      "outputs": [
        {
          "data": {
            "text/plain": [
              "<seaborn.axisgrid.PairGrid at 0x1a46b602190>"
            ]
          },
          "execution_count": 6,
          "metadata": {},
          "output_type": "execute_result"
        },
        {
          "data": {
            "image/png": "[encoded data removed]",
            "text/plain": [
              "<Figure size 1250x1250 with 30 Axes>"
            ]
          },
          "metadata": {},
          "output_type": "display_data"
        }
      ],
      "source": [
        "sns.pairplot(df, diag_kws={'edgecolor':'k'}, plot_kws={'alpha':0.5, 'edgecolor':'k'})"
      ]
    },
    {
      "cell_type": "markdown",
      "metadata": {
        "id": "Jshbj3f6QbEy"
      },
      "source": [
        "## Regressão Múltipla"
      ]
    },
    {
      "cell_type": "markdown",
      "metadata": {
        "id": "Y9_YqjHKIr1Y"
      },
      "source": [
        "Para realizar uma regressão múltipla, vamos representar nossos dados na forma matricial. Sendo `n` o número de linhas nos nossos dados (observações) e `f` o número de colunas (features/atríbutos). Os dados podem ser vistos como a matriz abaixo:\n",
        "\n",
        "$$\n",
        "\\mathbf{X} = \\begin{pmatrix}\\mathbf {x} _{1}^{\\mathsf {T}}\\\\\\mathbf {x} _{2}^{\\mathsf {T}}\\\\\\vdots \\\\\\mathbf {x} _{n}^{\\mathsf {T}}\\end{pmatrix} =\\begin{pmatrix}1&x_{11}&\\cdots &x_{1f}\\\\1&x_{21}&\\cdots &x_{2f}\\\\\\vdots &\\vdots &\\ddots &\\vdots \\\\1&x_{n1}&\\cdots &x_{nf}\\end{pmatrix}\n",
        "$$\n",
        "\n",
        "Observe como a primeira coluna é toda `1`. A mesma vai capturar o fator constante, intercepto, da regressão linear. O nosso modelo é capturado pela equação abaixo:\n",
        "\n",
        "$$y_i = \\theta_0 x_{i0} + \\theta_1 x_{i1}^{1} + \\theta_2 x_{i2}^{2} + \\cdots + \\theta_f x_{if}^{f} + \\epsilon_i$$\n",
        "\n",
        "Aqui, $x_{i0} = 1$ sempre (por isso usamos uma coluna de 1s). Dessa forma, obtemos a equação:\n",
        "\n",
        "$$y_i = \\theta_0 + \\theta_1 x_{i1}^{1} + \\theta_2 x_{i2}^{2} + \\cdots + \\theta_f x_{if}^{f} + \\epsilon_i$$"
      ]
    },
    {
      "cell_type": "markdown",
      "metadata": {
        "id": "InDVFjTwIr1a"
      },
      "source": [
        "Vamos organizar uma matriz de fatores explanatórios X usando pandas."
      ]
    },
    {
      "cell_type": "code",
      "execution_count": 7,
      "metadata": {
        "colab": {
          "base_uri": "https://localhost:8080/"
        },
        "id": "oQsw2R2tIr1a",
        "outputId": "2682fd00-9226-4aab-b49a-1342df457935"
      },
      "outputs": [
        {
          "data": {
            "text/html": [
              "<div>\n",
              "<style scoped>\n",
              "    .dataframe tbody tr th:only-of-type {\n",
              "        vertical-align: middle;\n",
              "    }\n",
              "\n",
              "    .dataframe tbody tr th {\n",
              "        vertical-align: top;\n",
              "    }\n",
              "\n",
              "    .dataframe thead th {\n",
              "        text-align: right;\n",
              "    }\n",
              "</style>\n",
              "<table border=\"1\" class=\"dataframe\">\n",
              "  <thead>\n",
              "    <tr style=\"text-align: right;\">\n",
              "      <th></th>\n",
              "      <th>intercepto</th>\n",
              "      <th>area</th>\n",
              "      <th>quartos</th>\n",
              "      <th>suites</th>\n",
              "      <th>vagas</th>\n",
              "    </tr>\n",
              "    <tr>\n",
              "      <th>ID</th>\n",
              "      <th></th>\n",
              "      <th></th>\n",
              "      <th></th>\n",
              "      <th></th>\n",
              "      <th></th>\n",
              "    </tr>\n",
              "  </thead>\n",
              "  <tbody>\n",
              "    <tr>\n",
              "      <th>353534.0</th>\n",
              "      <td>1</td>\n",
              "      <td>110.00</td>\n",
              "      <td>3.0</td>\n",
              "      <td>1.0</td>\n",
              "      <td>2.0</td>\n",
              "    </tr>\n",
              "    <tr>\n",
              "      <th>366113.0</th>\n",
              "      <td>1</td>\n",
              "      <td>101.89</td>\n",
              "      <td>3.0</td>\n",
              "      <td>1.0</td>\n",
              "      <td>4.0</td>\n",
              "    </tr>\n",
              "    <tr>\n",
              "      <th>186728.0</th>\n",
              "      <td>1</td>\n",
              "      <td>191.00</td>\n",
              "      <td>3.0</td>\n",
              "      <td>1.0</td>\n",
              "      <td>3.0</td>\n",
              "    </tr>\n",
              "    <tr>\n",
              "      <th>366115.0</th>\n",
              "      <td>1</td>\n",
              "      <td>101.89</td>\n",
              "      <td>3.0</td>\n",
              "      <td>1.0</td>\n",
              "      <td>4.0</td>\n",
              "    </tr>\n",
              "    <tr>\n",
              "      <th>353022.0</th>\n",
              "      <td>1</td>\n",
              "      <td>280.61</td>\n",
              "      <td>3.0</td>\n",
              "      <td>1.0</td>\n",
              "      <td>4.0</td>\n",
              "    </tr>\n",
              "  </tbody>\n",
              "</table>\n",
              "</div>"
            ],
            "text/plain": [
              "          intercepto    area  quartos  suites  vagas\n",
              "ID                                                  \n",
              "353534.0           1  110.00      3.0     1.0    2.0\n",
              "366113.0           1  101.89      3.0     1.0    4.0\n",
              "186728.0           1  191.00      3.0     1.0    3.0\n",
              "366115.0           1  101.89      3.0     1.0    4.0\n",
              "353022.0           1  280.61      3.0     1.0    4.0"
            ]
          },
          "execution_count": 7,
          "metadata": {},
          "output_type": "execute_result"
        }
      ],
      "source": [
        "y = df['preco']\n",
        "X = df[['area', 'quartos', 'suites', 'vagas']]\n",
        "X['intercepto'] = 1\n",
        "X = X[['intercepto', 'area', 'quartos', 'suites', 'vagas']]\n",
        "X.head()"
      ]
    },
    {
      "cell_type": "markdown",
      "metadata": {
        "id": "XJWQ9Ga4Ir1b"
      },
      "source": [
        "Temos 216 observações."
      ]
    },
    {
      "cell_type": "code",
      "execution_count": null,
      "metadata": {
        "colab": {
          "base_uri": "https://localhost:8080/"
        },
        "id": "zTeOMtZWIr1b",
        "outputId": "dd68e65e-d140-42e4-f6f5-6da70175736a"
      },
      "outputs": [
        {
          "data": {
            "text/plain": [
              "(216,)"
            ]
          },
          "execution_count": 7,
          "metadata": {
            "tags": []
          },
          "output_type": "execute_result"
        }
      ],
      "source": [
        "y.shape"
      ]
    },
    {
      "cell_type": "markdown",
      "metadata": {
        "id": "E3tTs0reIr1b"
      },
      "source": [
        "5 atributos, onde um deles é o intercepto."
      ]
    },
    {
      "cell_type": "code",
      "execution_count": null,
      "metadata": {
        "colab": {
          "base_uri": "https://localhost:8080/"
        },
        "id": "1xHPdB1nIr1c",
        "outputId": "51c9ca8f-bae6-425c-f315-9c6ccef15598"
      },
      "outputs": [
        {
          "data": {
            "text/plain": [
              "(216, 5)"
            ]
          },
          "execution_count": 8,
          "metadata": {
            "tags": []
          },
          "output_type": "execute_result"
        }
      ],
      "source": [
        "X.shape"
      ]
    },
    {
      "cell_type": "markdown",
      "metadata": {
        "id": "bh9pVw5_Ir1c"
      },
      "source": [
        "X.values retorna a matriz."
      ]
    },
    {
      "cell_type": "code",
      "execution_count": null,
      "metadata": {
        "colab": {
          "base_uri": "https://localhost:8080/"
        },
        "id": "nxEYCjxyIr1d",
        "outputId": "1ed7d235-4ab4-4a2d-fda5-9ef48967fe50"
      },
      "outputs": [
        {
          "data": {
            "text/plain": [
              "array([[  1.  , 110.  ,   3.  ,   1.  ,   2.  ],\n",
              "       [  1.  , 101.89,   3.  ,   1.  ,   4.  ],\n",
              "       [  1.  , 191.  ,   3.  ,   1.  ,   3.  ],\n",
              "       ...,\n",
              "       [  1.  ,  70.  ,   2.  ,   2.  ,   2.  ],\n",
              "       [  1.  ,  70.  ,   2.  ,   2.  ,   2.  ],\n",
              "       [  1.  , 115.  ,   3.  ,   1.  ,   2.  ]])"
            ]
          },
          "execution_count": 9,
          "metadata": {
            "tags": []
          },
          "output_type": "execute_result"
        }
      ],
      "source": [
        "X = X.values\n",
        "y = y.values # pegar a matrix\n",
        "X"
      ]
    },
    {
      "cell_type": "markdown",
      "metadata": {
        "id": "DmRW-FeXQmmc"
      },
      "source": [
        "## Modelo"
      ]
    },
    {
      "cell_type": "markdown",
      "metadata": {
        "id": "kzliRjAPIr1d"
      },
      "source": [
        "Sendo $\\mathbf{y}$ a nossa resposta. Na forma matricial o nosso modelo tem a seguinte forma:\n",
        "\n",
        "\n",
        "$$\\mathbf {y} =\\mathbf{X}{\\boldsymbol {\\theta }}+{\\boldsymbol {\\varepsilon }} $$\n",
        "\n",
        "Cada observação $y_i$ vai ser capturada pelo modelo linear $y_i = \\theta_0 + \\theta_1 x_{i1}^{1} + \\theta_2 x_{i2}^{2} + \\cdots + \\theta_f x_{if}^{f} + \\epsilon_i$. Basta pensar em operações de matrizes e vetores como somatórios! Cada linha de $\\mathbf{X}$ multiplica o vetor de parâmetros $\\theta$."
      ]
    },
    {
      "cell_type": "markdown",
      "metadata": {
        "id": "reYHc_eqQplh"
      },
      "source": [
        "## Soma dos erros quadrados"
      ]
    },
    {
      "cell_type": "markdown",
      "metadata": {
        "id": "UEe3qP0cIr1e"
      },
      "source": [
        "A função de perda na forma matricial é:\n",
        "\n",
        "$$L({\\boldsymbol {\\theta }}) = ||\\mathbf{y} - \\mathbf{X} {\\boldsymbol {\\theta }}||^2_2$$\n",
        "\n",
        "Essa função é obtida através do quadrado da norma de Frobenius (com p=2), cuja fórmula é dada por:\n",
        "\n",
        "$$||A||_p = (\\sum_i \\sum_j |a_{i,j}|^p)^{\\frac{1}{p}}$$"
      ]
    },
    {
      "cell_type": "markdown",
      "metadata": {
        "id": "nLZaGp36Qr1o"
      },
      "source": [
        "## Jacobiana"
      ]
    },
    {
      "cell_type": "markdown",
      "metadata": {
        "id": "cNR5Im49Ir1e"
      },
      "source": [
        "Quando temos várias derivadas de equações na forma matricial, estamos computando a Jacobiana J (vetor de derivadas). Cada elemento do vetor J é uma derivada:\n",
        "\n",
        "$$J(\\theta) = [\\frac{dL}{d\\theta_0}, \\frac{dL}{d\\theta_1}, ..., \\frac{dL}{d\\theta_f}]$$\n",
        "\n",
        "\n",
        "Um fator bastante interessante deste modelo é que todas as derivadas (para cada $\\theta_i$) têm a mesma forma. Como temos uma soma de fatores lineares, cada $\\theta_i$ vai ter o mesmo formato. Assim:\n",
        "\n",
        "$$\\frac{dL}{d\\theta_j} = -2n^{-1} \\sum_{i=1}^{n} (y_i - \\sum_{j=0} \\theta_j x_{ij}) x_{ij}$$\n",
        "\n",
        "$$\\frac{dL}{d\\theta_j} = -2n^{-1} \\sum_{i=1}^{n} \\epsilon_i x_{ij}$$\n",
        "\n",
        "A função abaixo computa tal derivada explorando o conceito de vetorização."
      ]
    },
    {
      "cell_type": "code",
      "execution_count": 8,
      "metadata": {
        "id": "0hD3bTFTIr1f"
      },
      "outputs": [],
      "source": [
        "def derivadas_regressao_media_old(theta, X, y):\n",
        "    return -2 * ((y - X @ theta) * X.T).mean(axis=1)"
      ]
    },
    {
      "cell_type": "code",
      "execution_count": 9,
      "metadata": {
        "id": "bY_1pZjYIr1f"
      },
      "outputs": [],
      "source": [
        "def derivadas_regressao(theta, X, y):\n",
        "    return -2 * ((y - X @ theta) @ X)"
      ]
    },
    {
      "cell_type": "markdown",
      "metadata": {
        "id": "16L6PnePIr1f"
      },
      "source": [
        "## Versão nova da função da média"
      ]
    },
    {
      "cell_type": "code",
      "execution_count": 10,
      "metadata": {
        "id": "c2rfyXjAIr1g"
      },
      "outputs": [],
      "source": [
        "def derivadas_regressao_media(theta, X, y):\n",
        "    return -2 * ((y - X @ theta) @ X) / len(y)"
      ]
    },
    {
      "cell_type": "markdown",
      "metadata": {
        "id": "rB8thLS_Q3Lu"
      },
      "source": [
        "## Gradiente Descendente"
      ]
    },
    {
      "cell_type": "markdown",
      "metadata": {
        "id": "XPlhqjuDIr1g"
      },
      "source": [
        "Após definir o modelo, a função de erro e a Jacobiana para a Regressão Múltipla, podemos calcular o gradiente descendente!"
      ]
    },
    {
      "cell_type": "code",
      "execution_count": 11,
      "metadata": {
        "id": "uvMFjaZDIr1g"
      },
      "outputs": [],
      "source": [
        "def gd(theta, d_fun, X, y, lambda_=0.0001, tol=0.00001, max_iter=10000):\n",
        "  theta = theta.copy()\n",
        "  #print('Iter {}; theta = '.format(0), theta)\n",
        "  old_err_sq = np.inf\n",
        "  i = 0\n",
        "  while True:\n",
        "    # Computar as derivadas\n",
        "    grad = d_fun(theta, X, y)\n",
        "    # Atualizar\n",
        "    theta_novo = theta - lambda_ * grad\n",
        "\n",
        "    # Parar quando o erro convergir\n",
        "    err_sq = ((X.dot(theta) - y) ** 2).mean()\n",
        "    if np.abs(old_err_sq - err_sq) <= tol:\n",
        "      break\n",
        "    theta = theta_novo\n",
        "    old_err_sq = err_sq\n",
        "    #print('Iter {}; theta = '.format(i+1), theta)\n",
        "    i += 1\n",
        "    if i == max_iter:\n",
        "      break\n",
        "  return theta"
      ]
    },
    {
      "cell_type": "markdown",
      "metadata": {
        "id": "pwWCbwSyRFJB"
      },
      "source": [
        "## Gradiente Descendente Estocástico"
      ]
    },
    {
      "cell_type": "markdown",
      "metadata": {
        "id": "dBj1tL8uIr1h"
      },
      "source": [
        "O gradiente descendente estocástico também funciona! Entretanto, temos que acertar a taxa de aprendizado.\n",
        "Um dos problemas do uso recorrente do gradiente descendente estocástico é que não sabemos ainda como acertar nossa taxa. Para tal, geralmente fazemos uso de treino/validação/teste (assunto das próximas aulas)."
      ]
    },
    {
      "cell_type": "code",
      "execution_count": 12,
      "metadata": {
        "id": "GE1pxsq1Ir1h"
      },
      "outputs": [],
      "source": [
        "def sgd(theta, d_fun, X, y, lambda_=0.001, tol=0.01, max_iter=10000):\n",
        "  theta = theta.copy()\n",
        "  #print('Iter {}; alpha, beta = '.format(0), theta)\n",
        "  old_err_sq = np.inf\n",
        "  for i in range(max_iter):\n",
        "    # Escolhe ponto aleatório\n",
        "    r = np.random.randint(len(y))\n",
        "    X_r, y_r = X[r], y[r]\n",
        "    X_r = X_r.reshape(1, len(X_r)) # transforma o vetor linha em matriz\n",
        "\n",
        "    # Deriva e atualiza\n",
        "    grad = d_fun(theta, X_r, y_r)\n",
        "    theta_novo = theta - lambda_ * grad\n",
        "\n",
        "    #Calcula o erro\n",
        "    err_sq = ((X.dot(theta) - y) ** 2).mean()\n",
        "\n",
        "    theta = theta_novo\n",
        "    if err_sq < tol:\n",
        "      break\n",
        "\n",
        "      #print('Iter {}; alpha, beta = '.format(i+1), theta)\n",
        "\n",
        "  return theta"
      ]
    },
    {
      "cell_type": "markdown",
      "metadata": {
        "id": "MmXhGrjGRH1y"
      },
      "source": [
        "## Normalização dos Dados"
      ]
    },
    {
      "cell_type": "markdown",
      "metadata": {
        "id": "zPDUS83OIr1i"
      },
      "source": [
        "A normalização dos dados pode ser útil para ajudar o gradiente. O algoritmo funciona sem tal passo, porém é mais chato definir uma taxa de aprendizado quando não temos isto e, além disso, a convergência é mais lenta.\n",
        "\n",
        "Quando as features aparecem com ordens de grandeza muito diferentes (ex: idade entre 0 a 100 e renda mensal entre  800 e 100.000 reais) a função de custo é distorcida, tornando o ponto mínimo difícil de alcançar. Sendo assim, um truque importante é garantir que todos as features estejam em uma escala similar.\n",
        "\n",
        "Abaixo normalizamos as features dos dados de preços de apartamentos em BH e, em seguida, calculamos o gradiente descendente e o gradiente descendente estocástico."
      ]
    },
    {
      "cell_type": "code",
      "execution_count": 13,
      "metadata": {
        "id": "ZT0UxTIdIr1j"
      },
      "outputs": [],
      "source": [
        "df = pd.read_csv('https://raw.githubusercontent.com/pedroharaujo/ICD_Docencia/master/aptosBH.txt', index_col=0)\n",
        "z_df = (df-df.mean())/df.std()\n",
        "\n",
        "y = z_df['preco']\n",
        "X = z_df[['area', 'quartos', 'suites', 'vagas']]\n",
        "X['intercepto'] = 1\n",
        "\n",
        "X = X.values\n",
        "y = y.values\n",
        "\n",
        "theta = np.ones(5)\n",
        "theta = gd(theta, derivadas_regressao, X, y)"
      ]
    },
    {
      "cell_type": "code",
      "execution_count": 14,
      "metadata": {
        "id": "InGTCV24Ir1j",
        "scrolled": true
      },
      "outputs": [
        {
          "name": "stdout",
          "output_type": "stream",
          "text": [
            "theta =  [0.38077873 0.14502318 0.19572477 0.44743011 0.00127056]\n"
          ]
        }
      ],
      "source": [
        "print(\"theta = \", theta)"
      ]
    },
    {
      "cell_type": "code",
      "execution_count": 15,
      "metadata": {
        "id": "_iViPhPzIr1k"
      },
      "outputs": [
        {
          "name": "stdout",
          "output_type": "stream",
          "text": [
            "[[-0.23371264 -0.06804138 -0.04500279  0.05657338  1.        ]\n",
            " [-0.37041406 -0.06804138 -0.04500279  2.77209583  1.        ]\n",
            " [ 1.13161596 -0.06804138 -0.04500279  1.41433461  1.        ]\n",
            " [-0.37041406 -0.06804138 -0.04500279  2.77209583  1.        ]]\n"
          ]
        }
      ],
      "source": [
        "print(X[0:4])"
      ]
    },
    {
      "cell_type": "code",
      "execution_count": 16,
      "metadata": {
        "id": "RLOJV2NTIr1k",
        "scrolled": false
      },
      "outputs": [],
      "source": [
        "df = pd.read_csv('https://raw.githubusercontent.com/pedroharaujo/ICD_Docencia/master/aptosBH.txt', index_col=0)\n",
        "z_df = (df-df.mean())/df.std()\n",
        "\n",
        "y = z_df['preco']\n",
        "X = z_df[['area', 'quartos', 'suites', 'vagas']]\n",
        "X['intercepto'] = 1\n",
        "\n",
        "X = X.values\n",
        "y = y.values\n",
        "\n",
        "theta = np.ones(5)\n",
        "theta = sgd(theta, derivadas_regressao, X, y, lambda_=0.002)"
      ]
    },
    {
      "cell_type": "code",
      "execution_count": 17,
      "metadata": {
        "id": "CApG5ZK5Ir1l"
      },
      "outputs": [
        {
          "name": "stdout",
          "output_type": "stream",
          "text": [
            "theta =  [ 0.37209782  0.08877494  0.158677    0.41376074 -0.01625036]\n"
          ]
        }
      ],
      "source": [
        "print(\"theta = \", theta)"
      ]
    },
    {
      "cell_type": "markdown",
      "metadata": {
        "id": "8OYa1u3BIr1l"
      },
      "source": [
        "Observe como os resultados batem com o scikit learn."
      ]
    },
    {
      "cell_type": "code",
      "execution_count": 18,
      "metadata": {
        "id": "kfTuPkbDIr1l"
      },
      "outputs": [
        {
          "data": {
            "text/html": [
              "<style>#sk-container-id-1 {color: black;background-color: white;}#sk-container-id-1 pre{padding: 0;}#sk-container-id-1 div.sk-toggleable {background-color: white;}#sk-container-id-1 label.sk-toggleable__label {cursor: pointer;display: block;width: 100%;margin-bottom: 0;padding: 0.3em;box-sizing: border-box;text-align: center;}#sk-container-id-1 label.sk-toggleable__label-arrow:before {content: \"▸\";float: left;margin-right: 0.25em;color: #696969;}#sk-container-id-1 label.sk-toggleable__label-arrow:hover:before {color: black;}#sk-container-id-1 div.sk-estimator:hover label.sk-toggleable__label-arrow:before {color: black;}#sk-container-id-1 div.sk-toggleable__content {max-height: 0;max-width: 0;overflow: hidden;text-align: left;background-color: #f0f8ff;}#sk-container-id-1 div.sk-toggleable__content pre {margin: 0.2em;color: black;border-radius: 0.25em;background-color: #f0f8ff;}#sk-container-id-1 input.sk-toggleable__control:checked~div.sk-toggleable__content {max-height: 200px;max-width: 100%;overflow: auto;}#sk-container-id-1 input.sk-toggleable__control:checked~label.sk-toggleable__label-arrow:before {content: \"▾\";}#sk-container-id-1 div.sk-estimator input.sk-toggleable__control:checked~label.sk-toggleable__label {background-color: #d4ebff;}#sk-container-id-1 div.sk-label input.sk-toggleable__control:checked~label.sk-toggleable__label {background-color: #d4ebff;}#sk-container-id-1 input.sk-hidden--visually {border: 0;clip: rect(1px 1px 1px 1px);clip: rect(1px, 1px, 1px, 1px);height: 1px;margin: -1px;overflow: hidden;padding: 0;position: absolute;width: 1px;}#sk-container-id-1 div.sk-estimator {font-family: monospace;background-color: #f0f8ff;border: 1px dotted black;border-radius: 0.25em;box-sizing: border-box;margin-bottom: 0.5em;}#sk-container-id-1 div.sk-estimator:hover {background-color: #d4ebff;}#sk-container-id-1 div.sk-parallel-item::after {content: \"\";width: 100%;border-bottom: 1px solid gray;flex-grow: 1;}#sk-container-id-1 div.sk-label:hover label.sk-toggleable__label {background-color: #d4ebff;}#sk-container-id-1 div.sk-serial::before {content: \"\";position: absolute;border-left: 1px solid gray;box-sizing: border-box;top: 0;bottom: 0;left: 50%;z-index: 0;}#sk-container-id-1 div.sk-serial {display: flex;flex-direction: column;align-items: center;background-color: white;padding-right: 0.2em;padding-left: 0.2em;position: relative;}#sk-container-id-1 div.sk-item {position: relative;z-index: 1;}#sk-container-id-1 div.sk-parallel {display: flex;align-items: stretch;justify-content: center;background-color: white;position: relative;}#sk-container-id-1 div.sk-item::before, #sk-container-id-1 div.sk-parallel-item::before {content: \"\";position: absolute;border-left: 1px solid gray;box-sizing: border-box;top: 0;bottom: 0;left: 50%;z-index: -1;}#sk-container-id-1 div.sk-parallel-item {display: flex;flex-direction: column;z-index: 1;position: relative;background-color: white;}#sk-container-id-1 div.sk-parallel-item:first-child::after {align-self: flex-end;width: 50%;}#sk-container-id-1 div.sk-parallel-item:last-child::after {align-self: flex-start;width: 50%;}#sk-container-id-1 div.sk-parallel-item:only-child::after {width: 0;}#sk-container-id-1 div.sk-dashed-wrapped {border: 1px dashed gray;margin: 0 0.4em 0.5em 0.4em;box-sizing: border-box;padding-bottom: 0.4em;background-color: white;}#sk-container-id-1 div.sk-label label {font-family: monospace;font-weight: bold;display: inline-block;line-height: 1.2em;}#sk-container-id-1 div.sk-label-container {text-align: center;}#sk-container-id-1 div.sk-container {/* jupyter's `normalize.less` sets `[hidden] { display: none; }` but bootstrap.min.css set `[hidden] { display: none !important; }` so we also need the `!important` here to be able to override the default hidden behavior on the sphinx rendered scikit-learn.org. See: https://github.com/scikit-learn/scikit-learn/issues/21755 */display: inline-block !important;position: relative;}#sk-container-id-1 div.sk-text-repr-fallback {display: none;}</style><div id=\"sk-container-id-1\" class=\"sk-top-container\"><div class=\"sk-text-repr-fallback\"><pre>LinearRegression()</pre><b>In a Jupyter environment, please rerun this cell to show the HTML representation or trust the notebook. <br />On GitHub, the HTML representation is unable to render, please try loading this page with nbviewer.org.</b></div><div class=\"sk-container\" hidden><div class=\"sk-item\"><div class=\"sk-estimator sk-toggleable\"><input class=\"sk-toggleable__control sk-hidden--visually\" id=\"sk-estimator-id-1\" type=\"checkbox\" checked><label for=\"sk-estimator-id-1\" class=\"sk-toggleable__label sk-toggleable__label-arrow\">LinearRegression</label><div class=\"sk-toggleable__content\"><pre>LinearRegression()</pre></div></div></div></div></div>"
            ],
            "text/plain": [
              "LinearRegression()"
            ]
          },
          "execution_count": 18,
          "metadata": {},
          "output_type": "execute_result"
        }
      ],
      "source": [
        "from sklearn.linear_model import LinearRegression\n",
        "model = LinearRegression(fit_intercept=True)\n",
        "model.fit(X, y)"
      ]
    },
    {
      "cell_type": "code",
      "execution_count": 19,
      "metadata": {
        "id": "CmKDsIdyIr1m"
      },
      "outputs": [
        {
          "data": {
            "text/plain": [
              "array([0.39547414, 0.12651004, 0.18641188, 0.45621635, 0.        ])"
            ]
          },
          "execution_count": 19,
          "metadata": {},
          "output_type": "execute_result"
        }
      ],
      "source": [
        "model.coef_"
      ]
    },
    {
      "cell_type": "code",
      "execution_count": 20,
      "metadata": {
        "id": "cwRZjX6eIr1m",
        "scrolled": true
      },
      "outputs": [
        {
          "data": {
            "text/plain": [
              "-7.202231225161079e-18"
            ]
          },
          "execution_count": 20,
          "metadata": {},
          "output_type": "execute_result"
        }
      ],
      "source": [
        "model.intercept_"
      ]
    },
    {
      "cell_type": "markdown",
      "metadata": {
        "id": "7zDAsNlRTeVy"
      },
      "source": [
        "## Erros e Validação"
      ]
    },
    {
      "cell_type": "markdown",
      "metadata": {
        "id": "Obf8rKXTIr1n"
      },
      "source": [
        "Ainda podemos usar o R-quadrado para avaliar a qualidade de uma regressão linear múltipla. A interpretação permanece a mesma: quanto da variância dos dados é capturada pelo modelo."
      ]
    },
    {
      "cell_type": "markdown",
      "metadata": {
        "id": "nB7UhGEFIr1n"
      },
      "source": [
        "* Ainda considerando o exemplo da predição do preço de apartamentos em BH, calcule o valor do R-quadrado da regressão com os dados normalizados. Faça o mesmo usando os dados não normalizados."
      ]
    },
    {
      "cell_type": "code",
      "execution_count": null,
      "metadata": {
        "id": "e3Gor1fLIr1n"
      },
      "outputs": [],
      "source": [
        "# def erro(y, X, theta):\n",
        "#   return y - X@theta\n",
        "\n",
        "# def multiple_r_squared(X, y, theta):\n",
        "#   sse = sum(erro(y, X, theta)**2)\n",
        "#   sst = sum((y - np.mean(y))**2)\n",
        "#   return 1.0 - sse / sst\n",
        "\n",
        "\n",
        "# df = pd.read_csv('https://raw.githubusercontent.com/pedroharaujo/ICD_Docencia/master/aptosBH.txt', index_col=0)\n",
        "\n",
        "# y = df['preco']\n",
        "# X = df[['area', 'quartos', 'suites', 'vagas']]\n",
        "# X['intercepto'] = 1\n",
        "\n",
        "# X = X.values\n",
        "# y = y.values\n",
        "\n",
        "# model = LinearRegression(fit_intercept=False)\n",
        "# model.fit(X, y)\n",
        "# print(model.coef_)\n",
        "# print(\"R2 sem normalizacao = \", model.score(X, y))\n",
        "\n",
        "\n",
        "# df = pd.read_csv('https://raw.githubusercontent.com/pedroharaujo/ICD_Docencia/master/aptosBH.txt', index_col=0)\n",
        "# z_df=(df-df.mean())/df.std()\n",
        "\n",
        "# y = z_df['preco']\n",
        "# X = z_df[['area', 'quartos', 'suites', 'vagas']]\n",
        "# X['intercepto'] = 1\n",
        "\n",
        "# X = X.values\n",
        "# y = y.values\n",
        "\n",
        "# model = LinearRegression(fit_intercept=False)\n",
        "# model.fit(X, y)\n",
        "# print(model.coef_)\n",
        "# print(\"R2 com normalizacao = \", model.score(X, y))"
      ]
    },
    {
      "cell_type": "markdown",
      "metadata": {
        "id": "kVkBHC7CT70d"
      },
      "source": [
        "## Bootstrap para entender a importância de fatores"
      ]
    },
    {
      "cell_type": "markdown",
      "metadata": {
        "id": "bodKKYnKIr1n"
      },
      "source": [
        "Podemos aplicar um bootstrap para entender a importância dos fatores. Nós repetidamente tomamos um `bootstrap_regression` dos nossos dados e estimamos o vetor `\\Theta` com base nessa amostra. Se o coeficiente correspondente a uma das variáveis independentes não variar muito entre as amostras, podemos ter certeza de que nossa estimativa é relativamente segura. Se o coeficiente variar muito entre as amostras, não podemos ficar confiantes em nossa estimativa. Caso o intervalo capture o zero, o fator não importa do ponto de vista estatístico. Vamos fazer uso de scikit learn.\n",
        "\n",
        "Vamos ver exemplos nos dados dos apartamentos."
      ]
    },
    {
      "cell_type": "code",
      "execution_count": null,
      "metadata": {
        "id": "-y6RhmRZIr1o"
      },
      "outputs": [],
      "source": [
        "# def bootstrap_regression(X, y, n=10000, size=None):\n",
        "#   if size is None:\n",
        "#     size = len(df)\n",
        "\n",
        "#   T = np.zeros(shape=(n, X.shape[1]))\n",
        "#   for i in range(n):\n",
        "#     # Gera amostras com reposição\n",
        "#     idx = np.random.choice(len(y), len(y))\n",
        "#     Xb = X[idx]\n",
        "#     yb = y[idx]\n",
        "\n",
        "#     # Fit usando sklearn\n",
        "#     model = LinearRegression(fit_intercept=True)\n",
        "#     model.fit(Xb, yb)\n",
        "\n",
        "#     T[i] = model.coef_\n",
        "#   return T"
      ]
    },
    {
      "cell_type": "markdown",
      "metadata": {
        "id": "Qs-xC4VIIr1p"
      },
      "source": [
        "A seguir, não usamos o scikit learn e eliminamos duplicatas da amostra:"
      ]
    },
    {
      "cell_type": "code",
      "execution_count": null,
      "metadata": {
        "id": "XoXFajiAIr1p"
      },
      "outputs": [],
      "source": [
        "# def bootstrap_regression_gd(X, y, n=10000, size=None):\n",
        "#   if size is None:\n",
        "#     size = len(df)\n",
        "\n",
        "#   T = np.zeros(shape=(n, X.shape[1]))\n",
        "#   for i in range(n):\n",
        "#     if i%400 == 0:\n",
        "#       print(\"bootstrap iter \", i)\n",
        "#     # Gera amostras com reposição e remove duplicatas\n",
        "#     idx = list(np.random.choice(len(y), len(y)))\n",
        "#     Xb = X[idx]\n",
        "#     yb = y[idx]\n",
        "\n",
        "#     # Fit usando gd\n",
        "#     theta = np.ones(X.shape[1])\n",
        "#     theta = gd(theta, derivadas_regressao, Xb, yb)\n",
        "\n",
        "#     T[i] = theta\n",
        "#   return T"
      ]
    },
    {
      "cell_type": "code",
      "execution_count": null,
      "metadata": {
        "id": "Zy6EJe2sIr1p"
      },
      "outputs": [],
      "source": [
        "# y = z_df['preco'].values\n",
        "# names = ['area', 'quartos', 'suites', 'vagas']\n",
        "# X = z_df[names]\n",
        "# X['intercepto'] = 1\n",
        "# X = X.values\n",
        "\n",
        "# T = bootstrap_regression_gd(X, y)\n",
        "# names = ['area', 'quartos', 'suites', 'vagas', 'intercepto']\n",
        "\n",
        "# for col in range(T.shape[1]):\n",
        "#   fig = plt.figure()\n",
        "#   plt.hist(T[:, col], edgecolor='k')\n",
        "#   plt.title('{} - 95% CI Bootstrap: ({:.2f}, {:.2f})'.format(names[col],\n",
        "#                                                              np.percentile(T[:, col], 2.5),\n",
        "#                                                              np.percentile(T[:, col], 97.5)))\n",
        "#   plt.xlabel(r'$\\theta_i$')\n",
        "#   plt.ylabel('# Boot Amostras')\n",
        "#   despine()\n",
        "#   plt.show()"
      ]
    },
    {
      "cell_type": "markdown",
      "metadata": {
        "id": "GRvmFj3PIr1r",
        "nbgrader": {
          "grade": false,
          "grade_id": "cell-1694d2965535bd5b",
          "locked": true,
          "schema_version": 1,
          "solution": false
        }
      },
      "source": [
        "##  Exercícios - Outros datasets:"
      ]
    },
    {
      "cell_type": "markdown",
      "metadata": {
        "id": "K_lK_BqQUhU5"
      },
      "source": [
        "### Carros"
      ]
    },
    {
      "cell_type": "markdown",
      "metadata": {
        "id": "CSSl0i3OIr1r",
        "nbgrader": {
          "grade": false,
          "grade_id": "cell-1694d2965535bd5b",
          "locked": true,
          "schema_version": 1,
          "solution": false
        }
      },
      "source": [
        "Utilizando a base de dados carros, ``hybrid.csv``, vamos fazer um gradiente descendente para uma regressão linear com múltiplas variáveis. As colunas são definidas da seguinte forma:\n",
        "\n",
        "veículo (vehicle): modelo do carro\n",
        "\n",
        "ano (year): ano de fabricação\n",
        "\n",
        "msrp: preço de varejo em dólar sugerido pelo fabricante em 2013.\n",
        "\n",
        "aceleração (acceleration): taxa de aceleração em km por hora por segundo\n",
        "\n",
        "mpg: economia de combustível em milhas por galão\n",
        "\n",
        "classe (class): a classe do modelo.\n",
        "\n",
        "Nosso objetivo será estimar o valor de preço sugerido dos carros a partir dos demais atributos (exluindo o nome do veículo e a classe).\n",
        "Portanto, teremos a regressão definida pela fórmula:\n",
        "\n",
        "$$ Y = X\\Theta + \\epsilon $$\n",
        "\n",
        "onde, Y corresponde à coluna ``msrp`` dos dados, e X corresponde às colunas ``year,acceleration,mpg``."
      ]
    },
    {
      "cell_type": "markdown",
      "metadata": {
        "id": "Bv_xBs2-Ir1r"
      },
      "source": [
        "Observe a forma dos dados e a correlação entre as variáveis:"
      ]
    },
    {
      "cell_type": "code",
      "execution_count": null,
      "metadata": {
        "colab": {
          "base_uri": "https://localhost:8080/"
        },
        "id": "oNHIvc-AIr1r",
        "nbgrader": {
          "grade": false,
          "grade_id": "cell-e75a900fc1119637",
          "locked": true,
          "schema_version": 1,
          "solution": false
        },
        "outputId": "bc13c6c3-ed1f-4381-8e55-6c8dc934b148",
        "scrolled": true
      },
      "outputs": [
        {
          "data": {
            "text/html": [
              "<div>\n",
              "<style scoped>\n",
              "    .dataframe tbody tr th:only-of-type {\n",
              "        vertical-align: middle;\n",
              "    }\n",
              "\n",
              "    .dataframe tbody tr th {\n",
              "        vertical-align: top;\n",
              "    }\n",
              "\n",
              "    .dataframe thead th {\n",
              "        text-align: right;\n",
              "    }\n",
              "</style>\n",
              "<table border=\"1\" class=\"dataframe\">\n",
              "  <thead>\n",
              "    <tr style=\"text-align: right;\">\n",
              "      <th></th>\n",
              "      <th>vehicle</th>\n",
              "      <th>year</th>\n",
              "      <th>msrp</th>\n",
              "      <th>acceleration</th>\n",
              "      <th>mpg</th>\n",
              "      <th>class</th>\n",
              "    </tr>\n",
              "  </thead>\n",
              "  <tbody>\n",
              "    <tr>\n",
              "      <th>0</th>\n",
              "      <td>Prius (1st Gen)</td>\n",
              "      <td>1997</td>\n",
              "      <td>24509.74</td>\n",
              "      <td>7.46</td>\n",
              "      <td>41.26</td>\n",
              "      <td>Compact</td>\n",
              "    </tr>\n",
              "    <tr>\n",
              "      <th>1</th>\n",
              "      <td>Tino</td>\n",
              "      <td>2000</td>\n",
              "      <td>35354.97</td>\n",
              "      <td>8.20</td>\n",
              "      <td>54.10</td>\n",
              "      <td>Compact</td>\n",
              "    </tr>\n",
              "    <tr>\n",
              "      <th>2</th>\n",
              "      <td>Prius (2nd Gen)</td>\n",
              "      <td>2000</td>\n",
              "      <td>26832.25</td>\n",
              "      <td>7.97</td>\n",
              "      <td>45.23</td>\n",
              "      <td>Compact</td>\n",
              "    </tr>\n",
              "    <tr>\n",
              "      <th>3</th>\n",
              "      <td>Insight</td>\n",
              "      <td>2000</td>\n",
              "      <td>18936.41</td>\n",
              "      <td>9.52</td>\n",
              "      <td>53.00</td>\n",
              "      <td>Two Seater</td>\n",
              "    </tr>\n",
              "    <tr>\n",
              "      <th>4</th>\n",
              "      <td>Civic (1st Gen)</td>\n",
              "      <td>2001</td>\n",
              "      <td>25833.38</td>\n",
              "      <td>7.04</td>\n",
              "      <td>47.04</td>\n",
              "      <td>Compact</td>\n",
              "    </tr>\n",
              "  </tbody>\n",
              "</table>\n",
              "</div>"
            ],
            "text/plain": [
              "           vehicle  year      msrp  acceleration    mpg       class\n",
              "0  Prius (1st Gen)  1997  24509.74          7.46  41.26     Compact\n",
              "1             Tino  2000  35354.97          8.20  54.10     Compact\n",
              "2  Prius (2nd Gen)  2000  26832.25          7.97  45.23     Compact\n",
              "3          Insight  2000  18936.41          9.52  53.00  Two Seater\n",
              "4  Civic (1st Gen)  2001  25833.38          7.04  47.04     Compact"
            ]
          },
          "execution_count": 27,
          "metadata": {
            "tags": []
          },
          "output_type": "execute_result"
        }
      ],
      "source": [
        "df = pd.read_csv('https://raw.githubusercontent.com/pedroharaujo/ICD_Docencia/master/hybrid.csv')\n",
        "df.head()"
      ]
    },
    {
      "cell_type": "code",
      "execution_count": null,
      "metadata": {
        "colab": {
          "base_uri": "https://localhost:8080/"
        },
        "id": "aCxTbJmBIr1s",
        "nbgrader": {
          "grade": false,
          "grade_id": "cell-3fd8504900d1ab3c",
          "locked": true,
          "schema_version": 1,
          "solution": false
        },
        "outputId": "799f456b-829e-4161-bfde-71de79f3276e"
      },
      "outputs": [
        {
          "data": {
            "text/plain": [
              "<seaborn.axisgrid.PairGrid at 0x7f363f445c90>"
            ]
          },
          "execution_count": 28,
          "metadata": {
            "tags": []
          },
          "output_type": "execute_result"
        },
        {
          "data": {
            "image/png": "[encoded data removed]",
            "text/plain": [
              "<Figure size 720x720 with 20 Axes>"
            ]
          },
          "metadata": {
            "needs_background": "light",
            "tags": []
          },
          "output_type": "display_data"
        }
      ],
      "source": [
        "import seaborn as sns\n",
        "sns.pairplot(df, diag_kws={'edgecolor':'k'}, plot_kws={'alpha':0.5, 'edgecolor':'k'})"
      ]
    },
    {
      "cell_type": "markdown",
      "metadata": {
        "id": "o_upOfEOIr1s",
        "nbgrader": {
          "grade": false,
          "grade_id": "cell-3adf57d9e72b0726",
          "locked": true,
          "schema_version": 1,
          "solution": false
        }
      },
      "source": [
        "**Exercício 1:** Selecione apenas as colunas que serão utilizadas e normalize os dados para que o gradiente descendente rode sem problemas."
      ]
    },
    {
      "cell_type": "code",
      "execution_count": null,
      "metadata": {
        "id": "kOkF72bjajbA"
      },
      "outputs": [],
      "source": [
        "# SELECIONE AS COLUNAS\n",
        "\n",
        "# NORMALIZE OS DADOS\n",
        "\n",
        "# ACRESCENTE INTERCEPTO\n",
        "\n",
        "# EXTRAIA MATRIZES COM .VALUES"
      ]
    },
    {
      "cell_type": "markdown",
      "metadata": {
        "id": "YN3SfXtEIr1v",
        "nbgrader": {
          "grade": false,
          "grade_id": "cell-5885727150c53c96",
          "locked": true,
          "schema_version": 1,
          "solution": false
        }
      },
      "source": [
        "**Exercício 2:** Implemente a função de gradiente dos parâmetros da regressão, retornando um array com os valores dos gradientes para cada parâmetro."
      ]
    },
    {
      "cell_type": "code",
      "execution_count": null,
      "metadata": {
        "id": "HMBnuR-EWCsF"
      },
      "outputs": [],
      "source": [
        "def gradients(theta, X, y):\n",
        "  # YOUR CODE HERE\n",
        "  # x : matriz nxm\n",
        "  # y : array nx1\n",
        "  # theta : array mx1\n",
        "  return"
      ]
    },
    {
      "cell_type": "markdown",
      "metadata": {
        "id": "QG6uuEWHIr1v",
        "nbgrader": {
          "grade": false,
          "grade_id": "cell-b493768e8d28f574",
          "locked": true,
          "schema_version": 1,
          "solution": false
        }
      },
      "source": [
        "* Implemente a função de gradiente descendente para os parâmetros da regressão, retornando um array com os valores de alpha e os valores de beta para cada coluna. Você deve usar a função `gradients` definida anteriormente."
      ]
    },
    {
      "cell_type": "code",
      "execution_count": null,
      "metadata": {
        "id": "MVXwCmoDXAme"
      },
      "outputs": [],
      "source": [
        "def descent(theta0, X, y, learning_rate=0.005, tolerance=0.0000001):\n",
        "  # YOUR CODE HERE\n",
        "  return"
      ]
    },
    {
      "cell_type": "code",
      "execution_count": null,
      "metadata": {
        "id": "vmI-vMoxXO7W"
      },
      "outputs": [],
      "source": [
        "_teste_param0 = np.array([ 1000, 1, 1, 1 ])\n",
        "theta = descent(_teste_param0, X, y)\n",
        "assert_array_almost_equal(np.round(theta,4), np.round([ 0.00201339, -0.04349112,  0.59055261, -0.23979036],4))"
      ]
    },
    {
      "cell_type": "markdown",
      "metadata": {
        "id": "MJK1sWAEIr1w",
        "nbgrader": {
          "grade": false,
          "grade_id": "cell-2c670571eef2731d",
          "locked": true,
          "schema_version": 1,
          "solution": false
        }
      },
      "source": [
        "**Exercício 3:** Agora vamos tentar avaliar o modelo de regressão linear obtido com o gradiente descendente. Para isso, implemente a função que calcula o R-quadrado.\n",
        "\n",
        "Lembre-se que, para calcular o R-quadrado, você precisa do valor da soma total dos quadrados e da soma dos erros quadrados. Os parâmetros de entrada de cada função são dados."
      ]
    },
    {
      "cell_type": "code",
      "execution_count": null,
      "metadata": {
        "id": "2bbWNBqdXnZh"
      },
      "outputs": [],
      "source": [
        "def sst(y):\n",
        "  # YOUR CODE HERE\n",
        "  return\n",
        "\n",
        "def predict(X, theta):\n",
        "  # YOUR CODE HERE\n",
        "  return\n",
        "\n",
        "def sse(X, y, theta):\n",
        "  # YOUR CODE HERE\n",
        "  return\n",
        "\n",
        "def rsquared(X, y, theta):\n",
        "  # YOUR CODE HERE\n",
        "  return"
      ]
    },
    {
      "cell_type": "code",
      "execution_count": null,
      "metadata": {
        "id": "6Xs-vkvkX12V"
      },
      "outputs": [],
      "source": [
        "rs = rsquared(X, y, theta)\n",
        "assert_equal(np.round(rs,4), np.round(0.5288887684860548,4))"
      ]
    },
    {
      "cell_type": "markdown",
      "metadata": {
        "id": "-6JsEPpSIr1w",
        "nbgrader": {
          "grade": true,
          "grade_id": "cell-2e6ae38f9694d078",
          "locked": true,
          "points": 1,
          "schema_version": 1,
          "solution": false
        }
      },
      "source": [
        "Se observarmos os dados pelos gráficos que mostram as correlações entre as variáveis, podemos perceber que nem todos possuem uma relação linear. Vamos tentar transformar os dados de um dos atributos dos carros, para que uma regressão linear possa ser aplicada com melhores resultados.\n",
        "\n",
        "**Exercício 4:** Para isso, tire o logaritmo da variável ```mpg``` e, em seguida, z-normalize os dados (todos as variáveis em X)."
      ]
    },
    {
      "cell_type": "code",
      "execution_count": null,
      "metadata": {
        "id": "XOOWorAmYz42"
      },
      "outputs": [],
      "source": [
        "y = df['msrp']\n",
        "X = df[['year','acceleration','mpg']]\n",
        "\n",
        "# TIRE O LOG DA VARIAVEL MPG\n",
        "\n",
        "# Z-NORMALIZE OS DADOS\n",
        "\n",
        "# ADICIONE O INTERCEPTO\n",
        "\n",
        "# DEFINA X e Y UTILIZANDO .VALUES"
      ]
    },
    {
      "cell_type": "markdown",
      "metadata": {
        "id": "u1xsXbZXIr1x",
        "nbgrader": {
          "grade": false,
          "grade_id": "cell-1bd1ffbd5ffddb14",
          "locked": true,
          "schema_version": 1,
          "solution": false
        }
      },
      "source": [
        "* Rode novamente o código do gradiente descendente e verifique se o R-quadrado da regressão melhorou ou piorou após a transformação dos dados."
      ]
    },
    {
      "cell_type": "code",
      "execution_count": null,
      "metadata": {
        "id": "xFefsQh1Ir1x"
      },
      "outputs": [],
      "source": [
        "_teste_param0 = np.array([ 1000, 1, 1, 1 ])\n",
        "theta = descent(_teste_param0, X, y)\n",
        "rs1 = rsquared(X, y, theta)\n",
        "assert_equal(np.round(rs1,4), np.round(0.5543728866213389,4))"
      ]
    },
    {
      "cell_type": "markdown",
      "metadata": {
        "id": "1mb7F-SMbpJv"
      },
      "source": [
        "### ATENÇÃO"
      ]
    },
    {
      "cell_type": "markdown",
      "metadata": {
        "id": "o-K87EFAbsK8"
      },
      "source": [
        "Os próximos dois exercícios não possuem correção automática, porém são de vital importância. Ambos os datasets utilizados nos exercícios a seguir são datasets com grande número de variáveis, o que se aproxima de problemas reais. Como a realização de testes com os valores é dificultada devido ao alto número de variáveis, optou-se pela não correção automática.\n",
        "\n",
        "Tente encontrar o modelo que melhor se ajusta aos dados, com maior valor de $R²$. Tente também compreender a interpretação dos coeficientes para cada variável explicativa. Em caso de dúvidas, acione o monitor da disciplina."
      ]
    },
    {
      "cell_type": "markdown",
      "metadata": {
        "id": "bBodSjHMU14S"
      },
      "source": [
        "### Dataset Reações Químicas - SEM CORREÇÃO AUTOMÁTICA"
      ]
    },
    {
      "cell_type": "markdown",
      "metadata": {
        "id": "Kx74LyQUTagB",
        "nbgrader": {
          "grade": false,
          "grade_id": "cell2c-a00",
          "locked": true,
          "schema_version": 1,
          "solution": false
        }
      },
      "source": [
        "Um cientista maluco misturou quantidades (em milímetros cúbicos) aleatórias de diversos reagentes e conseguiu gerar uma determinada quantidade (em milímetros cúbicos) de um produto químico, que embora não sirva para nada, não é tóxico e é muito bonito. O problema é que o cientista não sabe quais reagentes estão, de fato, reagindo e gerando o tal produto. Mais importante, ele não sabe a quantidade que ele tem que colocar de cada reagente para gerar uma dada quantidade do produto. Para descobrir, ele misturou quantidades aleatórias de cada reagente 1000 vezes e anotou a quantidade do produto que foi gerada em cada um desses experimentos. Para encontrar a fórmula mágica tão desejada, ele pediu a sua ajuda. Os experimentos estão descritos nas linhas do arquivo. A quantidade gerada do produto para cada experimento está descrita na linha \"q_produto\".\n",
        "\n",
        "E aí? Será que regressão linear múltipla resolve? O professor sabe que resolve, e tem um modelo com $R^2$ superior a $0.99$.\n",
        "\n",
        "* Encontre esse modelo e mostre os coeficientes, a qualidade do ajuste, e os fatores significativos. Você pode utilizar as funções definidas anteriormente, ou utilizar a biblioteca sklearn."
      ]
    },
    {
      "cell_type": "code",
      "execution_count": null,
      "metadata": {
        "colab": {
          "base_uri": "https://localhost:8080/"
        },
        "id": "gL_ZWllsIr1y",
        "outputId": "c90e54ab-e817-4eb3-c082-349f5e5fedcd"
      },
      "outputs": [
        {
          "data": {
            "text/html": [
              "<div>\n",
              "<style scoped>\n",
              "    .dataframe tbody tr th:only-of-type {\n",
              "        vertical-align: middle;\n",
              "    }\n",
              "\n",
              "    .dataframe tbody tr th {\n",
              "        vertical-align: top;\n",
              "    }\n",
              "\n",
              "    .dataframe thead th {\n",
              "        text-align: right;\n",
              "    }\n",
              "</style>\n",
              "<table border=\"1\" class=\"dataframe\">\n",
              "  <thead>\n",
              "    <tr style=\"text-align: right;\">\n",
              "      <th></th>\n",
              "      <th>q_produto</th>\n",
              "      <th>q_reagente_116</th>\n",
              "      <th>q_reagente_158</th>\n",
              "      <th>q_reagente_18</th>\n",
              "      <th>q_reagente_199</th>\n",
              "      <th>q_reagente_219</th>\n",
              "      <th>q_reagente_226</th>\n",
              "      <th>q_reagente_263</th>\n",
              "      <th>q_reagente_273</th>\n",
              "      <th>q_reagente_278</th>\n",
              "      <th>q_reagente_296</th>\n",
              "      <th>q_reagente_311</th>\n",
              "      <th>q_reagente_337</th>\n",
              "      <th>q_reagente_495</th>\n",
              "      <th>q_reagente_511</th>\n",
              "      <th>q_reagente_519</th>\n",
              "      <th>q_reagente_527</th>\n",
              "      <th>q_reagente_575</th>\n",
              "      <th>q_reagente_6</th>\n",
              "      <th>q_reagente_607</th>\n",
              "      <th>q_reagente_652</th>\n",
              "      <th>q_reagente_804</th>\n",
              "      <th>q_reagente_875</th>\n",
              "      <th>q_reagente_881</th>\n",
              "      <th>q_reagente_964</th>\n",
              "    </tr>\n",
              "  </thead>\n",
              "  <tbody>\n",
              "    <tr>\n",
              "      <th>0</th>\n",
              "      <td>3428.673522</td>\n",
              "      <td>92.137035</td>\n",
              "      <td>14.079712</td>\n",
              "      <td>28.643950</td>\n",
              "      <td>25.372276</td>\n",
              "      <td>18.289846</td>\n",
              "      <td>17.076072</td>\n",
              "      <td>2.901502</td>\n",
              "      <td>14.742738</td>\n",
              "      <td>99.545861</td>\n",
              "      <td>19.102936</td>\n",
              "      <td>181.802528</td>\n",
              "      <td>111.603706</td>\n",
              "      <td>3.774151</td>\n",
              "      <td>79.748001</td>\n",
              "      <td>72.339598</td>\n",
              "      <td>35.637056</td>\n",
              "      <td>24.995370</td>\n",
              "      <td>49.289794</td>\n",
              "      <td>27.811497</td>\n",
              "      <td>25.764701</td>\n",
              "      <td>402.293234</td>\n",
              "      <td>22.804591</td>\n",
              "      <td>25.716139</td>\n",
              "      <td>2.691570</td>\n",
              "    </tr>\n",
              "    <tr>\n",
              "      <th>1</th>\n",
              "      <td>3948.229590</td>\n",
              "      <td>56.839770</td>\n",
              "      <td>13.803082</td>\n",
              "      <td>42.557560</td>\n",
              "      <td>25.184082</td>\n",
              "      <td>21.905475</td>\n",
              "      <td>17.712958</td>\n",
              "      <td>5.556623</td>\n",
              "      <td>3.384606</td>\n",
              "      <td>155.477082</td>\n",
              "      <td>39.458903</td>\n",
              "      <td>128.119256</td>\n",
              "      <td>165.888420</td>\n",
              "      <td>8.219947</td>\n",
              "      <td>77.422075</td>\n",
              "      <td>71.836274</td>\n",
              "      <td>9.700495</td>\n",
              "      <td>27.524265</td>\n",
              "      <td>66.765039</td>\n",
              "      <td>34.779973</td>\n",
              "      <td>18.437969</td>\n",
              "      <td>116.751047</td>\n",
              "      <td>0.000000</td>\n",
              "      <td>19.688559</td>\n",
              "      <td>4.997487</td>\n",
              "    </tr>\n",
              "    <tr>\n",
              "      <th>2</th>\n",
              "      <td>4331.650198</td>\n",
              "      <td>77.566164</td>\n",
              "      <td>14.406301</td>\n",
              "      <td>29.468819</td>\n",
              "      <td>22.124179</td>\n",
              "      <td>19.858404</td>\n",
              "      <td>17.515865</td>\n",
              "      <td>4.053366</td>\n",
              "      <td>10.054049</td>\n",
              "      <td>143.705008</td>\n",
              "      <td>28.831847</td>\n",
              "      <td>203.869674</td>\n",
              "      <td>156.613592</td>\n",
              "      <td>4.394077</td>\n",
              "      <td>92.038951</td>\n",
              "      <td>63.652580</td>\n",
              "      <td>19.945071</td>\n",
              "      <td>26.505182</td>\n",
              "      <td>39.582032</td>\n",
              "      <td>26.960548</td>\n",
              "      <td>15.038279</td>\n",
              "      <td>229.536187</td>\n",
              "      <td>11.460976</td>\n",
              "      <td>26.045952</td>\n",
              "      <td>2.409985</td>\n",
              "    </tr>\n",
              "    <tr>\n",
              "      <th>3</th>\n",
              "      <td>4530.153671</td>\n",
              "      <td>100.463237</td>\n",
              "      <td>18.494555</td>\n",
              "      <td>23.825064</td>\n",
              "      <td>16.914770</td>\n",
              "      <td>22.210331</td>\n",
              "      <td>17.416410</td>\n",
              "      <td>5.780492</td>\n",
              "      <td>17.421985</td>\n",
              "      <td>181.786609</td>\n",
              "      <td>32.875308</td>\n",
              "      <td>128.675522</td>\n",
              "      <td>193.502431</td>\n",
              "      <td>6.081122</td>\n",
              "      <td>76.663293</td>\n",
              "      <td>49.720042</td>\n",
              "      <td>25.430917</td>\n",
              "      <td>27.532888</td>\n",
              "      <td>45.951732</td>\n",
              "      <td>32.820727</td>\n",
              "      <td>20.077703</td>\n",
              "      <td>289.931261</td>\n",
              "      <td>25.243309</td>\n",
              "      <td>19.865627</td>\n",
              "      <td>4.349159</td>\n",
              "    </tr>\n",
              "    <tr>\n",
              "      <th>4</th>\n",
              "      <td>4699.087741</td>\n",
              "      <td>82.795664</td>\n",
              "      <td>17.347322</td>\n",
              "      <td>24.402419</td>\n",
              "      <td>24.935485</td>\n",
              "      <td>22.400284</td>\n",
              "      <td>16.741933</td>\n",
              "      <td>5.919984</td>\n",
              "      <td>11.736824</td>\n",
              "      <td>161.379815</td>\n",
              "      <td>37.819422</td>\n",
              "      <td>185.937911</td>\n",
              "      <td>172.987567</td>\n",
              "      <td>6.137392</td>\n",
              "      <td>82.718633</td>\n",
              "      <td>71.171403</td>\n",
              "      <td>22.102092</td>\n",
              "      <td>27.705269</td>\n",
              "      <td>43.655474</td>\n",
              "      <td>30.476209</td>\n",
              "      <td>36.563123</td>\n",
              "      <td>253.283373</td>\n",
              "      <td>24.863983</td>\n",
              "      <td>20.994606</td>\n",
              "      <td>3.573342</td>\n",
              "    </tr>\n",
              "  </tbody>\n",
              "</table>\n",
              "</div>"
            ],
            "text/plain": [
              "     q_produto  q_reagente_116  ...  q_reagente_881  q_reagente_964\n",
              "0  3428.673522       92.137035  ...       25.716139        2.691570\n",
              "1  3948.229590       56.839770  ...       19.688559        4.997487\n",
              "2  4331.650198       77.566164  ...       26.045952        2.409985\n",
              "3  4530.153671      100.463237  ...       19.865627        4.349159\n",
              "4  4699.087741       82.795664  ...       20.994606        3.573342\n",
              "\n",
              "[5 rows x 25 columns]"
            ]
          },
          "execution_count": 42,
          "metadata": {
            "tags": []
          },
          "output_type": "execute_result"
        }
      ],
      "source": [
        "df = pd.read_csv('https://raw.githubusercontent.com/pedroharaujo/ICD_Docencia/master/chemical_reaction.csv')\n",
        "df.head()"
      ]
    },
    {
      "cell_type": "code",
      "execution_count": null,
      "metadata": {
        "id": "pJ9yLl56Ir1y"
      },
      "outputs": [],
      "source": [
        "# def derivadas_regressao(theta, X, y):\n",
        "#     return -2 * ((y - X @ theta) @ X)\n",
        "\n",
        "\n",
        "# def gd(theta, d_fun, X, y, lambda_=0.0001, tol=0.000001, max_iter=100000):\n",
        "#     theta = theta.copy()\n",
        "#     #print('Iter {}; theta = '.format(0), theta)\n",
        "#     old_err_sq = np.inf\n",
        "#     i = 0\n",
        "#     while True:\n",
        "#         # Computar as derivadas\n",
        "#         grad = d_fun(theta, X, y)\n",
        "#         # Atualizar\n",
        "#         theta_novo = theta - lambda_ * grad\n",
        "\n",
        "#         # Parar quando o erro convergir\n",
        "#         err_sq = ((X.dot(theta) - y) ** 2).mean()\n",
        "#         if np.abs(old_err_sq - err_sq) <= tol:\n",
        "#             break\n",
        "#         theta = theta_novo\n",
        "#         old_err_sq = err_sq\n",
        "#         print('Iter {}; theta = '.format(i+1), theta)\n",
        "#         i += 1\n",
        "#         if i == max_iter:\n",
        "#             break\n",
        "#     return theta\n",
        "\n",
        "# def multiple_r_squared(X, y, theta):\n",
        "#     sse = sum(erro(y, X, theta)**2)\n",
        "#     sst = sum((y - np.mean(y))**2)\n",
        "#     return 1.0 - sse / sst"
      ]
    },
    {
      "cell_type": "code",
      "execution_count": null,
      "metadata": {
        "id": "PwpGTkxQIr1y"
      },
      "outputs": [],
      "source": [
        "# df = pd.read_csv('https://raw.githubusercontent.com/pedroharaujo/ICD_Docencia/master/chemical_reaction.csv', index_col=0)\n",
        "# z_df=(df-df.mean())/df.std()\n",
        "\n",
        "# X = z_df.iloc[:, 1:]\n",
        "# y = z_df.iloc[:, 0]\n",
        "# X['intercepto'] = 1\n",
        "\n",
        "# X = X.values\n",
        "# y = y.values\n",
        "\n",
        "# theta = np.zeros(X.shape[1])\n",
        "\n",
        "# theta = gd(theta, derivadas_regressao, X, y)\n",
        "# rm2 = multiple_r_squared(X, y, theta)"
      ]
    },
    {
      "cell_type": "code",
      "execution_count": null,
      "metadata": {
        "id": "ukFzl4BDIr1z"
      },
      "outputs": [],
      "source": [
        "# theta"
      ]
    },
    {
      "cell_type": "code",
      "execution_count": null,
      "metadata": {
        "id": "WYcURTGDIr1z"
      },
      "outputs": [],
      "source": [
        "# rm2"
      ]
    },
    {
      "cell_type": "code",
      "execution_count": null,
      "metadata": {
        "id": "Nu8E9tjzIr1z"
      },
      "outputs": [],
      "source": [
        "# def bootstrap_regression_gd(X, y, n=100, size=None):\n",
        "#     if size is None:\n",
        "#         size = len(df)\n",
        "\n",
        "#     T = np.zeros(shape=(n, X.shape[1]))\n",
        "#     for i in range(n):\n",
        "#         if i%500 == 0:\n",
        "#             print(\"bootstrap iter \", i)\n",
        "#         # Gera amostras com reposição e remove duplicatas\n",
        "#         idx = list(set(np.random.choice(len(y), len(y))))\n",
        "#         Xb = X[idx]\n",
        "#         yb = y[idx]\n",
        "\n",
        "#         # Fit usando gd\n",
        "#         theta = np.ones(X.shape[1])\n",
        "#         theta = gd(theta, derivadas_regressao, Xb, yb, lambda_=0.0001, tol=0.0001, max_iter=1000)\n",
        "\n",
        "#         T[i] = theta\n",
        "#     return T"
      ]
    },
    {
      "cell_type": "code",
      "execution_count": null,
      "metadata": {
        "id": "djxfzWjCIr1z"
      },
      "outputs": [],
      "source": [
        "# T = bootstrap_regression_gd(X, y)"
      ]
    },
    {
      "cell_type": "code",
      "execution_count": null,
      "metadata": {
        "id": "_Pmv6AD5Ir18"
      },
      "outputs": [],
      "source": [
        "# for col in range(T.shape[1]):\n",
        "#     fig = plt.figure()\n",
        "#     plt.hist(T[:, col], edgecolor='k')\n",
        "#     plt.title('{} - 95% CI Bootstrap: ({:.2f}, {:.2f})'.format(col,\n",
        "#                                                              np.percentile(T[:, col], 2.5),\n",
        "#                                                              np.percentile(T[:, col], 97.5)))\n",
        "#     plt.xlabel(r'$\\theta_i$')\n",
        "#     plt.ylabel('# Boot Amostras')\n",
        "#     despine()\n",
        "#     plt.show()"
      ]
    },
    {
      "cell_type": "markdown",
      "metadata": {
        "id": "UbZ18uGDIr18"
      },
      "source": [
        "#### Usando o sklearn"
      ]
    },
    {
      "cell_type": "code",
      "execution_count": null,
      "metadata": {
        "colab": {
          "base_uri": "https://localhost:8080/"
        },
        "id": "KWeI5Go8Ir19",
        "outputId": "8e70980e-6f12-4808-9938-d946e7946f10"
      },
      "outputs": [
        {
          "name": "stdout",
          "output_type": "stream",
          "text": [
            "Coeficientes: [ 1.55835201e-16 -3.60822483e-15 -3.59372911e-16  2.13031873e-15\n",
            "  2.38712334e-14  2.02043036e-15  3.10766459e+00 -1.41331438e-15\n",
            "  4.26703853e-16  1.11637382e-16  1.33560627e-15  3.34032361e-16\n",
            " -3.85303856e-15 -1.38973974e-16 -2.23026557e-16 -2.59907520e-15\n",
            "  2.89290298e-17 -2.20743562e-16  8.82974249e-16  2.01227923e-16\n",
            "  1.63410951e-15 -1.19262239e-17 -2.15214131e-16]\n",
            "Intercept: 46.32155050809039\n",
            "R^2: 1.0\n"
          ]
        }
      ],
      "source": [
        "from sklearn.linear_model import LinearRegression\n",
        "\n",
        "df = pd.read_csv('https://raw.githubusercontent.com/pedroharaujo/ICD_Docencia/master/chemical_reaction.csv', index_col=0)\n",
        "\n",
        "X = df.iloc[:, 1:].values\n",
        "y = df.iloc[:, 0].values\n",
        "\n",
        "lm = LinearRegression()\n",
        "lm.fit(X, y)\n",
        "\n",
        "print(\"Coeficientes: {}\".format(lm.coef_))\n",
        "print(\"Intercept: {}\".format(lm.intercept_))\n",
        "print(\"R^2: {}\".format(lm.score(X, y)))"
      ]
    },
    {
      "cell_type": "code",
      "execution_count": null,
      "metadata": {
        "colab": {
          "base_uri": "https://localhost:8080/"
        },
        "id": "pBn0h3u5Ir19",
        "outputId": "359a9e7b-8ca7-4572-abec-430a956d6b79"
      },
      "outputs": [
        {
          "name": "stderr",
          "output_type": "stream",
          "text": [
            "/usr/local/lib/python3.7/dist-packages/statsmodels/tools/_testing.py:19: FutureWarning: pandas.util.testing is deprecated. Use the functions in the public API at pandas.testing instead.\n",
            "  import pandas.util.testing as tm\n"
          ]
        },
        {
          "name": "stdout",
          "output_type": "stream",
          "text": [
            "                            OLS Regression Results                            \n",
            "==============================================================================\n",
            "Dep. Variable:                      y   R-squared:                       1.000\n",
            "Model:                            OLS   Adj. R-squared:                  1.000\n",
            "Method:                 Least Squares   F-statistic:                 3.431e+28\n",
            "Date:                Wed, 28 Jul 2021   Prob (F-statistic):               0.00\n",
            "Time:                        17:13:24   Log-Likelihood:                 26654.\n",
            "No. Observations:                1000   AIC:                        -5.327e+04\n",
            "Df Residuals:                     980   BIC:                        -5.317e+04\n",
            "Df Model:                          19                                         \n",
            "Covariance Type:            nonrobust                                         \n",
            "==============================================================================\n",
            "                 coef    std err          t      P>|t|      [0.025      0.975]\n",
            "------------------------------------------------------------------------------\n",
            "const          0.4045   1.36e-14   2.98e+13      0.000       0.404       0.404\n",
            "x1         -1.332e-15    4.4e-15     -0.303      0.762   -9.97e-15     7.3e-15\n",
            "x2          9.298e-16   1.86e-15      0.499      0.618   -2.73e-15    4.59e-15\n",
            "x3            -0.5947      2e-14  -2.98e+13      0.000      -0.595      -0.595\n",
            "x4             2.0319   1.01e-13   2.01e+13      0.000       2.032       2.032\n",
            "x5         -4.441e-15   4.93e-14     -0.090      0.928   -1.01e-13    9.24e-14\n",
            "x6            -2.7670   7.36e-14  -3.76e+13      0.000      -2.767      -2.767\n",
            "x7             3.1077   5.42e-15   5.74e+14      0.000       3.108       3.108\n",
            "x8         -1.776e-15   2.21e-14     -0.080      0.936   -4.52e-14    4.16e-14\n",
            "x9          2.498e-16   1.67e-15      0.150      0.881   -3.02e-15    3.52e-15\n",
            "x10         1.943e-16    4.4e-16      0.442      0.659   -6.69e-16    1.06e-15\n",
            "x11         5.662e-15   2.21e-14      0.256      0.798   -3.78e-14    4.91e-14\n",
            "x12                 0   1.21e-14          0      1.000   -2.36e-14    2.36e-14\n",
            "x13         2.665e-15   1.84e-15      1.451      0.147   -9.38e-16    6.27e-15\n",
            "x14            0.2223   7.52e-15   2.96e+13      0.000       0.222       0.222\n",
            "x15           -0.3628   1.22e-14  -2.98e+13      0.000      -0.363      -0.363\n",
            "x16        -2.132e-14   8.06e-14     -0.264      0.792    -1.8e-13    1.37e-13\n",
            "x17         8.986e-16    1.1e-15      0.817      0.414   -1.26e-15    3.06e-15\n",
            "x18            0.7855   2.65e-14   2.97e+13      0.000       0.786       0.786\n",
            "x19        -1.277e-15   2.72e-15     -0.469      0.639   -6.62e-15    4.07e-15\n",
            "x20            0.0330    1.1e-15   2.99e+13      0.000       0.033       0.033\n",
            "x21        -4.829e-15   3.95e-15     -1.223      0.221   -1.26e-14    2.92e-15\n",
            "x22        -9.159e-16   5.29e-15     -0.173      0.863   -1.13e-14    9.47e-15\n",
            "x23           -2.3739   7.98e-14  -2.98e+13      0.000      -2.374      -2.374\n",
            "==============================================================================\n",
            "Omnibus:                        7.693   Durbin-Watson:                   0.125\n",
            "Prob(Omnibus):                  0.021   Jarque-Bera (JB):                7.602\n",
            "Skew:                           0.205   Prob(JB):                       0.0223\n",
            "Kurtosis:                       3.120   Cond. No.                     2.91e+18\n",
            "==============================================================================\n",
            "\n",
            "Warnings:\n",
            "[1] Standard Errors assume that the covariance matrix of the errors is correctly specified.\n",
            "[2] The smallest eigenvalue is 2.24e-29. This might indicate that there are\n",
            "strong multicollinearity problems or that the design matrix is singular.\n"
          ]
        }
      ],
      "source": [
        "import statsmodels.api as sm\n",
        "\n",
        "X = sm.add_constant(X) # adding a constant\n",
        "\n",
        "model = sm.OLS(y, X).fit()\n",
        "predictions = model.predict(X)\n",
        "\n",
        "print_model = model.summary()\n",
        "print(print_model)"
      ]
    },
    {
      "cell_type": "markdown",
      "metadata": {
        "id": "GrQt9weDU4mV"
      },
      "source": [
        "### Dataset FIFA - SEM CORREÇÃO AUTOMÁTICA"
      ]
    },
    {
      "cell_type": "markdown",
      "metadata": {
        "id": "y-4zWsCNTagv",
        "nbgrader": {
          "grade": false,
          "grade_id": "cell3c-a00",
          "locked": true,
          "schema_version": 1,
          "solution": false
        }
      },
      "source": [
        "O [FIFA](https://pt.wikipedia.org/wiki/FIFA_(s%C3%A9rie)) é um jogo eletrônico de futebol muito popular em que, parte da diversão, é poder jogar partidas envolvendo jogadores reais. Para simular um jogador real, o jogo descreve-os usando diversos atributos (como poder do chute, velocidade, etc) que, de alguma forma, resultado em sua habilidade como um todo (*overall*).\n",
        "\n",
        "* Neste exercício você deve encontrar um modelo linear que explique a habilidade *overall* dos jogadores do FIFA a partir das suas outras habilidades. Para isso, utilize o arquivo contendo as habilidades de 20 mil jogadores. Mostre os coeficientes, a qualidade do ajuste e os fatores significativos.\n",
        "\n",
        "**Dica:** pode haver mais de um modelo!"
      ]
    },
    {
      "cell_type": "code",
      "execution_count": null,
      "metadata": {
        "colab": {
          "base_uri": "https://localhost:8080/"
        },
        "id": "p8vS7xKUIr1-",
        "outputId": "24fc69ec-e233-4d1f-a03d-200efaedd8dc"
      },
      "outputs": [
        {
          "data": {
            "text/html": [
              "<div>\n",
              "<style scoped>\n",
              "    .dataframe tbody tr th:only-of-type {\n",
              "        vertical-align: middle;\n",
              "    }\n",
              "\n",
              "    .dataframe tbody tr th {\n",
              "        vertical-align: top;\n",
              "    }\n",
              "\n",
              "    .dataframe thead th {\n",
              "        text-align: right;\n",
              "    }\n",
              "</style>\n",
              "<table border=\"1\" class=\"dataframe\">\n",
              "  <thead>\n",
              "    <tr style=\"text-align: right;\">\n",
              "      <th></th>\n",
              "      <th>Crossing</th>\n",
              "      <th>Finishing</th>\n",
              "      <th>Heading Accuracy</th>\n",
              "      <th>Short Passing</th>\n",
              "      <th>Volleys</th>\n",
              "      <th>Dribbling</th>\n",
              "      <th>Curve</th>\n",
              "      <th>Long Passing</th>\n",
              "      <th>Ball Control</th>\n",
              "      <th>Acceleration</th>\n",
              "      <th>Sprint Speed</th>\n",
              "      <th>Agility</th>\n",
              "      <th>Reactions</th>\n",
              "      <th>Balance</th>\n",
              "      <th>Shot Power</th>\n",
              "      <th>Jumping</th>\n",
              "      <th>Stamina</th>\n",
              "      <th>Strength</th>\n",
              "      <th>Long Shots</th>\n",
              "      <th>Aggression</th>\n",
              "      <th>Interceptions</th>\n",
              "      <th>Positioning</th>\n",
              "      <th>Vision</th>\n",
              "      <th>Penalties</th>\n",
              "      <th>Marking</th>\n",
              "      <th>Standing Tackle</th>\n",
              "      <th>Sliding Tackle</th>\n",
              "      <th>GK Diving</th>\n",
              "      <th>GK Handling</th>\n",
              "      <th>GK Kicking</th>\n",
              "      <th>GK Positioning</th>\n",
              "      <th>GK Reflexes</th>\n",
              "      <th>Free Kick Accuracy</th>\n",
              "      <th>Overall</th>\n",
              "      <th>Position</th>\n",
              "      <th>Position class</th>\n",
              "      <th>ID</th>\n",
              "      <th>VersionID</th>\n",
              "    </tr>\n",
              "  </thead>\n",
              "  <tbody>\n",
              "    <tr>\n",
              "      <th>71672</th>\n",
              "      <td>37</td>\n",
              "      <td>51</td>\n",
              "      <td>57</td>\n",
              "      <td>62</td>\n",
              "      <td>49</td>\n",
              "      <td>44</td>\n",
              "      <td>35</td>\n",
              "      <td>57</td>\n",
              "      <td>60</td>\n",
              "      <td>69</td>\n",
              "      <td>65</td>\n",
              "      <td>67</td>\n",
              "      <td>58</td>\n",
              "      <td>68</td>\n",
              "      <td>82</td>\n",
              "      <td>72</td>\n",
              "      <td>68</td>\n",
              "      <td>67</td>\n",
              "      <td>68</td>\n",
              "      <td>74</td>\n",
              "      <td>63</td>\n",
              "      <td>56</td>\n",
              "      <td>55</td>\n",
              "      <td>48</td>\n",
              "      <td>57</td>\n",
              "      <td>65</td>\n",
              "      <td>64</td>\n",
              "      <td>14</td>\n",
              "      <td>14</td>\n",
              "      <td>6</td>\n",
              "      <td>11</td>\n",
              "      <td>14</td>\n",
              "      <td>44</td>\n",
              "      <td>62</td>\n",
              "      <td>CDM</td>\n",
              "      <td>Midfield</td>\n",
              "      <td>203979</td>\n",
              "      <td>203979001</td>\n",
              "    </tr>\n",
              "    <tr>\n",
              "      <th>195550</th>\n",
              "      <td>25</td>\n",
              "      <td>25</td>\n",
              "      <td>25</td>\n",
              "      <td>37</td>\n",
              "      <td>25</td>\n",
              "      <td>25</td>\n",
              "      <td>25</td>\n",
              "      <td>31</td>\n",
              "      <td>29</td>\n",
              "      <td>46</td>\n",
              "      <td>50</td>\n",
              "      <td>34</td>\n",
              "      <td>71</td>\n",
              "      <td>42</td>\n",
              "      <td>42</td>\n",
              "      <td>54</td>\n",
              "      <td>35</td>\n",
              "      <td>70</td>\n",
              "      <td>25</td>\n",
              "      <td>32</td>\n",
              "      <td>20</td>\n",
              "      <td>25</td>\n",
              "      <td>25</td>\n",
              "      <td>27</td>\n",
              "      <td>25</td>\n",
              "      <td>25</td>\n",
              "      <td>25</td>\n",
              "      <td>68</td>\n",
              "      <td>65</td>\n",
              "      <td>62</td>\n",
              "      <td>67</td>\n",
              "      <td>68</td>\n",
              "      <td>25</td>\n",
              "      <td>67</td>\n",
              "      <td>GK</td>\n",
              "      <td>Goalkeeper</td>\n",
              "      <td>164507</td>\n",
              "      <td>164507032</td>\n",
              "    </tr>\n",
              "    <tr>\n",
              "      <th>119189</th>\n",
              "      <td>56</td>\n",
              "      <td>33</td>\n",
              "      <td>53</td>\n",
              "      <td>69</td>\n",
              "      <td>30</td>\n",
              "      <td>55</td>\n",
              "      <td>46</td>\n",
              "      <td>66</td>\n",
              "      <td>72</td>\n",
              "      <td>73</td>\n",
              "      <td>67</td>\n",
              "      <td>74</td>\n",
              "      <td>58</td>\n",
              "      <td>71</td>\n",
              "      <td>74</td>\n",
              "      <td>56</td>\n",
              "      <td>70</td>\n",
              "      <td>74</td>\n",
              "      <td>35</td>\n",
              "      <td>72</td>\n",
              "      <td>68</td>\n",
              "      <td>69</td>\n",
              "      <td>68</td>\n",
              "      <td>67</td>\n",
              "      <td>56</td>\n",
              "      <td>60</td>\n",
              "      <td>60</td>\n",
              "      <td>12</td>\n",
              "      <td>6</td>\n",
              "      <td>7</td>\n",
              "      <td>14</td>\n",
              "      <td>10</td>\n",
              "      <td>29</td>\n",
              "      <td>64</td>\n",
              "      <td>CM</td>\n",
              "      <td>Midfield</td>\n",
              "      <td>183768</td>\n",
              "      <td>183768011</td>\n",
              "    </tr>\n",
              "    <tr>\n",
              "      <th>97807</th>\n",
              "      <td>37</td>\n",
              "      <td>11</td>\n",
              "      <td>65</td>\n",
              "      <td>54</td>\n",
              "      <td>12</td>\n",
              "      <td>27</td>\n",
              "      <td>18</td>\n",
              "      <td>37</td>\n",
              "      <td>51</td>\n",
              "      <td>63</td>\n",
              "      <td>71</td>\n",
              "      <td>62</td>\n",
              "      <td>58</td>\n",
              "      <td>58</td>\n",
              "      <td>41</td>\n",
              "      <td>77</td>\n",
              "      <td>72</td>\n",
              "      <td>74</td>\n",
              "      <td>17</td>\n",
              "      <td>63</td>\n",
              "      <td>61</td>\n",
              "      <td>24</td>\n",
              "      <td>47</td>\n",
              "      <td>27</td>\n",
              "      <td>56</td>\n",
              "      <td>65</td>\n",
              "      <td>57</td>\n",
              "      <td>6</td>\n",
              "      <td>9</td>\n",
              "      <td>8</td>\n",
              "      <td>9</td>\n",
              "      <td>8</td>\n",
              "      <td>19</td>\n",
              "      <td>62</td>\n",
              "      <td>CB</td>\n",
              "      <td>Defense</td>\n",
              "      <td>170027</td>\n",
              "      <td>170027010</td>\n",
              "    </tr>\n",
              "    <tr>\n",
              "      <th>177150</th>\n",
              "      <td>39</td>\n",
              "      <td>63</td>\n",
              "      <td>62</td>\n",
              "      <td>46</td>\n",
              "      <td>57</td>\n",
              "      <td>57</td>\n",
              "      <td>44</td>\n",
              "      <td>44</td>\n",
              "      <td>64</td>\n",
              "      <td>78</td>\n",
              "      <td>77</td>\n",
              "      <td>85</td>\n",
              "      <td>66</td>\n",
              "      <td>69</td>\n",
              "      <td>65</td>\n",
              "      <td>71</td>\n",
              "      <td>73</td>\n",
              "      <td>72</td>\n",
              "      <td>44</td>\n",
              "      <td>52</td>\n",
              "      <td>25</td>\n",
              "      <td>64</td>\n",
              "      <td>55</td>\n",
              "      <td>62</td>\n",
              "      <td>25</td>\n",
              "      <td>25</td>\n",
              "      <td>25</td>\n",
              "      <td>4</td>\n",
              "      <td>6</td>\n",
              "      <td>6</td>\n",
              "      <td>5</td>\n",
              "      <td>6</td>\n",
              "      <td>36</td>\n",
              "      <td>65</td>\n",
              "      <td>ST</td>\n",
              "      <td>Attack</td>\n",
              "      <td>190254</td>\n",
              "      <td>190254023</td>\n",
              "    </tr>\n",
              "  </tbody>\n",
              "</table>\n",
              "</div>"
            ],
            "text/plain": [
              "        Crossing  Finishing  Heading Accuracy  ...  Position class      ID  VersionID\n",
              "71672         37         51                57  ...        Midfield  203979  203979001\n",
              "195550        25         25                25  ...      Goalkeeper  164507  164507032\n",
              "119189        56         33                53  ...        Midfield  183768  183768011\n",
              "97807         37         11                65  ...         Defense  170027  170027010\n",
              "177150        39         63                62  ...          Attack  190254  190254023\n",
              "\n",
              "[5 rows x 38 columns]"
            ]
          },
          "execution_count": 52,
          "metadata": {
            "tags": []
          },
          "output_type": "execute_result"
        }
      ],
      "source": [
        "df = pd.read_csv('https://raw.githubusercontent.com/pedroharaujo/ICD_Docencia/master/skills_and_overall_sample_20k.csv', index_col=0)\n",
        "df.head()"
      ]
    },
    {
      "cell_type": "code",
      "execution_count": null,
      "metadata": {
        "colab": {
          "base_uri": "https://localhost:8080/"
        },
        "id": "Ok89TTj2Ir1-",
        "outputId": "97732c1b-e8e0-422c-a6e7-798d723f2128"
      },
      "outputs": [
        {
          "name": "stdout",
          "output_type": "stream",
          "text": [
            "Coeficientes: [ 0.01084735  0.10576893  0.06986422 -0.00835185  0.00571818  0.00442602\n",
            "  0.01561893  0.183403    0.03083597  0.04326414  0.00430891  0.24256125\n",
            " -0.00652148  0.03605648  0.01427776 -0.026015    0.0534794  -0.02479087\n",
            "  0.00854711  0.01637681 -0.01793254  0.02066591  0.01385459  0.01055705\n",
            "  0.01445376 -0.00963099  0.17505381  0.04758202 -0.01168633  0.07283677\n",
            "  0.04387138  0.00858583]\n",
            "Intercept: 11.85812704163773\n",
            "R^2: 0.7092700713433605\n"
          ]
        }
      ],
      "source": [
        "from sklearn.linear_model import LinearRegression\n",
        "\n",
        "X = df.iloc[:, 1:33].values\n",
        "y = df.iloc[:, 33].values\n",
        "\n",
        "lm = LinearRegression()\n",
        "lm.fit(X, y)\n",
        "\n",
        "print(\"Coeficientes: {}\".format(lm.coef_))\n",
        "print(\"Intercept: {}\".format(lm.intercept_))\n",
        "print(\"R^2: {}\".format(lm.score(X, y)))"
      ]
    },
    {
      "cell_type": "code",
      "execution_count": null,
      "metadata": {
        "colab": {
          "base_uri": "https://localhost:8080/"
        },
        "id": "PCNGOcHnIr1-",
        "outputId": "d4bfd3b9-da2c-446e-f702-120aa61d0dcb"
      },
      "outputs": [
        {
          "name": "stdout",
          "output_type": "stream",
          "text": [
            "                            OLS Regression Results                            \n",
            "==============================================================================\n",
            "Dep. Variable:                      y   R-squared:                       0.709\n",
            "Model:                            OLS   Adj. R-squared:                  0.709\n",
            "Method:                 Least Squares   F-statistic:                     1522.\n",
            "Date:                Wed, 28 Jul 2021   Prob (F-statistic):               0.00\n",
            "Time:                        17:13:25   Log-Likelihood:                -54957.\n",
            "No. Observations:               20000   AIC:                         1.100e+05\n",
            "Df Residuals:                   19967   BIC:                         1.102e+05\n",
            "Df Model:                          32                                         \n",
            "Covariance Type:            nonrobust                                         \n",
            "==============================================================================\n",
            "                 coef    std err          t      P>|t|      [0.025      0.975]\n",
            "------------------------------------------------------------------------------\n",
            "const         11.8581      0.333     35.567      0.000      11.205      12.512\n",
            "x1             0.0108      0.003      3.141      0.002       0.004       0.018\n",
            "x2             0.1058      0.003     34.505      0.000       0.100       0.112\n",
            "x3             0.0699      0.005     14.345      0.000       0.060       0.079\n",
            "x4            -0.0084      0.003     -2.941      0.003      -0.014      -0.003\n",
            "x5             0.0057      0.004      1.396      0.163      -0.002       0.014\n",
            "x6             0.0044      0.003      1.561      0.118      -0.001       0.010\n",
            "x7             0.0156      0.004      4.462      0.000       0.009       0.022\n",
            "x8             0.1834      0.005     33.693      0.000       0.173       0.194\n",
            "x9             0.0308      0.005      6.205      0.000       0.021       0.041\n",
            "x10            0.0433      0.005      8.953      0.000       0.034       0.053\n",
            "x11            0.0043      0.003      1.233      0.218      -0.003       0.011\n",
            "x12            0.2426      0.004     62.573      0.000       0.235       0.250\n",
            "x13           -0.0065      0.003     -2.192      0.028      -0.012      -0.001\n",
            "x14            0.0361      0.003     10.819      0.000       0.030       0.043\n",
            "x15            0.0143      0.003      5.306      0.000       0.009       0.020\n",
            "x16           -0.0260      0.003     -8.246      0.000      -0.032      -0.020\n",
            "x17            0.0535      0.003     16.546      0.000       0.047       0.060\n",
            "x18           -0.0248      0.003     -7.153      0.000      -0.032      -0.018\n",
            "x19            0.0085      0.003      3.245      0.001       0.003       0.014\n",
            "x20            0.0164      0.003      5.895      0.000       0.011       0.022\n",
            "x21           -0.0179      0.003     -6.235      0.000      -0.024      -0.012\n",
            "x22            0.0207      0.003      6.488      0.000       0.014       0.027\n",
            "x23            0.0139      0.003      4.821      0.000       0.008       0.019\n",
            "x24            0.0106      0.004      2.615      0.009       0.003       0.018\n",
            "x25            0.0145      0.004      3.434      0.001       0.006       0.023\n",
            "x26           -0.0096      0.002     -3.972      0.000      -0.014      -0.005\n",
            "x27            0.1751      0.005     32.349      0.000       0.164       0.186\n",
            "x28            0.0476      0.008      6.201      0.000       0.033       0.063\n",
            "x29           -0.0117      0.002     -5.215      0.000      -0.016      -0.007\n",
            "x30            0.0728      0.008      9.479      0.000       0.058       0.088\n",
            "x31            0.0439      0.007      5.887      0.000       0.029       0.058\n",
            "x32            0.0086      0.003      3.225      0.001       0.003       0.014\n",
            "==============================================================================\n",
            "Omnibus:                      969.490   Durbin-Watson:                   2.010\n",
            "Prob(Omnibus):                  0.000   Jarque-Bera (JB):             2142.024\n",
            "Skew:                           0.320   Prob(JB):                         0.00\n",
            "Kurtosis:                       4.470   Cond. No.                     3.81e+03\n",
            "==============================================================================\n",
            "\n",
            "Warnings:\n",
            "[1] Standard Errors assume that the covariance matrix of the errors is correctly specified.\n",
            "[2] The condition number is large, 3.81e+03. This might indicate that there are\n",
            "strong multicollinearity or other numerical problems.\n"
          ]
        }
      ],
      "source": [
        "import statsmodels.api as sm\n",
        "\n",
        "X = sm.add_constant(X) # adding a constant\n",
        "\n",
        "model = sm.OLS(y, X).fit()\n",
        "predictions = model.predict(X)\n",
        "\n",
        "print_model = model.summary()\n",
        "print(print_model)"
      ]
    },
    {
      "cell_type": "code",
      "execution_count": null,
      "metadata": {
        "id": "NnQTWhZecsdE"
      },
      "outputs": [],
      "source": []
    }
  ],
  "metadata": {
    "colab": {
      "collapsed_sections": [
        "-q4qd-uOQB1q",
        "Jshbj3f6QbEy",
        "DmRW-FeXQmmc",
        "reYHc_eqQplh",
        "nLZaGp36Qr1o",
        "16L6PnePIr1f",
        "pwWCbwSyRFJB",
        "MmXhGrjGRH1y",
        "7zDAsNlRTeVy",
        "kVkBHC7CT70d",
        "1mb7F-SMbpJv",
        "bBodSjHMU14S",
        "UbZ18uGDIr18",
        "GrQt9weDU4mV"
      ],
      "provenance": []
    },
    "kernelspec": {
      "display_name": "Python 3",
      "language": "python",
      "name": "python3"
    },
    "language_info": {
      "codemirror_mode": {
        "name": "ipython",
        "version": 3
      },
      "file_extension": ".py",
      "mimetype": "text/x-python",
      "name": "python",
      "nbconvert_exporter": "python",
      "pygments_lexer": "ipython3",
      "version": "3.11.2"
    }
  },
  "nbformat": 4,
  "nbformat_minor": 0
}
