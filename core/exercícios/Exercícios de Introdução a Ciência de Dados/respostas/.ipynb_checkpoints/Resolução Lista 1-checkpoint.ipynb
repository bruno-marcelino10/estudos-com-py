{
 "cells": [
  {
   "cell_type": "markdown",
   "metadata": {
    "id": "766pyyuekYB8"
   },
   "source": [
    "# Lista 01 - Introdução e Revisão Numpy\n",
    "\n",
    "[NumPy](http://numpy.org) é um pacote incrivelmente poderoso em Python, onipresente em qualquer projeto de ciência de dados. Possui forte integração com o [Pandas](http://pandas.pydata.org), outra ferramenta que iremos abordar na matéria. NumPy adiciona suporte para matrizes multidimensionais e funções matemáticas que permitem que você execute facilmente cálculos de álgebra linear. Este notebook será uma coleção de exemplos de álgebra linear computados usando NumPy. \n",
    "\n",
    "## Numpy \n",
    "\n",
    "Para fazer uso de Numpy precisamos importar a biblioteca"
   ]
  },
  {
   "cell_type": "code",
   "execution_count": 1,
   "metadata": {
    "id": "UHeFqyTykYCH"
   },
   "outputs": [],
   "source": [
    "# -*- coding: utf8\n",
    "\n",
    "import numpy as np"
   ]
  },
  {
   "cell_type": "markdown",
   "metadata": {
    "id": "Emhkyx_gkYCL"
   },
   "source": [
    "Quando pensamos no lado prático de ciência de dados, um aspecto chave que ajuda na implementação de novos algoritmos é a vetorização. De forma simples, vetorização consiste do uso de tipos como **escalar**, **vetor** e **matriz** para realizar uma computação mais eficaz (em tempo de execução).\n",
    "\n",
    "Uma matriz é uma coleção de valores, normalmente representada por uma grade 𝑚 × 𝑛, onde 𝑚 é o número de linhas e 𝑛 é o número de colunas. Os comprimentos das arestas 𝑚 e 𝑛 não precisam ser necessariamente diferentes. Se tivermos 𝑚 = 𝑛, chamamos isso de matriz quadrada. Um caso particularmente interessante de uma matriz é quando 𝑚 = 1 ou 𝑛 = 1. Nesse caso, temos um caso especial de uma matriz que chamamos de vetor. Embora haja um objeto de matriz em NumPy, faremos tudo usando matrizes NumPy porque elas podem ter dimensões maiores que 2. \n",
    "\n",
    "1. **Escalar:** Um vetor de zero dimensões"
   ]
  },
  {
   "cell_type": "code",
   "execution_count": 2,
   "metadata": {
    "id": "Aty5aaJUkYCM"
   },
   "outputs": [
    {
     "data": {
      "text/plain": [
       "1"
      ]
     },
     "execution_count": 2,
     "metadata": {},
     "output_type": "execute_result"
    }
   ],
   "source": [
    "1"
   ]
  },
  {
   "cell_type": "markdown",
   "metadata": {
    "id": "NXPTYOaRkYCN"
   },
   "source": [
    "2. **Vetor:** Representa uma dimensão"
   ]
  },
  {
   "cell_type": "markdown",
   "metadata": {
    "id": "dVYfZAgjkYCP"
   },
   "source": [
    "Abaixo vamos criar um vetor simples. Inicialmente, vamos criar uma lista."
   ]
  },
  {
   "cell_type": "code",
   "execution_count": 3,
   "metadata": {
    "id": "11Od2FMnkYCQ"
   },
   "outputs": [],
   "source": [
    "data_list = [3.5, 5, 2, 8, 4.2]"
   ]
  },
  {
   "cell_type": "markdown",
   "metadata": {
    "id": "FWbH4QU2kYCQ"
   },
   "source": [
    "Observe o tipo da mesma."
   ]
  },
  {
   "cell_type": "code",
   "execution_count": 4,
   "metadata": {
    "id": "iX2e75WSkYCR"
   },
   "outputs": [
    {
     "data": {
      "text/plain": [
       "list"
      ]
     },
     "execution_count": 4,
     "metadata": {},
     "output_type": "execute_result"
    }
   ],
   "source": [
    "type(data_list)"
   ]
  },
  {
   "cell_type": "markdown",
   "metadata": {
    "id": "9Gn1lt2gkYCS"
   },
   "source": [
    "Embora vetores e listas sejam parecidos, vetores Numpy são otimizados para operações de Álgebra Linear. Ciência de Dados faz bastante uso de tais operações, sendo este um dos motivos da dependência em Numpy.\n",
    "\n",
    "Abaixo criamos um vetor."
   ]
  },
  {
   "cell_type": "code",
   "execution_count": 5,
   "metadata": {
    "id": "C1f48Um-kYCT"
   },
   "outputs": [
    {
     "name": "stdout",
     "output_type": "stream",
     "text": [
      "[3.5 5.  2.  8.  4.2]\n",
      "<class 'numpy.ndarray'>\n"
     ]
    }
   ],
   "source": [
    "data = np.array(data_list)\n",
    "print(data)\n",
    "print(type(data))"
   ]
  },
  {
   "cell_type": "markdown",
   "metadata": {
    "id": "gQiLy6z0kYCX"
   },
   "source": [
    "Observe como podemos somar o mesmo com um número. Não é possível fazer tal operação com listas."
   ]
  },
  {
   "cell_type": "code",
   "execution_count": 6,
   "metadata": {
    "id": "ujxdCKZmkYCY"
   },
   "outputs": [
    {
     "data": {
      "text/plain": [
       "array([10.5, 12. ,  9. , 15. , 11.2])"
      ]
     },
     "execution_count": 6,
     "metadata": {},
     "output_type": "execute_result"
    }
   ],
   "source": [
    "data + 7"
   ]
  },
  {
   "cell_type": "markdown",
   "metadata": {
    "id": "wlmAc71akYCZ"
   },
   "source": [
    "3. **Matrizes:** Representam duas dimensões."
   ]
  },
  {
   "cell_type": "code",
   "execution_count": 7,
   "metadata": {
    "id": "CkSUnM3dkYCZ"
   },
   "outputs": [
    {
     "data": {
      "text/plain": [
       "array([[2, 4],\n",
       "       [1, 3]])"
      ]
     },
     "execution_count": 7,
     "metadata": {},
     "output_type": "execute_result"
    }
   ],
   "source": [
    "X = np.array([[2, 4],\n",
    "              [1, 3]])\n",
    "X"
   ]
  },
  {
   "cell_type": "markdown",
   "metadata": {
    "id": "0oAvSlj7kYCa"
   },
   "source": [
    "Podemos indexar as matrizes e os vetores."
   ]
  },
  {
   "cell_type": "code",
   "execution_count": 8,
   "metadata": {
    "id": "QLlBXVd1kYCa"
   },
   "outputs": [
    {
     "data": {
      "text/plain": [
       "3.5"
      ]
     },
     "execution_count": 8,
     "metadata": {},
     "output_type": "execute_result"
    }
   ],
   "source": [
    "data[0]"
   ]
  },
  {
   "cell_type": "code",
   "execution_count": 9,
   "metadata": {
    "id": "5w_ZzPbdkYCb"
   },
   "outputs": [
    {
     "data": {
      "text/plain": [
       "4"
      ]
     },
     "execution_count": 9,
     "metadata": {},
     "output_type": "execute_result"
    }
   ],
   "source": [
    "X[0, 1] # aqui é primeira linha, segunda coluna"
   ]
  },
  {
   "cell_type": "markdown",
   "metadata": {
    "id": "-TvsnNRMkYCb"
   },
   "source": [
    "Podemos também criar vetores/matrizes de números aleatórios"
   ]
  },
  {
   "cell_type": "code",
   "execution_count": 10,
   "metadata": {
    "id": "zZbgBFC3kYCc"
   },
   "outputs": [
    {
     "name": "stdout",
     "output_type": "stream",
     "text": [
      "[[ 2.58502144  0.35208089 -1.36488042]\n",
      " [-0.54504584 -0.68930789  0.69001955]\n",
      " [-0.28929159  0.78330341 -1.07752312]\n",
      " [ 0.24802101 -0.42167232  1.21836512]]\n"
     ]
    }
   ],
   "source": [
    "X = np.random.randn(4, 3) # Gera números aleatórios de uma normal\n",
    "print(X)"
   ]
  },
  {
   "cell_type": "markdown",
   "metadata": {
    "id": "bt3_1iu1kYCd"
   },
   "source": [
    "### Indexando\n",
    "\n",
    "Pegando a primeira linha"
   ]
  },
  {
   "cell_type": "code",
   "execution_count": 11,
   "metadata": {
    "id": "yLXA-k8_kYCe"
   },
   "outputs": [
    {
     "data": {
      "text/plain": [
       "array([ 2.58502144,  0.35208089, -1.36488042])"
      ]
     },
     "execution_count": 11,
     "metadata": {},
     "output_type": "execute_result"
    }
   ],
   "source": [
    "X[0] # observe que 0 é a linha 1, compare com o X[0, 1] de antes."
   ]
  },
  {
   "cell_type": "code",
   "execution_count": 12,
   "metadata": {
    "id": "q0NlYv9hkYCf"
   },
   "outputs": [
    {
     "data": {
      "text/plain": [
       "array([-0.54504584, -0.68930789,  0.69001955])"
      ]
     },
     "execution_count": 12,
     "metadata": {},
     "output_type": "execute_result"
    }
   ],
   "source": [
    "X[1] # segunda"
   ]
  },
  {
   "cell_type": "code",
   "execution_count": 13,
   "metadata": {
    "id": "tq7BH5aZkYCg"
   },
   "outputs": [
    {
     "data": {
      "text/plain": [
       "array([-0.28929159,  0.78330341, -1.07752312])"
      ]
     },
     "execution_count": 13,
     "metadata": {},
     "output_type": "execute_result"
    }
   ],
   "source": [
    "X[2] # terceira"
   ]
  },
  {
   "cell_type": "markdown",
   "metadata": {
    "id": "IwVwmM3MkYCh"
   },
   "source": [
    "Observe como todos os tipos retornados são `array`. Array é o nome genérico de Numpy para vetores e matrizes. "
   ]
  },
  {
   "cell_type": "markdown",
   "metadata": {
    "id": "bVxk8zjkkYCh"
   },
   "source": [
    "`X[:, c]` pega uma coluna"
   ]
  },
  {
   "cell_type": "code",
   "execution_count": 14,
   "metadata": {
    "id": "0Yxb0JjPkYCh"
   },
   "outputs": [
    {
     "data": {
      "text/plain": [
       "array([ 2.58502144, -0.54504584, -0.28929159,  0.24802101])"
      ]
     },
     "execution_count": 14,
     "metadata": {},
     "output_type": "execute_result"
    }
   ],
   "source": [
    "X[:, 0]"
   ]
  },
  {
   "cell_type": "code",
   "execution_count": 15,
   "metadata": {
    "id": "EWGw-LvTkYCh"
   },
   "outputs": [
    {
     "data": {
      "text/plain": [
       "array([ 0.35208089, -0.68930789,  0.78330341, -0.42167232])"
      ]
     },
     "execution_count": 15,
     "metadata": {},
     "output_type": "execute_result"
    }
   ],
   "source": [
    "X[:, 1]"
   ]
  },
  {
   "cell_type": "markdown",
   "metadata": {
    "id": "igSvl7aIkYCl"
   },
   "source": [
    "`X[um_vetor]` pega as linhas da matriz. `X[:, um_vetor]` pega as colunas"
   ]
  },
  {
   "cell_type": "code",
   "execution_count": 16,
   "metadata": {
    "id": "dgqX25TQkYCl"
   },
   "outputs": [
    {
     "data": {
      "text/plain": [
       "array([[ 2.58502144,  0.35208089, -1.36488042],\n",
       "       [ 2.58502144,  0.35208089, -1.36488042],\n",
       "       [-0.54504584, -0.68930789,  0.69001955]])"
      ]
     },
     "execution_count": 16,
     "metadata": {},
     "output_type": "execute_result"
    }
   ],
   "source": [
    "X[[0, 0, 1]] # observe que pego a primeira linha, indexada por 0, duas vezes"
   ]
  },
  {
   "cell_type": "markdown",
   "metadata": {
    "id": "8aLnbePqkYCp"
   },
   "source": [
    "Abaixo pego a segunda a primeira coluna"
   ]
  },
  {
   "cell_type": "code",
   "execution_count": 17,
   "metadata": {
    "id": "gUYl86sykYCq"
   },
   "outputs": [
    {
     "data": {
      "text/plain": [
       "array([[ 0.35208089,  2.58502144],\n",
       "       [-0.68930789, -0.54504584],\n",
       "       [ 0.78330341, -0.28929159],\n",
       "       [-0.42167232,  0.24802101]])"
      ]
     },
     "execution_count": 17,
     "metadata": {},
     "output_type": "execute_result"
    }
   ],
   "source": [
    "X[:, [1, 0]]"
   ]
  },
  {
   "cell_type": "markdown",
   "metadata": {
    "id": "x7rNfAcTkYCq"
   },
   "source": [
    "### Indexação Booleana\n",
    "\n",
    "`X[vetor_booleano]` retorna as linhas (ou colunas quando X[:, vetor_booleano]) onde o vetor é true"
   ]
  },
  {
   "cell_type": "code",
   "execution_count": 18,
   "metadata": {
    "id": "Bs_i5-UnkYCr"
   },
   "outputs": [
    {
     "data": {
      "text/plain": [
       "array([[ 2.58502144,  0.35208089, -1.36488042],\n",
       "       [-0.28929159,  0.78330341, -1.07752312]])"
      ]
     },
     "execution_count": 18,
     "metadata": {},
     "output_type": "execute_result"
    }
   ],
   "source": [
    "X[[True, False, True, False]]"
   ]
  },
  {
   "cell_type": "code",
   "execution_count": 19,
   "metadata": {
    "id": "kZ7qbYTIkYCr"
   },
   "outputs": [
    {
     "data": {
      "text/plain": [
       "array([[ 0.35208089, -1.36488042],\n",
       "       [-0.68930789,  0.69001955],\n",
       "       [ 0.78330341, -1.07752312],\n",
       "       [-0.42167232,  1.21836512]])"
      ]
     },
     "execution_count": 19,
     "metadata": {},
     "output_type": "execute_result"
    }
   ],
   "source": [
    "X[:, [False, True, True]]"
   ]
  },
  {
   "cell_type": "markdown",
   "metadata": {
    "id": "omwGqkTMkYCr"
   },
   "source": [
    "### Reshape, Flatten e Ravel\n",
    "\n",
    "Todo vetor ou matriz pode ser redimensionado. Observe como uma matriz abaixo de 9x8=72 elementos. Podemos redimensionar os mesmos para outros arrays de tamanho 72."
   ]
  },
  {
   "cell_type": "code",
   "execution_count": 20,
   "metadata": {
    "id": "GgHNyf-RkYCr"
   },
   "outputs": [],
   "source": [
    "X = np.random.randn(9, 8)"
   ]
  },
  {
   "cell_type": "markdown",
   "metadata": {
    "id": "P5V2Nc0MkYCs"
   },
   "source": [
    "Criando uma matriz de 18x4."
   ]
  },
  {
   "cell_type": "code",
   "execution_count": 21,
   "metadata": {
    "id": "ihHBJJiHkYCs"
   },
   "outputs": [
    {
     "data": {
      "text/plain": [
       "array([[-1.39234152e+00, -2.12941190e+00,  7.64727321e-01,\n",
       "         4.36969285e-01],\n",
       "       [ 6.13441925e-01,  2.28654205e-01,  2.46350609e+00,\n",
       "         1.57112897e-01],\n",
       "       [ 7.82971268e-01, -6.98556570e-02, -8.26272666e-01,\n",
       "         8.01145863e-01],\n",
       "       [ 2.00910279e-01,  3.84292098e-01, -3.52732641e-01,\n",
       "         1.52469051e+00],\n",
       "       [-5.57561897e-01,  2.04392395e+00, -2.06913636e+00,\n",
       "         1.49757741e+00],\n",
       "       [ 8.72549253e-01, -2.18493263e+00, -7.23328022e-01,\n",
       "        -5.75892546e-01],\n",
       "       [-1.18492440e+00,  1.24670930e+00,  8.68448125e-01,\n",
       "         4.62731575e-02],\n",
       "       [-2.44265254e-01,  2.41293536e-01, -9.48198208e-01,\n",
       "        -7.53961405e-01],\n",
       "       [ 6.05780683e-01,  9.64168122e-01, -2.95803503e+00,\n",
       "         2.49869132e-01],\n",
       "       [-4.95040903e-01,  1.57900044e+00,  6.19049392e-01,\n",
       "        -9.61141772e-01],\n",
       "       [ 9.53403448e-01,  1.50582733e-01,  9.36814301e-01,\n",
       "        -9.66533388e-01],\n",
       "       [-2.41725473e+00, -3.63945905e-01, -1.10795554e+00,\n",
       "        -1.84043568e+00],\n",
       "       [ 8.96324720e-01, -1.11322348e+00, -1.96372585e-01,\n",
       "        -8.06891733e-01],\n",
       "       [-4.13026746e-01, -7.36279474e-01, -4.19134534e-01,\n",
       "        -2.76780632e-02],\n",
       "       [ 1.88551737e-01, -1.09665229e-01, -6.94415360e-01,\n",
       "        -1.40049560e+00],\n",
       "       [-1.48712433e+00,  9.36949430e-01,  6.87473435e-01,\n",
       "        -6.84014169e-01],\n",
       "       [ 7.39128951e-01, -1.41691358e+00, -1.24666735e+00,\n",
       "        -4.57834225e-04],\n",
       "       [-1.97342787e+00, -4.65061206e-01,  8.98014971e-01,\n",
       "        -3.87780778e-02]])"
      ]
     },
     "execution_count": 21,
     "metadata": {},
     "output_type": "execute_result"
    }
   ],
   "source": [
    "X.reshape((18, 4))"
   ]
  },
  {
   "cell_type": "markdown",
   "metadata": {
    "id": "VhqDzCmukYCs"
   },
   "source": [
    "Ou um vetor de 72"
   ]
  },
  {
   "cell_type": "code",
   "execution_count": 22,
   "metadata": {
    "id": "YM_BvgpikYCt"
   },
   "outputs": [
    {
     "data": {
      "text/plain": [
       "array([-1.39234152e+00, -2.12941190e+00,  7.64727321e-01,  4.36969285e-01,\n",
       "        6.13441925e-01,  2.28654205e-01,  2.46350609e+00,  1.57112897e-01,\n",
       "        7.82971268e-01, -6.98556570e-02, -8.26272666e-01,  8.01145863e-01,\n",
       "        2.00910279e-01,  3.84292098e-01, -3.52732641e-01,  1.52469051e+00,\n",
       "       -5.57561897e-01,  2.04392395e+00, -2.06913636e+00,  1.49757741e+00,\n",
       "        8.72549253e-01, -2.18493263e+00, -7.23328022e-01, -5.75892546e-01,\n",
       "       -1.18492440e+00,  1.24670930e+00,  8.68448125e-01,  4.62731575e-02,\n",
       "       -2.44265254e-01,  2.41293536e-01, -9.48198208e-01, -7.53961405e-01,\n",
       "        6.05780683e-01,  9.64168122e-01, -2.95803503e+00,  2.49869132e-01,\n",
       "       -4.95040903e-01,  1.57900044e+00,  6.19049392e-01, -9.61141772e-01,\n",
       "        9.53403448e-01,  1.50582733e-01,  9.36814301e-01, -9.66533388e-01,\n",
       "       -2.41725473e+00, -3.63945905e-01, -1.10795554e+00, -1.84043568e+00,\n",
       "        8.96324720e-01, -1.11322348e+00, -1.96372585e-01, -8.06891733e-01,\n",
       "       -4.13026746e-01, -7.36279474e-01, -4.19134534e-01, -2.76780632e-02,\n",
       "        1.88551737e-01, -1.09665229e-01, -6.94415360e-01, -1.40049560e+00,\n",
       "       -1.48712433e+00,  9.36949430e-01,  6.87473435e-01, -6.84014169e-01,\n",
       "        7.39128951e-01, -1.41691358e+00, -1.24666735e+00, -4.57834225e-04,\n",
       "       -1.97342787e+00, -4.65061206e-01,  8.98014971e-01, -3.87780778e-02])"
      ]
     },
     "execution_count": 22,
     "metadata": {},
     "output_type": "execute_result"
    }
   ],
   "source": [
    "X.reshape(72)"
   ]
  },
  {
   "cell_type": "markdown",
   "metadata": {
    "id": "GWuDrr-NkYCt"
   },
   "source": [
    "A chamada flatten e ravel faz a mesma coisa, criam uma visão de uma dimensão da matriz."
   ]
  },
  {
   "cell_type": "code",
   "execution_count": 23,
   "metadata": {
    "id": "alqpyX3AkYCt"
   },
   "outputs": [
    {
     "data": {
      "text/plain": [
       "array([-1.39234152e+00, -2.12941190e+00,  7.64727321e-01,  4.36969285e-01,\n",
       "        6.13441925e-01,  2.28654205e-01,  2.46350609e+00,  1.57112897e-01,\n",
       "        7.82971268e-01, -6.98556570e-02, -8.26272666e-01,  8.01145863e-01,\n",
       "        2.00910279e-01,  3.84292098e-01, -3.52732641e-01,  1.52469051e+00,\n",
       "       -5.57561897e-01,  2.04392395e+00, -2.06913636e+00,  1.49757741e+00,\n",
       "        8.72549253e-01, -2.18493263e+00, -7.23328022e-01, -5.75892546e-01,\n",
       "       -1.18492440e+00,  1.24670930e+00,  8.68448125e-01,  4.62731575e-02,\n",
       "       -2.44265254e-01,  2.41293536e-01, -9.48198208e-01, -7.53961405e-01,\n",
       "        6.05780683e-01,  9.64168122e-01, -2.95803503e+00,  2.49869132e-01,\n",
       "       -4.95040903e-01,  1.57900044e+00,  6.19049392e-01, -9.61141772e-01,\n",
       "        9.53403448e-01,  1.50582733e-01,  9.36814301e-01, -9.66533388e-01,\n",
       "       -2.41725473e+00, -3.63945905e-01, -1.10795554e+00, -1.84043568e+00,\n",
       "        8.96324720e-01, -1.11322348e+00, -1.96372585e-01, -8.06891733e-01,\n",
       "       -4.13026746e-01, -7.36279474e-01, -4.19134534e-01, -2.76780632e-02,\n",
       "        1.88551737e-01, -1.09665229e-01, -6.94415360e-01, -1.40049560e+00,\n",
       "       -1.48712433e+00,  9.36949430e-01,  6.87473435e-01, -6.84014169e-01,\n",
       "        7.39128951e-01, -1.41691358e+00, -1.24666735e+00, -4.57834225e-04,\n",
       "       -1.97342787e+00, -4.65061206e-01,  8.98014971e-01, -3.87780778e-02])"
      ]
     },
     "execution_count": 23,
     "metadata": {},
     "output_type": "execute_result"
    }
   ],
   "source": [
    "X.flatten()"
   ]
  },
  {
   "cell_type": "code",
   "execution_count": 24,
   "metadata": {
    "id": "bxHTo2PSkYCu"
   },
   "outputs": [
    {
     "data": {
      "text/plain": [
       "array([-1.39234152e+00, -2.12941190e+00,  7.64727321e-01,  4.36969285e-01,\n",
       "        6.13441925e-01,  2.28654205e-01,  2.46350609e+00,  1.57112897e-01,\n",
       "        7.82971268e-01, -6.98556570e-02, -8.26272666e-01,  8.01145863e-01,\n",
       "        2.00910279e-01,  3.84292098e-01, -3.52732641e-01,  1.52469051e+00,\n",
       "       -5.57561897e-01,  2.04392395e+00, -2.06913636e+00,  1.49757741e+00,\n",
       "        8.72549253e-01, -2.18493263e+00, -7.23328022e-01, -5.75892546e-01,\n",
       "       -1.18492440e+00,  1.24670930e+00,  8.68448125e-01,  4.62731575e-02,\n",
       "       -2.44265254e-01,  2.41293536e-01, -9.48198208e-01, -7.53961405e-01,\n",
       "        6.05780683e-01,  9.64168122e-01, -2.95803503e+00,  2.49869132e-01,\n",
       "       -4.95040903e-01,  1.57900044e+00,  6.19049392e-01, -9.61141772e-01,\n",
       "        9.53403448e-01,  1.50582733e-01,  9.36814301e-01, -9.66533388e-01,\n",
       "       -2.41725473e+00, -3.63945905e-01, -1.10795554e+00, -1.84043568e+00,\n",
       "        8.96324720e-01, -1.11322348e+00, -1.96372585e-01, -8.06891733e-01,\n",
       "       -4.13026746e-01, -7.36279474e-01, -4.19134534e-01, -2.76780632e-02,\n",
       "        1.88551737e-01, -1.09665229e-01, -6.94415360e-01, -1.40049560e+00,\n",
       "       -1.48712433e+00,  9.36949430e-01,  6.87473435e-01, -6.84014169e-01,\n",
       "        7.39128951e-01, -1.41691358e+00, -1.24666735e+00, -4.57834225e-04,\n",
       "       -1.97342787e+00, -4.65061206e-01,  8.98014971e-01, -3.87780778e-02])"
      ]
     },
     "execution_count": 24,
     "metadata": {},
     "output_type": "execute_result"
    }
   ],
   "source": [
    "X.ravel()"
   ]
  },
  {
   "cell_type": "markdown",
   "metadata": {
    "id": "8XVtEbbUkYCu"
   },
   "source": [
    "As funções incorporadas ao NumPy podem ser facilmente chamadas em matrizes. A maioria das funções são aplicadas a um elemento de array (como a multiplicação escalar). Por exemplo, se chamarmos `log()` em um array, o logaritmo será obtido de cada elemento. "
   ]
  },
  {
   "cell_type": "code",
   "execution_count": 25,
   "metadata": {
    "id": "UFptlcZUkYCu"
   },
   "outputs": [
    {
     "data": {
      "text/plain": [
       "array([1.25276297, 1.60943791, 0.69314718, 2.07944154, 1.43508453])"
      ]
     },
     "execution_count": 25,
     "metadata": {},
     "output_type": "execute_result"
    }
   ],
   "source": [
    "np.log(data)"
   ]
  },
  {
   "cell_type": "markdown",
   "metadata": {
    "id": "7TRI4e3VkYCu"
   },
   "source": [
    "Mean tira a média"
   ]
  },
  {
   "cell_type": "code",
   "execution_count": 26,
   "metadata": {
    "id": "DvDfnTTTkYCv"
   },
   "outputs": [
    {
     "data": {
      "text/plain": [
       "4.54"
      ]
     },
     "execution_count": 26,
     "metadata": {},
     "output_type": "execute_result"
    }
   ],
   "source": [
    "np.mean(data)"
   ]
  },
  {
   "cell_type": "markdown",
   "metadata": {
    "id": "iXfVToOlkYCv"
   },
   "source": [
    "Algumas funções podem ser chamadas direto no vetor, nem todas serão assim. O importante é ler a [documentação](http://numpy.org) e aprender. Com um pouco de prática você vai se acostumando."
   ]
  },
  {
   "cell_type": "code",
   "execution_count": 27,
   "metadata": {
    "id": "RJSwkl2wkYCv"
   },
   "outputs": [
    {
     "data": {
      "text/plain": [
       "4.54"
      ]
     },
     "execution_count": 27,
     "metadata": {},
     "output_type": "execute_result"
    }
   ],
   "source": [
    "data.mean()"
   ]
  },
  {
   "cell_type": "markdown",
   "metadata": {
    "id": "7ivgQwQOkYCw"
   },
   "source": [
    "Abaixo temos a mediana,"
   ]
  },
  {
   "cell_type": "code",
   "execution_count": 28,
   "metadata": {
    "id": "NtVvK0gIkYCw"
   },
   "outputs": [
    {
     "data": {
      "text/plain": [
       "4.2"
      ]
     },
     "execution_count": 28,
     "metadata": {},
     "output_type": "execute_result"
    }
   ],
   "source": [
    "np.median(data) # por exemplo, não existe data.median(). Faz sentido? Não. Mas é assim."
   ]
  },
  {
   "cell_type": "markdown",
   "metadata": {
    "id": "AaFzDcqIkYCw"
   },
   "source": [
    "Em matrizes as funções operam em todos os elemntos."
   ]
  },
  {
   "cell_type": "code",
   "execution_count": 29,
   "metadata": {
    "id": "Oo0Hl94jkYCx"
   },
   "outputs": [
    {
     "data": {
      "text/plain": [
       "-0.08976044313197429"
      ]
     },
     "execution_count": 29,
     "metadata": {},
     "output_type": "execute_result"
    }
   ],
   "source": [
    "np.median(X)"
   ]
  },
  {
   "cell_type": "code",
   "execution_count": 30,
   "metadata": {
    "id": "FhiNQqitkYCx"
   },
   "outputs": [
    {
     "data": {
      "text/plain": [
       "-0.17739551812622947"
      ]
     },
     "execution_count": 30,
     "metadata": {},
     "output_type": "execute_result"
    }
   ],
   "source": [
    "X.mean()"
   ]
  },
  {
   "cell_type": "code",
   "execution_count": 31,
   "metadata": {
    "id": "vrxTfOm_kYCx"
   },
   "outputs": [
    {
     "data": {
      "text/plain": [
       "array([[2.15265233, 2.06313279, 2.3762748 , 2.34535424, 2.3621213 ,\n",
       "        2.32519302, 2.52280486, 2.31817424],\n",
       "       [2.37796816, 2.29557501, 2.21634367, 2.37965223, 2.32247696,\n",
       "        2.34029429, 2.2666747 , 2.44449173],\n",
       "       [2.24521422, 2.4885603 , 2.07076194, 2.44213635, 2.3862412 ,\n",
       "        2.05605358, 2.22750286, 2.24327103],\n",
       "       [2.17646339, 2.42007558, 2.38586392, 2.30720174, 2.27785529,\n",
       "        2.32642793, 2.20296383, 2.2241952 ],\n",
       "       [2.3613992 , 2.39463251, 1.95188725, 2.32726494, 2.25181367,\n",
       "        2.44919315, 2.3626495 , 2.20153286],\n",
       "       [2.39365023, 2.31753112, 2.39213456, 2.20093619, 2.02587531,\n",
       "        2.2655117 , 2.185157  , 2.09919078],\n",
       "       [2.38842555, 2.18456439, 2.28275246, 2.2184541 , 2.26040522,\n",
       "        2.22610575, 2.25976793, 2.29981345],\n",
       "       [2.32126471, 2.29155799, 2.23061472, 2.15170457, 2.1415798 ,\n",
       "        2.39214691, 2.36907235, 2.23173183],\n",
       "       [2.37389398, 2.14979357, 2.1694345 , 2.30253931, 2.08275755,\n",
       "        2.25496282, 2.38858066, 2.29869975]])"
      ]
     },
     "execution_count": 31,
     "metadata": {},
     "output_type": "execute_result"
    }
   ],
   "source": [
    "np.log(X + 10)"
   ]
  },
  {
   "cell_type": "markdown",
   "metadata": {
    "id": "rOUQ4KRokYCy"
   },
   "source": [
    "Porém, caso você queira a media de linhas ou colunas use `axis`. Antes, vamos ver o tamanho do vetor."
   ]
  },
  {
   "cell_type": "code",
   "execution_count": 32,
   "metadata": {
    "id": "wPq0-1-VkYCy"
   },
   "outputs": [
    {
     "data": {
      "text/plain": [
       "(9, 8)"
      ]
     },
     "execution_count": 32,
     "metadata": {},
     "output_type": "execute_result"
    }
   ],
   "source": [
    "X.shape"
   ]
  },
  {
   "cell_type": "code",
   "execution_count": 33,
   "metadata": {
    "id": "QQN-JbHdkYCz"
   },
   "outputs": [
    {
     "data": {
      "text/plain": [
       "array([ 0.11459255, -0.0481873 , -0.60232329, -0.01583819, -0.59369315,\n",
       "       -0.0422255 ,  0.12407722, -0.35556648])"
      ]
     },
     "execution_count": 33,
     "metadata": {},
     "output_type": "execute_result"
    }
   ],
   "source": [
    "np.mean(X, axis=0) # média das colunas. como temos 8 colunas, temos 8 elementos."
   ]
  },
  {
   "cell_type": "code",
   "execution_count": 34,
   "metadata": {
    "id": "hZQ8lasnkYC0"
   },
   "outputs": [
    {
     "data": {
      "text/plain": [
       "(8,)"
      ]
     },
     "execution_count": 34,
     "metadata": {},
     "output_type": "execute_result"
    }
   ],
   "source": [
    "np.mean(X, axis=0).shape"
   ]
  },
  {
   "cell_type": "code",
   "execution_count": 35,
   "metadata": {
    "id": "ni8HPjItkYC0"
   },
   "outputs": [
    {
     "data": {
      "text/plain": [
       "array([ 0.14283229,  0.30564363, -0.21210011, -0.09107814, -0.04954374,\n",
       "       -0.58191559, -0.35203524, -0.32034251, -0.43802025])"
      ]
     },
     "execution_count": 35,
     "metadata": {},
     "output_type": "execute_result"
    }
   ],
   "source": [
    "np.mean(X, axis=1) # média das linhas"
   ]
  },
  {
   "cell_type": "code",
   "execution_count": 36,
   "metadata": {
    "id": "SCDwA0tskYC1"
   },
   "outputs": [
    {
     "data": {
      "text/plain": [
       "(9,)"
      ]
     },
     "execution_count": 36,
     "metadata": {},
     "output_type": "execute_result"
    }
   ],
   "source": [
    "np.mean(X, axis=1).shape"
   ]
  },
  {
   "cell_type": "markdown",
   "metadata": {
    "id": "2Im4RuRskYC1"
   },
   "source": [
    "Lembre-se que eixo 0 é coluna. Eixo 1 é linas."
   ]
  },
  {
   "cell_type": "markdown",
   "metadata": {
    "id": "sr3lYt3akYC1"
   },
   "source": [
    "### Multiplicação de Matrizes"
   ]
  },
  {
   "cell_type": "markdown",
   "metadata": {
    "id": "YxFqErJKkYC5"
   },
   "source": [
    "Para transpor uma matriz fazemos uso de .T"
   ]
  },
  {
   "cell_type": "code",
   "execution_count": 37,
   "metadata": {
    "id": "Ln5btJWfkYC5"
   },
   "outputs": [
    {
     "data": {
      "text/plain": [
       "(9, 8)"
      ]
     },
     "execution_count": 37,
     "metadata": {},
     "output_type": "execute_result"
    }
   ],
   "source": [
    "X.shape"
   ]
  },
  {
   "cell_type": "code",
   "execution_count": 38,
   "metadata": {
    "id": "Kpojxl1vkYC6"
   },
   "outputs": [
    {
     "data": {
      "text/plain": [
       "(8, 9)"
      ]
     },
     "execution_count": 38,
     "metadata": {},
     "output_type": "execute_result"
    }
   ],
   "source": [
    "X.T.shape"
   ]
  },
  {
   "cell_type": "code",
   "execution_count": 39,
   "metadata": {
    "id": "oyfnSsdUkYC6"
   },
   "outputs": [
    {
     "data": {
      "text/plain": [
       "array([[-1.39234152e+00,  7.82971268e-01, -5.57561897e-01,\n",
       "        -1.18492440e+00,  6.05780683e-01,  9.53403448e-01,\n",
       "         8.96324720e-01,  1.88551737e-01,  7.39128951e-01],\n",
       "       [-2.12941190e+00, -6.98556570e-02,  2.04392395e+00,\n",
       "         1.24670930e+00,  9.64168122e-01,  1.50582733e-01,\n",
       "        -1.11322348e+00, -1.09665229e-01, -1.41691358e+00],\n",
       "       [ 7.64727321e-01, -8.26272666e-01, -2.06913636e+00,\n",
       "         8.68448125e-01, -2.95803503e+00,  9.36814301e-01,\n",
       "        -1.96372585e-01, -6.94415360e-01, -1.24666735e+00],\n",
       "       [ 4.36969285e-01,  8.01145863e-01,  1.49757741e+00,\n",
       "         4.62731575e-02,  2.49869132e-01, -9.66533388e-01,\n",
       "        -8.06891733e-01, -1.40049560e+00, -4.57834225e-04],\n",
       "       [ 6.13441925e-01,  2.00910279e-01,  8.72549253e-01,\n",
       "        -2.44265254e-01, -4.95040903e-01, -2.41725473e+00,\n",
       "        -4.13026746e-01, -1.48712433e+00, -1.97342787e+00],\n",
       "       [ 2.28654205e-01,  3.84292098e-01, -2.18493263e+00,\n",
       "         2.41293536e-01,  1.57900044e+00, -3.63945905e-01,\n",
       "        -7.36279474e-01,  9.36949430e-01, -4.65061206e-01],\n",
       "       [ 2.46350609e+00, -3.52732641e-01, -7.23328022e-01,\n",
       "        -9.48198208e-01,  6.19049392e-01, -1.10795554e+00,\n",
       "        -4.19134534e-01,  6.87473435e-01,  8.98014971e-01],\n",
       "       [ 1.57112897e-01,  1.52469051e+00, -5.75892546e-01,\n",
       "        -7.53961405e-01, -9.61141772e-01, -1.84043568e+00,\n",
       "        -2.76780632e-02, -6.84014169e-01, -3.87780778e-02]])"
      ]
     },
     "execution_count": 39,
     "metadata": {},
     "output_type": "execute_result"
    }
   ],
   "source": [
    "X.T"
   ]
  },
  {
   "cell_type": "markdown",
   "metadata": {
    "id": "MXyNP3oxkYC6"
   },
   "source": [
    "Para multiplicar matrizes, do ponto de visto de multiplicação matricial como definido na álgebra linear, fazemos uso de `@`."
   ]
  },
  {
   "cell_type": "code",
   "execution_count": 40,
   "metadata": {
    "id": "7GeBFAomkYC6"
   },
   "outputs": [
    {
     "data": {
      "text/plain": [
       "array([[13.77090045, -1.64150276, -6.34070806, -2.8696111 , -3.61807931,\n",
       "        -5.93872834, -0.83884756, -0.28391737,  1.92376329],\n",
       "       [-1.64150276,  4.57963185,  1.04284944, -2.4668004 ,  1.87481731,\n",
       "        -3.85322541,  0.03509503, -1.61705403,  0.75633147],\n",
       "       [-6.34070806,  1.04284944, 17.40269222,  1.86092324,  4.35148377,\n",
       "        -3.06232493, -2.00971561, -4.43789789, -2.06234763],\n",
       "       [-2.8696111 , -2.4668004 ,  1.86092324,  5.30009899, -1.43349853,\n",
       "         2.76768442, -2.31630052, -0.57481744, -4.17741378],\n",
       "       [-3.61807931,  1.87481731,  4.35148377, -1.43349853, 14.15431978,\n",
       "        -0.58488629, -1.34208165,  5.01129516,  3.60496095],\n",
       "       [-5.93872834, -3.85322541, -3.06232493,  2.76768442, -0.58488629,\n",
       "        13.33380713,  3.06452888,  4.6172932 ,  3.33981494],\n",
       "       [-0.83884756,  0.03509503, -2.00971561, -2.31630052, -1.34208165,\n",
       "         3.06452888,  3.62143937,  1.21265177,  3.26719945],\n",
       "       [-0.28391737, -1.61705403, -4.43789789, -0.57481744,  5.01129516,\n",
       "         4.6172932 ,  1.21265177,  6.52108695,  4.30397631],\n",
       "       [ 1.92376329,  0.75633147, -2.06234763, -4.17741378,  3.60496095,\n",
       "         3.33981494,  3.26719945,  4.30397631,  9.02676947]])"
      ]
     },
     "execution_count": 40,
     "metadata": {},
     "output_type": "execute_result"
    }
   ],
   "source": [
    "X @ X.T"
   ]
  },
  {
   "cell_type": "markdown",
   "metadata": {
    "id": "An3Pp3vOkYC7"
   },
   "source": [
    "O uso de `*` realiza uma operação ponto a ponto"
   ]
  },
  {
   "cell_type": "code",
   "execution_count": 41,
   "metadata": {
    "id": "Z89fE1pzkYC7"
   },
   "outputs": [
    {
     "data": {
      "text/plain": [
       "array([[1.93861491e+00, 4.53439504e+00, 5.84807876e-01, 1.90942156e-01,\n",
       "        3.76310996e-01, 5.22827456e-02, 6.06886226e+00, 2.46844624e-02],\n",
       "       [6.13044006e-01, 4.87981281e-03, 6.82726518e-01, 6.41834694e-01,\n",
       "        4.03649401e-02, 1.47680416e-01, 1.24420316e-01, 2.32468115e+00],\n",
       "       [3.10875269e-01, 4.17762513e+00, 4.28132530e+00, 2.24273809e+00,\n",
       "        7.61342200e-01, 4.77393058e+00, 5.23203427e-01, 3.31652224e-01],\n",
       "       [1.40404584e+00, 1.55428407e+00, 7.54202146e-01, 2.14120511e-03,\n",
       "        5.96655142e-02, 5.82225703e-02, 8.99079842e-01, 5.68457800e-01],\n",
       "       [3.66970236e-01, 9.29620167e-01, 8.74997125e+00, 6.24345833e-02,\n",
       "        2.45065496e-01, 2.49324239e+00, 3.83222150e-01, 9.23793505e-01],\n",
       "       [9.08978135e-01, 2.26751596e-02, 8.77621034e-01, 9.34186790e-01,\n",
       "        5.84312042e+00, 1.32456622e-01, 1.22756548e+00, 3.38720349e+00],\n",
       "       [8.03398004e-01, 1.23926651e+00, 3.85621922e-02, 6.51074268e-01,\n",
       "        1.70591093e-01, 5.42107464e-01, 1.75673757e-01, 7.66075183e-04],\n",
       "       [3.55517576e-02, 1.20264625e-02, 4.82212693e-01, 1.96138791e+00,\n",
       "        2.21153878e+00, 8.77874235e-01, 4.72619724e-01, 4.67875384e-01],\n",
       "       [5.46311606e-01, 2.00764408e+00, 1.55417948e+00, 2.09612177e-07,\n",
       "        3.89441754e+00, 2.16281925e-01, 8.06430888e-01, 1.50373932e-03]])"
      ]
     },
     "execution_count": 41,
     "metadata": {},
     "output_type": "execute_result"
    }
   ],
   "source": [
    "X * X"
   ]
  },
  {
   "cell_type": "markdown",
   "metadata": {
    "id": "nsrwbAJFkYC7"
   },
   "source": [
    "Observe a diferença de tamanhos"
   ]
  },
  {
   "cell_type": "code",
   "execution_count": 42,
   "metadata": {
    "id": "I1bnlN9qkYC7"
   },
   "outputs": [
    {
     "data": {
      "text/plain": [
       "(9, 8)"
      ]
     },
     "execution_count": 42,
     "metadata": {},
     "output_type": "execute_result"
    }
   ],
   "source": [
    "(X * X).shape"
   ]
  },
  {
   "cell_type": "code",
   "execution_count": 43,
   "metadata": {
    "id": "fdUFiP95kYC8"
   },
   "outputs": [
    {
     "data": {
      "text/plain": [
       "(9, 9)"
      ]
     },
     "execution_count": 43,
     "metadata": {},
     "output_type": "execute_result"
    }
   ],
   "source": [
    "(X @ X.T).shape"
   ]
  },
  {
   "cell_type": "markdown",
   "metadata": {
    "id": "VDokQl8VkYC8"
   },
   "source": [
    "**Pense:** Para o nosso `X` de tamanho `(9, 8)`, qual o motivo de `X * X.T` não funcionar? Qual o motivo de `X @ X` não funcionar?"
   ]
  },
  {
   "cell_type": "markdown",
   "metadata": {
    "id": "ni2zvJhvkYC8"
   },
   "source": [
    "## Correção Automática\n",
    "\n",
    "Nossa correção automática depende das funções abaixo. Tais funções comparam valores que serão computados pelo seu código com uma saída esperada. Normalmente, vocês não fazer uso de tais funções em notebooks como este. Porém, elas são chave em ambientes de testes automáticos (fora do nosso escopo).\n",
    "\n",
    "Observe como algumas funções comparam valores e outras comparam vetores. Além do mais, temos funções para comparar dentro de algumas casas decimais."
   ]
  },
  {
   "cell_type": "code",
   "execution_count": 44,
   "metadata": {
    "id": "SlkNmYdzkYC8"
   },
   "outputs": [],
   "source": [
    "from numpy.testing import assert_almost_equal\n",
    "from numpy.testing import assert_equal\n",
    "\n",
    "from numpy.testing import assert_array_almost_equal\n",
    "from numpy.testing import assert_array_equal"
   ]
  },
  {
   "cell_type": "code",
   "execution_count": 45,
   "metadata": {
    "id": "sdM-XX93kYC9"
   },
   "outputs": [],
   "source": [
    "# caso você mude um dos valores vamos receber um erro!\n",
    "assert_array_equal(2, 2)\n",
    "\n",
    "# caso você mude um dos valores vamos receber um erro!\n",
    "assert_array_equal([1, 2], [1, 2])\n",
    "\n",
    "# caso você mude um dos valores vamos receber um erro!\n",
    "assert_almost_equal(3.1415, 3.14, 1)"
   ]
  },
  {
   "cell_type": "markdown",
   "metadata": {
    "id": "Wqek8HiYkYC-"
   },
   "source": [
    "Caso você mude um dos valores abaixo vamos receber um erro! Como o abaixo.\n",
    "\n",
    "```\n",
    "-----------------------------------------------------------------------\n",
    "AssertionError                        Traceback (most recent call last)\n",
    "<ipython-input-10-396672d880f2> in <module>\n",
    "----> 1 assert_equal(2, 3) # caso você mude um dos valores vamos receber um erro!\n",
    "\n",
    "~/miniconda3/lib/python3.7/site-packages/numpy/testing/_private/utils.py in assert_equal(actual, desired, err_msg, verbose)\n",
    "    413         # Explicitly use __eq__ for comparison, gh-2552\n",
    "    414         if not (desired == actual):\n",
    "--> 415             raise AssertionError(msg)\n",
    "    416 \n",
    "    417     except (DeprecationWarning, FutureWarning) as e:\n",
    "\n",
    "AssertionError: \n",
    "Items are not equal:\n",
    " ACTUAL: 2\n",
    " DESIRED: 3\n",
    " ```"
   ]
  },
  {
   "cell_type": "markdown",
   "metadata": {
    "id": "599LX3cEkYC-"
   },
   "source": [
    "É essencial que todo seu código execute sem erros! Portanto, antes de submeter clique em `Kernel` no menu acima. Depois clique em `Restart & Execute All.`\n",
    "\n",
    "**Garanta que o notebook executa até o fim!** Isto é, sem erros como o acima."
   ]
  },
  {
   "cell_type": "markdown",
   "metadata": {
    "id": "cBHmFA1akYC-"
   },
   "source": [
    "## Funções em Python"
   ]
  },
  {
   "cell_type": "markdown",
   "metadata": {
    "id": "-p7ndTTGkYC_"
   },
   "source": [
    "Para criar uma função em Python fazemos uso da palavra-chave: \n",
    "```python\n",
    "def\n",
    "```\n",
    "\n",
    "Todos nossos exercícios farão uso de funções. **Mantenha a assinatura das funções exatamente como requisitado, a correção automática depende disso.** Abaixo, temos um exempo de uma função que imprime algo na tela!"
   ]
  },
  {
   "cell_type": "code",
   "execution_count": 46,
   "metadata": {
    "id": "S7-tItL0kYC_"
   },
   "outputs": [],
   "source": [
    "def print_something(txt):\n",
    "    print(f'Voce passou o argumento: {txt}')"
   ]
  },
  {
   "cell_type": "code",
   "execution_count": 47,
   "metadata": {
    "id": "h8xrR-wNkYDA"
   },
   "outputs": [
    {
     "name": "stdout",
     "output_type": "stream",
     "text": [
      "Voce passou o argumento: DCC 212\n"
     ]
    }
   ],
   "source": [
    "print_something('DCC 212')"
   ]
  },
  {
   "cell_type": "markdown",
   "metadata": {
    "id": "BjqOnJcAkYDB"
   },
   "source": [
    "Podemos também dizer o tipo do argumento, porém faremos pouco uso disto em ICD."
   ]
  },
  {
   "cell_type": "code",
   "execution_count": 48,
   "metadata": {
    "id": "Q0MYDJuykYDB"
   },
   "outputs": [],
   "source": [
    "def print_something(txt: str):\n",
    "    print(f'Voce passou o argumento: {txt}')"
   ]
  },
  {
   "cell_type": "code",
   "execution_count": 49,
   "metadata": {
    "id": "RzhDHqqvkYDB"
   },
   "outputs": [
    {
     "name": "stdout",
     "output_type": "stream",
     "text": [
      "Voce passou o argumento: DCC 212\n"
     ]
    }
   ],
   "source": [
    "print_something('DCC 212')"
   ]
  },
  {
   "cell_type": "markdown",
   "metadata": {
    "id": "Bdc_l1rBkYDC"
   },
   "source": [
    "Abaixo temos uma função que soma, a soma, dois vetores"
   ]
  },
  {
   "cell_type": "code",
   "execution_count": 50,
   "metadata": {
    "id": "Wo9v1ZX8kYDC"
   },
   "outputs": [],
   "source": [
    "def sum_of_sum_vectors(array_1, array_2):\n",
    "    return (array_1 + array_2).sum()"
   ]
  },
  {
   "cell_type": "code",
   "execution_count": 51,
   "metadata": {
    "id": "5OBGn462kYDD"
   },
   "outputs": [],
   "source": [
    "x = np.array([1, 2])\n",
    "y = np.array([1, 2])"
   ]
  },
  {
   "cell_type": "code",
   "execution_count": 52,
   "metadata": {
    "id": "FOTYME6AkYDF"
   },
   "outputs": [
    {
     "data": {
      "text/plain": [
       "6"
      ]
     },
     "execution_count": 52,
     "metadata": {},
     "output_type": "execute_result"
    }
   ],
   "source": [
    "sum_of_sum_vectors(x, y)"
   ]
  },
  {
   "cell_type": "markdown",
   "metadata": {
    "id": "W3eV_oU-kYDF"
   },
   "source": [
    "Abaixo temos um teste, tais testes vão avaliar o seu código. Nem todos estão aqui no notebook!"
   ]
  },
  {
   "cell_type": "code",
   "execution_count": 53,
   "metadata": {
    "id": "vvBvyeEvkYDG"
   },
   "outputs": [],
   "source": [
    "assert_equal(6, sum_of_sum_vectors(x, y))"
   ]
  },
  {
   "cell_type": "markdown",
   "metadata": {
    "id": "-O91DIu9kYDG"
   },
   "source": [
    "## Exercício 01\n",
    "\n",
    "Inicialmente, crie uma função que recebe duas listas de números, converte as duas para um vetor numpy usando `np.array` e retorna o produto interno das duas listas. \n",
    "\n",
    "__Dicas:__  \n",
    "1. Tente fazer um código sem nenhum **for**! Ou seja, numpy permite operações em vetores e matrizes, onde: `np.array([1, 2]) + np.array([2, 2]) = np.array([3, 4])`.\n",
    "\n",
    "__Funções:__\n",
    "1. `np.sum(array)` soma os elementos do array. `array.sum()` tem o mesmo efeito!"
   ]
  },
  {
   "cell_type": "code",
   "execution_count": 56,
   "metadata": {
    "id": "C9qnDXNWkYDG"
   },
   "outputs": [],
   "source": [
    "def inner(array_1, array_2):\n",
    "    res = array_1 * array_2\n",
    "    res = res.sum()\n",
    "    return res"
   ]
  },
  {
   "cell_type": "code",
   "execution_count": 57,
   "metadata": {
    "id": "2GsDgL82kYDJ"
   },
   "outputs": [],
   "source": [
    "x1 = np.array([2, 4, 8])\n",
    "x2 = np.array([10, 100, 1000])\n",
    "assert_equal(20 + 400 + 8000, inner(x1, x2))"
   ]
  },
  {
   "cell_type": "markdown",
   "metadata": {
    "id": "dH_mb-E-kYDJ"
   },
   "source": [
    "## Exercício 02\n",
    "\n",
    "Implemente uma função utilizando numpy que recebe duas matrizes, multiplica as duas e retorne o valor médio das células da multiplicação. Por exemplo, ao multiplicar:\n",
    "\n",
    "```\n",
    "[1 2]\n",
    "[3 4] \n",
    "\n",
    "com \n",
    "\n",
    "[2 1]\n",
    "[1 2]\n",
    "\n",
    "temos\n",
    "\n",
    "[4  5 ]\n",
    "[10 11]\n",
    "\n",
    "onde a média de [4, 5, 10, 11] é\n",
    "\n",
    "7.5, sua resposta final!\n",
    "```\n",
    "\n",
    "\n",
    "__Dicas:__  \n",
    "1. Use o operador @ para multiplicar matrizes!"
   ]
  },
  {
   "cell_type": "code",
   "execution_count": 59,
   "metadata": {
    "id": "AgK_8Bh-kYDR"
   },
   "outputs": [],
   "source": [
    "def medmult(X_1, X_2):\n",
    "    res = X_1 @ X_2\n",
    "    res = res.mean()\n",
    "    return res"
   ]
  },
  {
   "cell_type": "code",
   "execution_count": 60,
   "metadata": {
    "id": "JHkeRxr0kYDS"
   },
   "outputs": [],
   "source": [
    "X = np.array([1, 2, 3, 4]).reshape(2, 2)\n",
    "Y = np.array([2, 1, 1, 2]).reshape(2, 2)\n",
    "assert_equal(7.5, medmult(X, Y))"
   ]
  }
 ],
 "metadata": {
  "colab": {
   "provenance": []
  },
  "kernelspec": {
   "display_name": "Python 3 (ipykernel)",
   "language": "python",
   "name": "python3"
  },
  "language_info": {
   "codemirror_mode": {
    "name": "ipython",
    "version": 3
   },
   "file_extension": ".py",
   "mimetype": "text/x-python",
   "name": "python",
   "nbconvert_exporter": "python",
   "pygments_lexer": "ipython3",
   "version": "3.8.5"
  }
 },
 "nbformat": 4,
 "nbformat_minor": 1
}
