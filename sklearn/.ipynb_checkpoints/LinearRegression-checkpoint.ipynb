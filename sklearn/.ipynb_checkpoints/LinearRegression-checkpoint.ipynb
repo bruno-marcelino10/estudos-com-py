{
 "cells": [
  {
   "cell_type": "markdown",
   "metadata": {},
   "source": [
    "# LinearRegression (Regressão Linear)"
   ]
  },
  {
   "cell_type": "markdown",
   "metadata": {},
   "source": [
    "Pressupostos iniciais para se obter uma boa regressão:\n",
    "\n",
    "* Existência de relação linear entre x e y (correlação positiva)\n",
    "* Ausência de correlação entre as variáveis explicativas (X's)\n",
    "* Variância constante na distribuição dos resíduos (Homocedasticidade - BP ou GQ < 0.05)\n",
    "* Ausência de correlação entre os resíduos e seus valores anteriores (Correlação Serial - BG, DW ou BP < 0.05)\n",
    "* Resíduos seguem uma distribuição normal (Jarque-Bera < 0.05)"
   ]
  },
  {
   "cell_type": "markdown",
   "metadata": {},
   "source": [
    "Outros testes importantes (a P-valor < 0.05):\n",
    "\n",
    "* Chow -> modelo não apresenta quebra estrutural\n",
    "* Teste-F -> modelo restrito é tão bom quanto o irrestrito\n",
    "* RESET -> não há melhores formas funcionais para modelagem da regressão"
   ]
  },
  {
   "cell_type": "code",
   "execution_count": null,
   "metadata": {},
   "outputs": [],
   "source": []
  }
 ],
 "metadata": {
  "kernelspec": {
   "display_name": "Python 3 (ipykernel)",
   "language": "python",
   "name": "python3"
  },
  "language_info": {
   "codemirror_mode": {
    "name": "ipython",
    "version": 3
   },
   "file_extension": ".py",
   "mimetype": "text/x-python",
   "name": "python",
   "nbconvert_exporter": "python",
   "pygments_lexer": "ipython3",
   "version": "3.8.5"
  }
 },
 "nbformat": 4,
 "nbformat_minor": 4
}
