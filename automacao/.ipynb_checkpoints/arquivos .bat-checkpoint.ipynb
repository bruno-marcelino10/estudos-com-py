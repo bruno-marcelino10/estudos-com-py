{
 "cells": [
  {
   "cell_type": "markdown",
   "metadata": {},
   "source": [
    "# Como usar arquivos .bat"
   ]
  },
  {
   "cell_type": "markdown",
   "metadata": {},
   "source": [
    "Arquivos .bat são arquivos em lote do windows, que executam comandos no PowerShell (terminal) ao serem abertos. Você pode automatizar tarefas do windows utilizando arquivos .bat para rodar processos em sequência."
   ]
  },
  {
   "cell_type": "markdown",
   "metadata": {},
   "source": [
    "## Tipos de Comandos"
   ]
  },
  {
   "cell_type": "markdown",
   "metadata": {},
   "source": [
    "#### Pause\n",
    "\n",
    "Impede que o terminal seja fechado ao finalizar a execução dos comandos"
   ]
  },
  {
   "cell_type": "markdown",
   "metadata": {},
   "source": [
    "#### echo \n",
    "\n",
    "Printa mensagens na tela\n",
    "\n",
    "echo. -> printa uma linha em branco"
   ]
  },
  {
   "cell_type": "markdown",
   "metadata": {},
   "source": [
    "#### > nul\n",
    "\n",
    "Impede que o comando mostre mensagens"
   ]
  },
  {
   "cell_type": "markdown",
   "metadata": {},
   "source": [
    "#### set /p variavel=mensagem\n",
    "\n",
    "Permite que o usuario insira um valor, e armazena-o. \n",
    "\n",
    "Em sequência, podemos utilizar um if para executar tarefas com condições.\n",
    "\n",
    "```\n",
    "if \"%variavel%\" == \"1\" goto opcao1\n",
    "if \"%variavel%\" == \"2\" goto opcao2\n",
    "\n",
    ":op1\n",
    "tarefa\n",
    "goto fim\n",
    "\n",
    ":op2\n",
    "tarefa\n",
    "goto fim\n",
    "\n",
    ":fim\n",
    "pause\n",
    "```"
   ]
  }
 ],
 "metadata": {
  "kernelspec": {
   "display_name": "Python 3 (ipykernel)",
   "language": "python",
   "name": "python3"
  },
  "language_info": {
   "codemirror_mode": {
    "name": "ipython",
    "version": 3
   },
   "file_extension": ".py",
   "mimetype": "text/x-python",
   "name": "python",
   "nbconvert_exporter": "python",
   "pygments_lexer": "ipython3",
   "version": "3.8.5"
  }
 },
 "nbformat": 4,
 "nbformat_minor": 4
}
